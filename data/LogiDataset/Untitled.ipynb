{
 "cells": [
  {
   "cell_type": "code",
   "execution_count": 51,
   "metadata": {},
   "outputs": [],
   "source": [
    "# Create kaldi features"
   ]
  },
  {
   "cell_type": "code",
   "execution_count": 52,
   "metadata": {},
   "outputs": [],
   "source": [
    "from bob import kaldi\n",
    "import scipy.io.wavfile\n",
    "import torch\n",
    "import numpy as np\n",
    "from pathlib import Path\n",
    "from tqdm import tqdm_notebook as tqdm"
   ]
  },
  {
   "cell_type": "code",
   "execution_count": 53,
   "metadata": {},
   "outputs": [],
   "source": [
    "def load_wav(audio_path):\n",
    "    rate, audio_sample = scipy.io.wavfile.read(audio_path)\n",
    "    audio_sample = np.cast['float64'](audio_sample)\n",
    "    return audio_sample, rate\n",
    "\n",
    "def compute_mfcc(audio_sample, rate):\n",
    "    \"\"\" (? actually mfcc(audio_sample)=mfcc(K*audio_sample)) Note: the input needs to be normalized between [-1, 1] \"\"\"\n",
    "    mfcc = kaldi.cepstral(\n",
    "       audio_sample, cepstral_type='mfcc', rate=rate, \n",
    "       raw_energy=False, \n",
    "       num_mel_bins=40,\n",
    "       num_ceps=40,\n",
    "       low_freq=20, high_freq=-400,\n",
    "       delta_order=0\n",
    "    )\n",
    "    return mfcc\n",
    "\n",
    "\n",
    "def get_mfcc(audio):\n",
    "    return compute_mfcc(*load_wav(audio))\n",
    "\n",
    "def save_to_text(file_name, mfcc):\n",
    "    with open(file_name, 'w') as f:\n",
    "        np.savetxt(f, mfcc, delimiter=', ', newline='], [', fmt='%f')\n",
    "    a = ''\n",
    "    with open(file_name, 'r') as f:\n",
    "        for l in f:\n",
    "            a = '[['+l[:-4]+']]'\n",
    "    with open(file_name, 'w') as f:\n",
    "        f.write(a)"
   ]
  },
  {
   "cell_type": "code",
   "execution_count": 54,
   "metadata": {},
   "outputs": [],
   "source": [
    "source_path = Path('wav/')\n",
    "target_path = Path('kaldi/norm/')"
   ]
  },
  {
   "cell_type": "code",
   "execution_count": 55,
   "metadata": {},
   "outputs": [
    {
     "data": {
      "application/vnd.jupyter.widget-view+json": {
       "model_id": "3dbf93c37dde45cd88eacd82ce71e437",
       "version_major": 2,
       "version_minor": 0
      },
      "text/plain": [
       "HBox(children=(IntProgress(value=0, max=1681), HTML(value='')))"
      ]
     },
     "metadata": {},
     "output_type": "display_data"
    },
    {
     "name": "stdout",
     "output_type": "stream",
     "text": [
      "\n"
     ]
    }
   ],
   "source": [
    "for wav in tqdm(source_path.iterdir(), total=1681):\n",
    "    mfcc = get_mfcc(wav)\n",
    "    save_to_text(target_path / wav.stem, mfcc)"
   ]
  },
  {
   "cell_type": "code",
   "execution_count": null,
   "metadata": {},
   "outputs": [],
   "source": []
  }
 ],
 "metadata": {
  "kernelspec": {
   "display_name": "Python 3",
   "language": "python",
   "name": "python3"
  },
  "language_info": {
   "codemirror_mode": {
    "name": "ipython",
    "version": 3
   },
   "file_extension": ".py",
   "mimetype": "text/x-python",
   "name": "python",
   "nbconvert_exporter": "python",
   "pygments_lexer": "ipython3",
   "version": "3.6.8"
  }
 },
 "nbformat": 4,
 "nbformat_minor": 2
}
