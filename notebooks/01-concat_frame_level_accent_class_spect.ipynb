{
 "cells": [
  {
   "cell_type": "markdown",
   "metadata": {},
   "source": [
    "# Accent classification with concatenated frames"
   ]
  },
  {
   "cell_type": "code",
   "execution_count": 1,
   "metadata": {},
   "outputs": [],
   "source": [
    "import torch\n",
    "import torch.nn as nn\n",
    "import torch.nn.functional as F\n",
    "from torch.utils.data import DataLoader\n",
    "#torch.multiprocessing.set_start_method(\"spawn\")"
   ]
  },
  {
   "cell_type": "code",
   "execution_count": 2,
   "metadata": {},
   "outputs": [],
   "source": [
    "# Restart from here\n",
    "DEV = False\n",
    "EPOCHS = 2\n",
    "\n",
    "DEBUG = False\n",
    "NUM_CONCAT = 20"
   ]
  },
  {
   "cell_type": "code",
   "execution_count": 3,
   "metadata": {},
   "outputs": [],
   "source": [
    "# autoreloads\n",
    "%reload_ext autoreload\n",
    "%autoreload 1\n",
    "%aimport parameters\n",
    "\n",
    "# Allows to load modules from parent directory\n",
    "from time import time\n",
    "import inspect, sys, os, json\n",
    "from os.path import dirname, abspath\n",
    "sys.path.append(dirname(dirname(abspath(inspect.getfile(inspect.currentframe())))))\n",
    "\n",
    "from pathlib import Path\n",
    "from os import makedirs\n",
    "\n",
    "from tqdm import tqdm_notebook as tqdm\n",
    "\n",
    "import numpy as np\n",
    "import pandas as pd\n",
    "\n",
    "from data.data_loader import create_binarizer, get_accents_counts\n",
    "from utils import count_parameters\n",
    "\n",
    "from tensorboardX import SummaryWriter\n",
    "\n",
    "import math\n",
    "\n",
    "from torch.utils.data import DataLoader, Dataset\n",
    "from data.data_loader import SpectrogramAccentDataset, BucketingSampler, AudioDataLoader"
   ]
  },
  {
   "cell_type": "code",
   "execution_count": 4,
   "metadata": {},
   "outputs": [],
   "source": [
    "param = parameters.get_parameters(dev=DEV, epochs=EPOCHS, us_en=True)"
   ]
  },
  {
   "cell_type": "markdown",
   "metadata": {},
   "source": [
    "## Utilities"
   ]
  },
  {
   "cell_type": "code",
   "execution_count": 5,
   "metadata": {},
   "outputs": [],
   "source": [
    "# Tensorboard\n",
    "exp_name = f'__tmp__no_kaldi_{time()}'\n",
    "tb_path = Path(param['tensorboard_dir']) / exp_name\n",
    "makedirs(tb_path, exist_ok=True)\n",
    "tb_writer = SummaryWriter(tb_path)\n",
    "\n",
    "def val_cnts(list_):\n",
    "    return pd.Series(list_).value_counts()\n",
    "\n",
    "def extract_num (s):\n",
    "    return ''.join([c if c.isdigit() else '' for c in s])\n",
    "\n",
    "def ids_list(manifest):\n",
    "    ids = []\n",
    "    with open(manifest) as f:\n",
    "        for l in f:\n",
    "            s = l.split('/')\n",
    "            ids.append(f'{s[3]}-{s[5].split(\".\")[0]}')\n",
    "    return ids\n",
    "\n",
    "def make_accent_dict(manifest_path):\n",
    "    accent_dict = {}\n",
    "    class_dict = {}\n",
    "    with open(manifest_path) as f:\n",
    "        for l in f:\n",
    "            wav, txt, acc = l.split(',')\n",
    "            num = extract_num(wav)\n",
    "            accent = acc.strip()\n",
    "            if accent not in class_dict:\n",
    "                new_key = 0 if (len(class_dict) == 0) else max(class_dict.values()) + 1\n",
    "                class_dict[accent] = new_key\n",
    "            accent_dict[num] = class_dict[accent]\n",
    "    return accent_dict, {v: k for k, v in class_dict.items()}"
   ]
  },
  {
   "cell_type": "markdown",
   "metadata": {},
   "source": [
    "## Data Loading"
   ]
  },
  {
   "cell_type": "code",
   "execution_count": 6,
   "metadata": {},
   "outputs": [],
   "source": [
    "def collate_fn(batch_tot):\n",
    "    \"\"\"This function takes list of samples and assembles a batch. It is intended to used in PyTorch DataLoader.\"\"\"\n",
    "    res, __, targets = zip(*batch_tot)\n",
    "    \n",
    "    lens = [r.size(1) for r in res]\n",
    "\n",
    "    concats = []\n",
    "    for mat in res:\n",
    "        num_frames = mat.shape[1]\n",
    "        frame_len = mat.shape[0]\n",
    "\n",
    "        mat = mat.transpose(1, 0)\n",
    "        \n",
    "        pre = np.stack([mat[0]] * NUM_CONCAT)\n",
    "        post = np.stack([mat[-1]] * NUM_CONCAT)\n",
    "\n",
    "        mat = np.concatenate([pre, mat, post])\n",
    "\n",
    "        mat_tensor = torch.tensor(mat)\n",
    "        mat_tensor = mat_tensor.view(-1)\n",
    "\n",
    "        for i in range(NUM_CONCAT, num_frames + NUM_CONCAT):\n",
    "            concat = mat_tensor[(i - NUM_CONCAT) * frame_len:(1 + i + NUM_CONCAT) * frame_len]\n",
    "\n",
    "            concats.append(concat)\n",
    "            #targets.append(accent_dict[id_])\n",
    "    res = torch.stack(concats)\n",
    "    \n",
    "    tar = []\n",
    "    [tar.extend([t] * lens[i]) for i, t in enumerate(targets)]\n",
    "    tar = torch.tensor(tar).view(-1)\n",
    "    \n",
    "    # shuffling in batch\n",
    "    idx = torch.randperm(tar.nelement())\n",
    "    res = res[idx]\n",
    "    tar = tar[idx]\n",
    "    \n",
    "    return res, tar\n",
    "\n",
    "class ConcatDataLoader(DataLoader):\n",
    "    def __init__(self, *args, **kwargs):\n",
    "        \"\"\"\n",
    "        Creates a data loader for SpeechDatasets.\n",
    "        \"\"\"\n",
    "        super(ConcatDataLoader, self).__init__(*args, **kwargs)\n",
    "        self.collate_fn = collate_fn"
   ]
  },
  {
   "cell_type": "code",
   "execution_count": 7,
   "metadata": {},
   "outputs": [],
   "source": [
    "accent_binarizer = create_binarizer(param['train_manifest'])\n",
    "labels = accent_binarizer.classes_"
   ]
  },
  {
   "cell_type": "code",
   "execution_count": 8,
   "metadata": {},
   "outputs": [],
   "source": [
    "train_dataset = SpectrogramAccentDataset(audio_conf=param['audio_conf'], \n",
    "                                        manifest_filepath=param['train_manifest'], \n",
    "                                        labels=labels,\n",
    "                                        normalize=True, \n",
    "                                        augment=param['augment'], \n",
    "                                        accent_binarizer=accent_binarizer,\n",
    "                                        kaldi=False)\n",
    "\n",
    "train_sampler = BucketingSampler(train_dataset, batch_size=param['batch_size'])\n",
    "\n",
    "train_loader = ConcatDataLoader(train_dataset,\n",
    "                                num_workers=param['num_worker'], \n",
    "                                batch_sampler=train_sampler)"
   ]
  },
  {
   "cell_type": "code",
   "execution_count": 9,
   "metadata": {},
   "outputs": [],
   "source": [
    "test_dataset = SpectrogramAccentDataset(audio_conf=param['audio_conf'], \n",
    "                                        manifest_filepath=param['test_manifest'], \n",
    "                                        labels=labels,\n",
    "                                        normalize=True, \n",
    "                                        augment=False, \n",
    "                                        accent_binarizer=accent_binarizer,\n",
    "                                        kaldi=False)\n",
    "\n",
    "test_loader = ConcatDataLoader(test_dataset,\n",
    "                                num_workers=param['num_worker'], \n",
    "                                batch_size=param['batch_size'])"
   ]
  },
  {
   "cell_type": "markdown",
   "metadata": {},
   "source": [
    "## Model definition"
   ]
  },
  {
   "cell_type": "code",
   "execution_count": 10,
   "metadata": {},
   "outputs": [],
   "source": [
    "class AccentClassifier(nn.Module):\n",
    "    def __init__(self,\n",
    "                 input_size,\n",
    "                 num_classes,\n",
    "                 DEBUG = False,):\n",
    "        \n",
    "        super(AccentClassifier, self).__init__()\n",
    "\n",
    "        self._DEBUG = DEBUG\n",
    "        \n",
    "        self.batchnorm = nn.BatchNorm1d(input_size)\n",
    "        \n",
    "        self.fc = nn.Sequential( \n",
    "            nn.Linear(input_size, 1024),\n",
    "            nn.ReLU(),\n",
    "            nn.Linear(1024, num_classes),\n",
    "            nn.ReLU(),\n",
    "        )\n",
    "\n",
    "        \n",
    "        self.softmax = nn.Softmax(dim=1)\n",
    "\n",
    "    def forward(self, x):\n",
    "        if self._DEBUG:\n",
    "            print('input x', x.size())\n",
    "\n",
    "        x = self.batchnorm(x)\n",
    "        \n",
    "        if self._DEBUG:\n",
    "            print('after batchnorm', x.size())\n",
    "\n",
    "        x = self.fc(x)\n",
    "        \n",
    "        if self._DEBUG:\n",
    "            print('after fc', x.size())\n",
    "            \n",
    "        x = self.softmax(x)\n",
    "        \n",
    "        if self._DEBUG:\n",
    "            print('after softmax', x.size())\n",
    "        return x"
   ]
  },
  {
   "cell_type": "markdown",
   "metadata": {},
   "source": [
    "## Optimizer"
   ]
  },
  {
   "cell_type": "code",
   "execution_count": null,
   "metadata": {},
   "outputs": [],
   "source": [
    "model = AccentClassifier(input_size=(2 * NUM_CONCAT + 1) * train_dataset[0][0].size(0), \n",
    "                         num_classes=len(accent_dict),\n",
    "                         DEBUG=DEBUG)\n",
    "\n",
    "if param['cuda']:\n",
    "    model.cuda()\n",
    "    \n",
    "criterion = nn.CrossEntropyLoss()\n",
    "\n",
    "optimizer = torch.optim.Adam(model.parameters(), lr=param['lr'][0])\n",
    "\n",
    "print(model)\n",
    "print('Model parameters counts:', count_parameters(model))"
   ]
  },
  {
   "cell_type": "code",
   "execution_count": 12,
   "metadata": {},
   "outputs": [],
   "source": [
    "model = AccentClassifier(input_size=(2 * NUM_CONCAT + 1) * 40, \n",
    "                         num_classes=2,\n",
    "                         DEBUG=DEBUG)"
   ]
  },
  {
   "cell_type": "code",
   "execution_count": 13,
   "metadata": {},
   "outputs": [
    {
     "data": {
      "text/plain": [
       "AccentClassifier(\n",
       "  (batchnorm): BatchNorm1d(1640, eps=1e-05, momentum=0.1, affine=True, track_running_stats=True)\n",
       "  (fc): Sequential(\n",
       "    (0): Linear(in_features=1640, out_features=1024, bias=True)\n",
       "    (1): ReLU()\n",
       "    (2): Linear(in_features=1024, out_features=2, bias=True)\n",
       "    (3): ReLU()\n",
       "  )\n",
       "  (softmax): Softmax()\n",
       ")"
      ]
     },
     "execution_count": 13,
     "metadata": {},
     "output_type": "execute_result"
    }
   ],
   "source": [
    "model"
   ]
  },
  {
   "cell_type": "markdown",
   "metadata": {},
   "source": [
    "## Training"
   ]
  },
  {
   "cell_type": "code",
   "execution_count": 193,
   "metadata": {},
   "outputs": [
    {
     "name": "stdout",
     "output_type": "stream",
     "text": [
      "## EPOCH 1 ##\n",
      "Training:\n"
     ]
    },
    {
     "data": {
      "application/vnd.jupyter.widget-view+json": {
       "model_id": "2288adaf4e434a3c8e7c68bf79552136",
       "version_major": 2,
       "version_minor": 0
      },
      "text/plain": [
       "HBox(children=(IntProgress(value=0, max=1000), HTML(value='')))"
      ]
     },
     "metadata": {},
     "output_type": "display_data"
    },
    {
     "name": "stdout",
     "output_type": "stream",
     "text": [
      "\n",
      "Epoch 1 average loss: 0.611\n",
      "Testing:\n"
     ]
    },
    {
     "data": {
      "application/vnd.jupyter.widget-view+json": {
       "model_id": "df3b9a8238704ebca64284af1aaf563a",
       "version_major": 2,
       "version_minor": 0
      },
      "text/plain": [
       "HBox(children=(IntProgress(value=0, max=30), HTML(value='')))"
      ]
     },
     "metadata": {},
     "output_type": "display_data"
    },
    {
     "name": "stdout",
     "output_type": "stream",
     "text": [
      "\n",
      "Accent classification accuracy: 50.53%\n",
      "Average validation loss: 0.792\n",
      "New best model found.\n",
      "## EPOCH 2 ##\n",
      "Training:\n"
     ]
    },
    {
     "data": {
      "application/vnd.jupyter.widget-view+json": {
       "model_id": "6a7d316c667e4ccd896fb52464391787",
       "version_major": 2,
       "version_minor": 0
      },
      "text/plain": [
       "HBox(children=(IntProgress(value=0, max=1000), HTML(value='')))"
      ]
     },
     "metadata": {},
     "output_type": "display_data"
    },
    {
     "name": "stdout",
     "output_type": "stream",
     "text": [
      "\n",
      "Epoch 2 average loss: 0.743\n",
      "Testing:\n"
     ]
    },
    {
     "data": {
      "application/vnd.jupyter.widget-view+json": {
       "model_id": "bc0681f4db4d475fa4ae19758764fa6d",
       "version_major": 2,
       "version_minor": 0
      },
      "text/plain": [
       "HBox(children=(IntProgress(value=0, max=30), HTML(value='')))"
      ]
     },
     "metadata": {},
     "output_type": "display_data"
    },
    {
     "name": "stdout",
     "output_type": "stream",
     "text": [
      "\n",
      "Accent classification accuracy: 50.53%\n",
      "Average validation loss: 0.693\n"
     ]
    }
   ],
   "source": [
    "SILENT = True\n",
    "    \n",
    "best_model = None\n",
    "prev_acc = 0\n",
    "## Train\n",
    "for epoch in range(1, param['epochs'] + 1):\n",
    "    \n",
    "    print(f'## EPOCH {epoch} ##')\n",
    "    print(f'Training:')\n",
    "    model.train()\n",
    "    \n",
    "    # train\n",
    "    epoch_losses = []\n",
    "    for i, data in tqdm(enumerate(train_loader), total=len(train_loader)):\n",
    "        inputs, target_accents = data\n",
    "        inputs = inputs.cuda()\n",
    "        target_accents = target_accents.cuda()\n",
    "        \n",
    "        # Forward pass\n",
    "        out = model(inputs)\n",
    "\n",
    "        loss = criterion(out, target_accents)\n",
    "        epoch_losses.append(loss)\n",
    "        \n",
    "        if not SILENT:\n",
    "            print(f'Iteration {i+1}/{len(train_loader):<4}loss: {loss:0.3f}')\n",
    "        \n",
    "        # Gradient\n",
    "        optimizer.zero_grad()\n",
    "        loss.backward()\n",
    "        optimizer.step()\n",
    "        \n",
    "    epoch_loss = sum(epoch_losses) / len(train_loader)\n",
    "    tb_writer.add_scalar('stats/train_loss', epoch_loss, epoch)\n",
    "    print(f'Epoch {epoch} average loss: {epoch_loss:0.3f}')\n",
    "        \n",
    "    # validate\n",
    "    print(f'Testing:')\n",
    "    model.eval()\n",
    "    acc = 0\n",
    "    tot = 0\n",
    "    with torch.no_grad():\n",
    "        epoch_val_losses = []\n",
    "        for data in tqdm(test_loader, total=len(test_loader)): ## ## \n",
    "            inputs, target_accents = data\n",
    "            inputs = inputs.cuda()\n",
    "            target_accents = target_accents.cuda()\n",
    "            \n",
    "            out = model(inputs)\n",
    "\n",
    "            val_loss = criterion(out, target_accents)\n",
    "            epoch_val_losses.append(val_loss)\n",
    "            \n",
    "            out_arg = np.argmax(out, axis=1).cuda()\n",
    "            diff = torch.eq(out_arg, target_accents)\n",
    "            acc += torch.sum(diff)\n",
    "            tot += len(target_accents)\n",
    "        \n",
    "        acc = acc.item() / tot * 100\n",
    "        epoch_val_loss = sum(epoch_val_losses) / len(test_loader) ##\n",
    "        \n",
    "    tb_writer.add_scalar('stats/accuracy', acc, epoch)\n",
    "    print(f'Accent classification accuracy: {acc:0.2f}%')\n",
    "\n",
    "    tb_writer.add_scalar('stats/val_loss', epoch_val_loss, epoch)\n",
    "    print(f'Average validation loss: {val_loss:0.3f}')\n",
    "    \n",
    "    if acc > prev_acc:\n",
    "        print('New best model found.')\n",
    "        best_model = model\n",
    "        prev_acc = acc"
   ]
  },
  {
   "cell_type": "markdown",
   "metadata": {},
   "source": [
    "## Tests"
   ]
  },
  {
   "cell_type": "code",
   "execution_count": 215,
   "metadata": {},
   "outputs": [],
   "source": [
    "import itertools\n",
    "import numpy as np\n",
    "import matplotlib.pyplot as plt\n",
    "\n",
    "from sklearn import svm, datasets\n",
    "from sklearn.model_selection import train_test_split\n",
    "from sklearn.metrics import confusion_matrix\n",
    "\n",
    "def plot_confusion_matrix(cm, classes,\n",
    "                          normalize=False,\n",
    "                          title='Confusion matrix',\n",
    "                          cmap=plt.cm.Blues):\n",
    "    \"\"\"\n",
    "    This function prints and plots the confusion matrix.\n",
    "    Normalization can be applied by setting `normalize=True`.\n",
    "    \"\"\"\n",
    "    np.set_printoptions(precision=2)\n",
    "    plt.figure()\n",
    "    plt.imshow(cm, interpolation='nearest', cmap=cmap)\n",
    "    plt.title(title)\n",
    "    plt.colorbar()\n",
    "    tick_marks = np.arange(len(classes))\n",
    "    plt.xticks(tick_marks, classes, rotation=45)\n",
    "    plt.yticks(tick_marks, classes)\n",
    "\n",
    "    fmt = '.2f' if normalize else 'd'\n",
    "    thresh = cm.max() / 2.\n",
    "    for i, j in itertools.product(range(cm.shape[0]), range(cm.shape[1])):\n",
    "        plt.text(j, i, format(cm[i, j], fmt),\n",
    "                 horizontalalignment=\"center\",\n",
    "                 color=\"black\") #if cm[i, j] > thresh else \"black\")\n",
    "\n",
    "    plt.ylabel('True label')\n",
    "    plt.xlabel('Predicted label')\n",
    "    plt.tight_layout()\n",
    "    plt.show()"
   ]
  },
  {
   "cell_type": "code",
   "execution_count": 216,
   "metadata": {},
   "outputs": [
    {
     "data": {
      "application/vnd.jupyter.widget-view+json": {
       "model_id": "106334997dcd420188e31b2c5b65dcbb",
       "version_major": 2,
       "version_minor": 0
      },
      "text/plain": [
       "HBox(children=(IntProgress(value=0, max=30), HTML(value='')))"
      ]
     },
     "metadata": {},
     "output_type": "display_data"
    },
    {
     "name": "stdout",
     "output_type": "stream",
     "text": [
      "\n"
     ]
    }
   ],
   "source": [
    "loader = test_loader\n",
    "best_model.eval()\n",
    "\n",
    "y_true, y_pred = [], []\n",
    "with torch.no_grad():\n",
    "    for data in tqdm(loader, total=len(loader)):\n",
    "        inputs, target_accents = data\n",
    "        inputs = inputs.cuda()\n",
    "        target_accents = target_accents.cuda()\n",
    "        \n",
    "        out = best_model(inputs)\n",
    "        \n",
    "        y_true.extend(target_accents)\n",
    "        y_pred.append(np.argmax(out, axis=1))\n",
    "        \n",
    "    y_pred = torch.cat(y_pred)\n",
    "            \n",
    "    y_true_labels = [accent_dict[int(i)] for i in y_true]\n",
    "    y_pred_labels = [accent_dict[int(i)] for i in y_pred]\n",
    "\n",
    "cnf_mat = confusion_matrix(y_true_labels, y_pred_labels)"
   ]
  },
  {
   "cell_type": "code",
   "execution_count": 217,
   "metadata": {},
   "outputs": [
    {
     "data": {
      "image/png": "[encoded data removed]",
      "text/plain": [
       "<Figure size 432x288 with 2 Axes>"
      ]
     },
     "metadata": {},
     "output_type": "display_data"
    }
   ],
   "source": [
    "plot_confusion_matrix(cnf_mat, classes=accent_dict.values())"
   ]
  },
  {
   "cell_type": "code",
   "execution_count": 218,
   "metadata": {},
   "outputs": [
    {
     "name": "stdout",
     "output_type": "stream",
     "text": [
      "             precision    recall  f1-score   support\n",
      "\n",
      "    england       0.67      0.66      0.66    123215\n",
      "         us       0.66      0.67      0.66    120590\n",
      "\n",
      "avg / total       0.66      0.66      0.66    243805\n",
      "\n"
     ]
    }
   ],
   "source": [
    "from sklearn import metrics\n",
    "print(metrics.classification_report(y_true_labels, y_pred_labels))"
   ]
  },
  {
   "cell_type": "markdown",
   "metadata": {},
   "source": [
    "## Test at utterance level"
   ]
  },
  {
   "cell_type": "code",
   "execution_count": 219,
   "metadata": {},
   "outputs": [],
   "source": [
    "def collate_fn(batch_tot):\n",
    "    \"\"\"This function takes list of samples and assembles a batch. It is intended to used in PyTorch DataLoader.\"\"\"\n",
    "    res, targets = zip(*batch_tot)\n",
    "    lens = [len(r) for r in res]\n",
    "\n",
    "    concats = []\n",
    "    for mat in res:\n",
    "        num_frames = mat.shape[0]\n",
    "        frame_len = mat.shape[1]\n",
    "\n",
    "        pre = np.stack([mat[0]] * NUM_CONCAT)\n",
    "        post = np.stack([mat[-1]] * NUM_CONCAT)\n",
    "\n",
    "        mat = np.concatenate([pre, mat, post])\n",
    "\n",
    "        mat_tensor = torch.tensor(mat)\n",
    "        mat_tensor = mat_tensor.view(-1)\n",
    "\n",
    "        for i in range(NUM_CONCAT, num_frames + NUM_CONCAT):\n",
    "            concat = mat_tensor[(i - NUM_CONCAT) * frame_len:(1 + i + NUM_CONCAT) * frame_len]\n",
    "\n",
    "            concats.append(concat)\n",
    "            #targets.append(accent_dict[id_])\n",
    "            \n",
    "    res = torch.stack(concats)\n",
    "    \n",
    "    tar = []\n",
    "\n",
    "    [tar.extend([t] * lens[i]) for i, t in enumerate(targets)]\n",
    "    tar = torch.tensor(tar)\n",
    "    \n",
    "    # shuffling in batch\n",
    "#     idx = torch.randperm(tar.nelement())\n",
    "#     res = res[idx]\n",
    "#     tar = tar[idx]\n",
    "    \n",
    "    return res, tar, lens\n",
    "\n",
    "class UtteranceConcatDataLoader(DataLoader):\n",
    "    def __init__(self, *args, **kwargs):\n",
    "        \"\"\"\n",
    "        Creates a data loader for SpeechDatasets.\n",
    "        \"\"\"\n",
    "        super(UtteranceConcatDataLoader, self).__init__(*args, **kwargs)\n",
    "        self.collate_fn = collate_fn"
   ]
  },
  {
   "cell_type": "code",
   "execution_count": 220,
   "metadata": {},
   "outputs": [],
   "source": [
    "ut_test_dict, ut_dict = make_accent_dict('../data/CommonVoice_dataset/splits/for_notebooks/us-en_test.csv')\n",
    "\n",
    "ut_test_dataset = ConcatDataset('../data/CommonVoice_dataset/kaldi/test-norm', \n",
    "                              ids_list('../data/CommonVoice_dataset/splits/for_notebooks/us-en_test.csv'), \n",
    "                              test_dict)\n",
    "\n",
    "ut_test_loader = UtteranceConcatDataLoader(test_dataset, \n",
    "                                shuffle=False, \n",
    "                                num_workers=param['num_worker'],\n",
    "                                batch_size=param['batch_size'])\n",
    "\n",
    "ut_dev_dict, __ = make_accent_dict('../data/CommonVoice_dataset/splits/for_notebooks/us-en_dev.csv')\n",
    "\n",
    "ut_dev_dataset = ConcatDataset('../data/CommonVoice_dataset/kaldi/dev-norm', \n",
    "                              ids_list('../data/CommonVoice_dataset/splits/for_notebooks/us-en_dev.csv'), \n",
    "                              test_dict)\n",
    "\n",
    "ut_dev_loader = UtteranceConcatDataLoader(test_dataset, \n",
    "                                shuffle=False, \n",
    "                                num_workers=param['num_worker'],\n",
    "                                batch_size=param['batch_size'])"
   ]
  },
  {
   "cell_type": "code",
   "execution_count": 221,
   "metadata": {},
   "outputs": [],
   "source": [
    "def cnf_for_loader(loader):\n",
    "    y_true, y_pred = [], []\n",
    "    with torch.no_grad():\n",
    "        for data in tqdm(loader, total=len(loader)):\n",
    "            inputs, target_accents, lens = data\n",
    "            inputs = inputs.cuda()\n",
    "            target_accents = target_accents.cuda()\n",
    "\n",
    "            out = best_model(inputs)\n",
    "            out = np.argmax(out, axis=1)\n",
    "\n",
    "            i = 0\n",
    "            for l in lens:                \n",
    "                y_true.append(target_accents[i])\n",
    "                y_pred.append(round(sum(out[i:i+l-1]).item()/l))\n",
    "                i += l\n",
    "\n",
    "        y_true_labels = [ut_dict[int(i)] for i in y_true]\n",
    "        y_pred_labels = [ut_dict[int(i)] for i in y_pred]\n",
    "\n",
    "    return y_true_labels, y_pred_labels"
   ]
  },
  {
   "cell_type": "code",
   "execution_count": 222,
   "metadata": {},
   "outputs": [
    {
     "data": {
      "application/vnd.jupyter.widget-view+json": {
       "model_id": "7215d7346b70495b840c3bd8601586ba",
       "version_major": 2,
       "version_minor": 0
      },
      "text/plain": [
       "HBox(children=(IntProgress(value=0, max=30), HTML(value='')))"
      ]
     },
     "metadata": {},
     "output_type": "display_data"
    },
    {
     "name": "stdout",
     "output_type": "stream",
     "text": [
      "\n"
     ]
    },
    {
     "data": {
      "application/vnd.jupyter.widget-view+json": {
       "model_id": "2963ef945ad8412fbba0809a55e24aee",
       "version_major": 2,
       "version_minor": 0
      },
      "text/plain": [
       "HBox(children=(IntProgress(value=0, max=30), HTML(value='')))"
      ]
     },
     "metadata": {},
     "output_type": "display_data"
    },
    {
     "name": "stdout",
     "output_type": "stream",
     "text": [
      "\n"
     ]
    },
    {
     "data": {
      "image/png": "[encoded data removed]",
      "text/plain": [
       "<Figure size 432x288 with 2 Axes>"
      ]
     },
     "metadata": {},
     "output_type": "display_data"
    },
    {
     "data": {
      "image/png": "[encoded data removed]",
      "text/plain": [
       "<Figure size 432x288 with 2 Axes>"
      ]
     },
     "metadata": {},
     "output_type": "display_data"
    }
   ],
   "source": [
    "best_model.eval()\n",
    "y_t_test, y_p_test = cnf_for_loader(ut_test_loader)\n",
    "test_cnf_mat = confusion_matrix(y_t_test, y_p_test)\n",
    "y_t_dev, y_p_dev = cnf_for_loader(ut_test_loader)\n",
    "dev_cnf_mat = confusion_matrix(y_t_dev, y_p_dev)\n",
    "\n",
    "plot_confusion_matrix(test_cnf_mat, title='Test', classes=accent_dict.values())\n",
    "plot_confusion_matrix(dev_cnf_mat, title='Dev', classes=accent_dict.values())"
   ]
  },
  {
   "cell_type": "code",
   "execution_count": 223,
   "metadata": {},
   "outputs": [
    {
     "name": "stdout",
     "output_type": "stream",
     "text": [
      "Test              precision    recall  f1-score   support\n",
      "\n",
      "    england       0.82      0.80      0.81       299\n",
      "         us       0.80      0.82      0.81       299\n",
      "\n",
      "avg / total       0.81      0.81      0.81       598\n",
      "\n",
      "Dev              precision    recall  f1-score   support\n",
      "\n",
      "    england       0.82      0.80      0.81       299\n",
      "         us       0.80      0.82      0.81       299\n",
      "\n",
      "avg / total       0.81      0.81      0.81       598\n",
      "\n"
     ]
    }
   ],
   "source": [
    "print('Test', metrics.classification_report(y_t_test, y_p_test))\n",
    "print('Dev', metrics.classification_report(y_t_dev, y_p_dev))"
   ]
  },
  {
   "cell_type": "markdown",
   "metadata": {},
   "source": [
    "## Data Loading old"
   ]
  },
  {
   "cell_type": "code",
   "execution_count": 6,
   "metadata": {},
   "outputs": [],
   "source": [
    "\n",
    "\n",
    "def make_accent_dict(manifest_path):\n",
    "    accent_dict = {}\n",
    "    class_dict = {}\n",
    "    with open(manifest_path) as f:\n",
    "        for l in f:\n",
    "            wav, txt, acc = l.split(',')\n",
    "            num = extract_num(wav)\n",
    "            accent = acc.strip()\n",
    "            if accent not in class_dict:\n",
    "                new_key = 0 if (len(class_dict) == 0) else max(class_dict.values()) + 1\n",
    "                class_dict[accent] = new_key\n",
    "            accent_dict[num] = class_dict[accent]\n",
    "    return accent_dict, {v: k for k, v in class_dict.items()}\n",
    "\n",
    "def concatenate_ark(ark, accent_dict):\n",
    "    concats = []\n",
    "    targets = []\n",
    "\n",
    "    for key, mat in ark:\n",
    "        id_  = extract_num(key)\n",
    "\n",
    "        if id_ in accent_dict:\n",
    "            num_frames = mat.shape[0]\n",
    "            frame_len = mat.shape[1]\n",
    "\n",
    "            pre = np.stack([mat[0]] * NUM_CONCAT) \n",
    "            post = np.stack([mat[-1]] * NUM_CONCAT)\n",
    "\n",
    "            mat = np.concatenate([pre, mat, post])\n",
    "\n",
    "            mat_tensor = torch.tensor(mat)\n",
    "            mat_tensor = mat_tensor.view(-1)\n",
    "\n",
    "            for i in range(NUM_CONCAT, num_frames + NUM_CONCAT):\n",
    "                concat = mat_tensor[(i - NUM_CONCAT) * frame_len:(1 + i + NUM_CONCAT) * frame_len]\n",
    "\n",
    "                concats.append(concat)\n",
    "                targets.append(accent_dict[id_])\n",
    "\n",
    "    return torch.stack(concats), torch.tensor(targets)\n",
    "\n",
    "def concatenated_dataset(kaldi_path, manifest_path):\n",
    "    train_kaldi = kaldi_io.read_mat_ark(kaldi_path)\n",
    "    accent_dict, class_dict = make_accent_dict(manifest_path)\n",
    "    concats, targets = concatenate_ark(train_kaldi, accent_dict)\n",
    "    return concats, targets, class_dict"
   ]
  },
  {
   "cell_type": "code",
   "execution_count": 7,
   "metadata": {},
   "outputs": [],
   "source": [
    "class KaldiDataset(torch.utils.data.Dataset):\n",
    "    def __init__(self, X, Y):\n",
    "        assert len(X) == len(Y)\n",
    "        self._input_size = X.size(1) \n",
    "        self.X, self.Y = X, Y\n",
    "    def __getitem__(self, index):\n",
    "        return self.X[index], self.Y[index]\n",
    "    def __len__(self):\n",
    "        return len(self.X)"
   ]
  },
  {
   "cell_type": "code",
   "execution_count": 8,
   "metadata": {},
   "outputs": [],
   "source": [
    "X_tr, Y_tr, class_dict = concatenated_dataset(param['train_kaldi'], param['train_manifest'])\n",
    "\n",
    "if param['cuda']:\n",
    "    X_tr = X_tr.cuda(); Y_tr = Y_tr.cuda()\n",
    "\n",
    "train_dataset = KaldiDataset(X_tr, Y_tr)\n",
    "train_loader = DataLoader(train_dataset, \n",
    "                          shuffle=True, \n",
    "                          num_workers=0, \n",
    "                          batch_size=param['batch_size'])"
   ]
  },
  {
   "cell_type": "code",
   "execution_count": 9,
   "metadata": {},
   "outputs": [],
   "source": [
    "X_te, Y_te, __ = concatenated_dataset(param['test_kaldi'], param['test_manifest'])\n",
    "\n",
    "if param['cuda']:\n",
    "    X_te = X_te.cuda(); Y_ter = Y_te.cuda()\n",
    "\n",
    "test_dataset = KaldiDataset(X_te, Y_te)\n",
    "test_loader = DataLoader(test_dataset, \n",
    "                          shuffle=True, \n",
    "                          num_workers=0, \n",
    "                          batch_size=param['batch_size'])"
   ]
  },
  {
   "cell_type": "code",
   "execution_count": null,
   "metadata": {},
   "outputs": [],
   "source": []
  }
 ],
 "metadata": {
  "kernelspec": {
   "display_name": "Python 3",
   "language": "python",
   "name": "python3"
  },
  "language_info": {
   "codemirror_mode": {
    "name": "ipython",
    "version": 3
   },
   "file_extension": ".py",
   "mimetype": "text/x-python",
   "name": "python",
   "nbconvert_exporter": "python",
   "pygments_lexer": "ipython3",
   "version": "3.6.8"
  }
 },
 "nbformat": 4,
 "nbformat_minor": 2
}
