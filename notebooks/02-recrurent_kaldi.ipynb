{
 "cells": [
  {
   "cell_type": "markdown",
   "metadata": {},
   "source": [
    "# Accent classification with recurrent networks"
   ]
  },
  {
   "cell_type": "code",
   "execution_count": 1,
   "metadata": {},
   "outputs": [],
   "source": [
    "import torch\n",
    "import torch.nn as nn\n",
    "import torch.nn.functional as F\n",
    "from torch.utils.data import DataLoader\n",
    "#torch.multiprocessing.set_start_method(\"spawn\")"
   ]
  },
  {
   "cell_type": "code",
   "execution_count": 2,
   "metadata": {},
   "outputs": [],
   "source": [
    "# Restart from here\n",
    "DEV = False\n",
    "EPOCHS = 100\n",
    "\n",
    "DEBUG = False\n",
    "NUM_CONCAT = 20"
   ]
  },
  {
   "cell_type": "code",
   "execution_count": 3,
   "metadata": {},
   "outputs": [],
   "source": [
    "# autoreloads\n",
    "%reload_ext autoreload\n",
    "%autoreload 1\n",
    "%aimport parameters\n",
    "\n",
    "# Allows to load modules from parent directory\n",
    "from time import time\n",
    "import inspect, sys, os, json\n",
    "from os.path import dirname, abspath\n",
    "sys.path.append(dirname(dirname(abspath(inspect.getfile(inspect.currentframe())))))\n",
    "\n",
    "from pathlib import Path\n",
    "from os import makedirs\n",
    "\n",
    "from tqdm import tqdm_notebook as tqdm\n",
    "\n",
    "import numpy as np\n",
    "import pandas as pd\n",
    "\n",
    "from data.data_loader import create_binarizer, get_accents_counts\n",
    "from utils import count_parameters\n",
    "from models.modules import BatchRNN\n",
    "\n",
    "from tensorboardX import SummaryWriter\n",
    "\n",
    "import math\n",
    "\n",
    "from torch.utils.data import DataLoader, Dataset"
   ]
  },
  {
   "cell_type": "code",
   "execution_count": 4,
   "metadata": {},
   "outputs": [],
   "source": [
    "param = parameters.get_parameters(dev=DEV, epochs=EPOCHS, us_en=True)"
   ]
  },
  {
   "cell_type": "markdown",
   "metadata": {},
   "source": [
    "## Utilities"
   ]
  },
  {
   "cell_type": "code",
   "execution_count": 5,
   "metadata": {},
   "outputs": [],
   "source": [
    "def val_cnts(list_):\n",
    "    return pd.Series(list_).value_counts()\n",
    "\n",
    "def extract_num (s):\n",
    "    return ''.join([c if c.isdigit() else '' for c in s])\n",
    "\n",
    "def ids_list(manifest):\n",
    "    ids = []\n",
    "    with open(manifest) as f:\n",
    "        for l in f:\n",
    "            s = l.split('/')\n",
    "            ids.append(f'{s[3]}-{s[5].split(\".\")[0]}')\n",
    "    return ids\n",
    "\n",
    "def make_accent_dict(manifest_path):\n",
    "    accent_dict = {}\n",
    "    class_dict = {}\n",
    "    with open(manifest_path) as f:\n",
    "        for l in f:\n",
    "            wav, txt, acc = l.split(',')\n",
    "            num = extract_num(wav)\n",
    "            accent = acc.strip()\n",
    "            if accent not in class_dict:\n",
    "                new_key = 0 if (len(class_dict) == 0) else max(class_dict.values()) + 1\n",
    "                class_dict[accent] = new_key\n",
    "            accent_dict[num] = class_dict[accent]\n",
    "    return accent_dict, {v: k for k, v in class_dict.items()}"
   ]
  },
  {
   "cell_type": "markdown",
   "metadata": {},
   "source": [
    "## Data Loading"
   ]
  },
  {
   "cell_type": "code",
   "execution_count": 6,
   "metadata": {},
   "outputs": [],
   "source": [
    "class KaldiDataset(Dataset):\n",
    "    \"\"\"Defines an iterator over the dataset. This class is intended to be used with PyTorch DataLoader\"\"\"\n",
    "    \n",
    "    def __init__(self, data_path, sample_ids, accent_id_dict):\n",
    "        \n",
    "        self.data_path = data_path\n",
    "        self.accent_id_dict = accent_id_dict\n",
    "        if isinstance(sample_ids, list):\n",
    "            self._datafiles = sample_ids\n",
    "        else:\n",
    "            with open(sample_ids) as f:\n",
    "                self._datafiles = [x.strip() for x in f.readlines()]\n",
    "        \n",
    "    def __getitem__(self, index):\n",
    "             \n",
    "        with open(os.path.join(self.data_path, self._datafiles[index])) as f:\n",
    "            sample = json.load(f)\n",
    "        \n",
    "        target = self.accent_id_dict[extract_num(self._datafiles[index])]\n",
    "        return torch.FloatTensor(sample), target\n",
    "                      \n",
    "    def __len__(self):\n",
    "        \n",
    "        return len(self._datafiles)"
   ]
  },
  {
   "cell_type": "code",
   "execution_count": 7,
   "metadata": {},
   "outputs": [],
   "source": [
    "def collate_fn(batch_tot):\n",
    "    \"\"\"This function takes list of samples and assembles a batch. It is intended to used in PyTorch DataLoader.\"\"\"\n",
    "    res, tar = zip(*batch_tot)\n",
    "\n",
    "    lens = torch.tensor([len(r) for r in res])\n",
    "    tar = torch.tensor(tar)\n",
    "    \n",
    "    res = nn.utils.rnn.pad_sequence(res, batch_first=True)\n",
    "    \n",
    "    __, idx = lens.sort(descending=True)\n",
    "    \n",
    "    return res[idx], tar[idx], lens[idx]\n",
    "\n",
    "class KaldiDataLoader(DataLoader):\n",
    "    def __init__(self, *args, **kwargs):\n",
    "        \"\"\"\n",
    "        Creates a data loader for SpeechDatasets.\n",
    "        \"\"\"\n",
    "        super(KaldiDataLoader, self).__init__(*args, **kwargs)\n",
    "        self.collate_fn = collate_fn"
   ]
  },
  {
   "cell_type": "code",
   "execution_count": 8,
   "metadata": {},
   "outputs": [],
   "source": [
    "accent_id_dict, accent_dict = make_accent_dict(param['train_manifest'])\n",
    "\n",
    "train_dataset = KaldiDataset(param['train_kaldi'], \n",
    "                              ids_list(param['train_manifest']), \n",
    "                              accent_id_dict)\n",
    "\n",
    "train_loader = KaldiDataLoader(train_dataset, \n",
    "                                shuffle=True, \n",
    "                                num_workers=0,#param['num_worker'],\n",
    "                                batch_size=param['batch_size'])\n",
    "\n",
    "# for data in train_loader:\n",
    "#     print(data[0])\n",
    "#     print(data)\n",
    "#     break"
   ]
  },
  {
   "cell_type": "code",
   "execution_count": 9,
   "metadata": {},
   "outputs": [],
   "source": [
    "test_dict, __ = make_accent_dict(param['test_manifest'])\n",
    "\n",
    "test_dataset = KaldiDataset(param['test_kaldi'], \n",
    "                              ids_list(param['test_manifest']), \n",
    "                              test_dict)\n",
    "\n",
    "test_loader = KaldiDataLoader(test_dataset, \n",
    "                                shuffle=True, \n",
    "                                num_workers=param['num_worker'],\n",
    "                                batch_size=param['batch_size'])"
   ]
  },
  {
   "cell_type": "markdown",
   "metadata": {},
   "source": [
    "## Model definition"
   ]
  },
  {
   "cell_type": "code",
   "execution_count": 10,
   "metadata": {},
   "outputs": [],
   "source": [
    "class AccentClassifier(nn.Module):\n",
    "    def __init__(self,\n",
    "                 input_size,\n",
    "                 num_classes,\n",
    "                 rnn_type,\n",
    "                 hidden_size,\n",
    "                 DEBUG = False,):\n",
    "        \n",
    "        super(AccentClassifier, self).__init__()\n",
    "        \n",
    "        self.hidden_size = hidden_size\n",
    "\n",
    "        self._DEBUG = DEBUG\n",
    "        \n",
    "        self.rnn = rnn_type(input_size, hidden_size, 2, \n",
    "                            bidirectional=True, \n",
    "                            batch_first=True)\n",
    "\n",
    "#         self.rnn = BatchRNN(input_size, \n",
    "#                             hidden_size,\n",
    "#                             rnn_type=rnn_type,bidirectional=True,\n",
    "#                             batch_norm=True)\n",
    "        \n",
    "        self.fc = nn.Sequential(\n",
    "            nn.BatchNorm1d(hidden_size * 2),\n",
    "            nn.Linear(hidden_size * 2, 1024),\n",
    "            nn.ReLU(),\n",
    "            nn.BatchNorm1d(1024),\n",
    "            nn.Linear(1024, num_classes),\n",
    "            nn.ReLU(),\n",
    "        )\n",
    "        \n",
    "        self.softmax = nn.Softmax(dim=1)\n",
    "\n",
    "    def forward(self, x, lens):\n",
    "        if self._DEBUG:\n",
    "            print('input x', x.size())\n",
    "\n",
    "        x = nn.utils.rnn.pack_padded_sequence(x, lens, batch_first=True)\n",
    "        x, __ = self.rnn(x)\n",
    "        x, lens = nn.utils.rnn.pad_packed_sequence(x, batch_first=True)\n",
    "        \n",
    "        if self._DEBUG:\n",
    "            print('after rnn', x.size())\n",
    "#        \n",
    "#         x = x.view(x.size(0), x.size(1), 2, self.hidden_size)\n",
    "        \n",
    "#         if self._DEBUG:\n",
    "#             print('after view', x.size())\n",
    "            \n",
    "        x = x.mean(dim=1)\n",
    "        \n",
    "        if self._DEBUG:\n",
    "            print('after mean', x.size())\n",
    "\n",
    "        x = self.fc(x)\n",
    "        \n",
    "        if self._DEBUG:\n",
    "            print('after fc', x.size())\n",
    "            \n",
    "        x = self.softmax(x)\n",
    "        \n",
    "        if self._DEBUG:\n",
    "            print('after softmax', x.size())\n",
    "        return x"
   ]
  },
  {
   "cell_type": "markdown",
   "metadata": {},
   "source": [
    "## Optimizer"
   ]
  },
  {
   "cell_type": "code",
   "execution_count": 11,
   "metadata": {},
   "outputs": [
    {
     "name": "stdout",
     "output_type": "stream",
     "text": [
      "AccentClassifier(\n",
      "  (rnn): GRU(40, 40, num_layers=2, batch_first=True, bidirectional=True)\n",
      "  (fc): Sequential(\n",
      "    (0): BatchNorm1d(80, eps=1e-05, momentum=0.1, affine=True, track_running_stats=True)\n",
      "    (1): Linear(in_features=80, out_features=1024, bias=True)\n",
      "    (2): ReLU()\n",
      "    (3): BatchNorm1d(1024, eps=1e-05, momentum=0.1, affine=True, track_running_stats=True)\n",
      "    (4): Linear(in_features=1024, out_features=7, bias=True)\n",
      "    (5): ReLU()\n",
      "  )\n",
      "  (softmax): Softmax()\n",
      ")\n",
      "Model parameters counts: 141287\n"
     ]
    }
   ],
   "source": [
    "model = AccentClassifier(input_size=train_dataset[0][0].size(1), \n",
    "                         num_classes=len(accent_dict),\n",
    "                         rnn_type=param['rnn_type'],\n",
    "                         hidden_size=param['rnn_hidden_size'],\n",
    "                         DEBUG=DEBUG)\n",
    "\n",
    "if param['cuda']:\n",
    "    model.cuda()\n",
    "    \n",
    "criterion = nn.CrossEntropyLoss()\n",
    "\n",
    "optimizer = torch.optim.Adam(model.parameters(), lr=param['lr'][0])\n",
    "\n",
    "print(model)\n",
    "print('Model parameters counts:', count_parameters(model))"
   ]
  },
  {
   "cell_type": "markdown",
   "metadata": {},
   "source": [
    "## Training"
   ]
  },
  {
   "cell_type": "code",
   "execution_count": 12,
   "metadata": {},
   "outputs": [],
   "source": [
    "def train(epochs, \n",
    "          model, \n",
    "          train_loader, \n",
    "          test_loader, \n",
    "          optimizer, \n",
    "          criterion, \n",
    "          silent=True,\n",
    "          exp_name='__tmp__', \n",
    "          best_model=None):\n",
    "\n",
    "    # Tensorboard\n",
    "    tb_path = Path(param['tensorboard_dir']) / exp_name\n",
    "    makedirs(tb_path, exist_ok=True)\n",
    "    tb_writer = SummaryWriter(tb_path)\n",
    "\n",
    "    prev_epoch_val_loss = math.inf\n",
    "    \n",
    "    ## Train\n",
    "    for epoch in range(1, param['epochs'] + 1):\n",
    "        print(f'## EPOCH {epoch} ##')\n",
    "        print(f'Training:')\n",
    "        model.train()\n",
    "\n",
    "        # train\n",
    "        epoch_losses = []\n",
    "        for i, data in tqdm(enumerate(train_loader), total=len(train_loader)):\n",
    "            inputs, target_accents, lens = data\n",
    "            inputs = inputs.cuda()\n",
    "            target_accents = target_accents.cuda()\n",
    "            lens = lens.cuda()\n",
    "\n",
    "            # Forward pass\n",
    "            out = model(inputs, lens)\n",
    "\n",
    "            loss = criterion(out, target_accents)\n",
    "            epoch_losses.append(loss)\n",
    "\n",
    "            if not silent:\n",
    "                print(f'Iteration {i+1}/{len(train_loader):<4}loss: {loss:0.3f}')\n",
    "\n",
    "            # Gradient\n",
    "            optimizer.zero_grad()\n",
    "            loss.backward()\n",
    "            optimizer.step()\n",
    "\n",
    "        epoch_loss = sum(epoch_losses) / len(train_loader)\n",
    "        tb_writer.add_scalar('stats/train_loss', epoch_loss, epoch)\n",
    "        print(f'Epoch {epoch} average loss: {epoch_loss:0.3f}')\n",
    "\n",
    "        # validate\n",
    "        print(f'Testing:')\n",
    "        model.eval()\n",
    "        acc = 0\n",
    "        tot = 0\n",
    "        with torch.no_grad():\n",
    "            epoch_val_losses = []\n",
    "            for data in tqdm(test_loader, total=len(test_loader)): ## ## \n",
    "                inputs, target_accents, lens = data\n",
    "                inputs = inputs.cuda()\n",
    "                target_accents = target_accents.cuda()\n",
    "\n",
    "                out = model(inputs, lens)\n",
    "\n",
    "                val_loss = criterion(out, target_accents)\n",
    "                epoch_val_losses.append(val_loss)\n",
    "\n",
    "                out_arg = np.argmax(out, axis=1).cuda()\n",
    "                diff = torch.eq(out_arg, target_accents)\n",
    "                acc += torch.sum(diff)\n",
    "                tot += len(target_accents)\n",
    "\n",
    "            acc = acc.item() / tot * 100\n",
    "            epoch_val_loss = sum(epoch_val_losses) / len(test_loader) ##\n",
    "\n",
    "        tb_writer.add_scalar('stats/accuracy', acc, epoch)\n",
    "        print(f'Accent classification accuracy: {acc:0.2f}%')\n",
    "\n",
    "        tb_writer.add_scalar('stats/val_loss', epoch_val_loss, epoch)\n",
    "        print(f'Average validation loss: {val_loss:0.3f}')\n",
    "\n",
    "        if epoch_val_loss < prev_epoch_val_loss:\n",
    "            print('New best model found.')\n",
    "            best_model = model\n",
    "            prev_epoch_val_loss = epoch_val_loss\n",
    "            \n",
    "    return best_model"
   ]
  },
  {
   "cell_type": "code",
   "execution_count": null,
   "metadata": {},
   "outputs": [
    {
     "name": "stdout",
     "output_type": "stream",
     "text": [
      "#############\n",
      "__tmp__dev-False_<class 'torch.nn.modules.rnn.GRU'>_600_1546953025.6925259\n",
      "#############\n",
      "## EPOCH 1 ##\n",
      "Training:\n"
     ]
    },
    {
     "data": {
      "application/vnd.jupyter.widget-view+json": {
       "model_id": "d6b83be77501477683f23f6bc65f97d4",
       "version_major": 2,
       "version_minor": 0
      },
      "text/plain": [
       "HBox(children=(IntProgress(value=0, max=773), HTML(value='')))"
      ]
     },
     "metadata": {},
     "output_type": "display_data"
    },
    {
     "name": "stdout",
     "output_type": "stream",
     "text": [
      "\n",
      "Epoch 1 average loss: 1.664\n",
      "Testing:\n"
     ]
    },
    {
     "data": {
      "application/vnd.jupyter.widget-view+json": {
       "model_id": "baac8f0276dd4b81b81a436efb172c47",
       "version_major": 2,
       "version_minor": 0
      },
      "text/plain": [
       "HBox(children=(IntProgress(value=0, max=29), HTML(value='')))"
      ]
     },
     "metadata": {},
     "output_type": "display_data"
    },
    {
     "name": "stdout",
     "output_type": "stream",
     "text": [
      "\n",
      "Accent classification accuracy: 53.59%\n",
      "Average validation loss: 1.672\n",
      "New best model found.\n",
      "## EPOCH 2 ##\n",
      "Training:\n"
     ]
    },
    {
     "data": {
      "application/vnd.jupyter.widget-view+json": {
       "model_id": "f33075b53289446ba52059939a4772a0",
       "version_major": 2,
       "version_minor": 0
      },
      "text/plain": [
       "HBox(children=(IntProgress(value=0, max=773), HTML(value='')))"
      ]
     },
     "metadata": {},
     "output_type": "display_data"
    },
    {
     "name": "stdout",
     "output_type": "stream",
     "text": [
      "\n",
      "Epoch 2 average loss: 1.561\n",
      "Testing:\n"
     ]
    },
    {
     "data": {
      "application/vnd.jupyter.widget-view+json": {
       "model_id": "df474c89265447ecbd9cff665d520721",
       "version_major": 2,
       "version_minor": 0
      },
      "text/plain": [
       "HBox(children=(IntProgress(value=0, max=29), HTML(value='')))"
      ]
     },
     "metadata": {},
     "output_type": "display_data"
    },
    {
     "name": "stdout",
     "output_type": "stream",
     "text": [
      "\n",
      "Accent classification accuracy: 54.75%\n",
      "Average validation loss: 1.679\n",
      "New best model found.\n",
      "## EPOCH 3 ##\n",
      "Training:\n"
     ]
    },
    {
     "data": {
      "application/vnd.jupyter.widget-view+json": {
       "model_id": "82a0706b546f47f996eb01970f5f45ad",
       "version_major": 2,
       "version_minor": 0
      },
      "text/plain": [
       "HBox(children=(IntProgress(value=0, max=773), HTML(value='')))"
      ]
     },
     "metadata": {},
     "output_type": "display_data"
    },
    {
     "name": "stdout",
     "output_type": "stream",
     "text": [
      "\n",
      "Epoch 3 average loss: 1.509\n",
      "Testing:\n"
     ]
    },
    {
     "data": {
      "application/vnd.jupyter.widget-view+json": {
       "model_id": "4771487ebffb46d994262b33268799db",
       "version_major": 2,
       "version_minor": 0
      },
      "text/plain": [
       "HBox(children=(IntProgress(value=0, max=29), HTML(value='')))"
      ]
     },
     "metadata": {},
     "output_type": "display_data"
    },
    {
     "name": "stdout",
     "output_type": "stream",
     "text": [
      "\n",
      "Accent classification accuracy: 59.45%\n",
      "Average validation loss: 1.721\n",
      "New best model found.\n",
      "## EPOCH 4 ##\n",
      "Training:\n"
     ]
    },
    {
     "data": {
      "application/vnd.jupyter.widget-view+json": {
       "model_id": "38c07a13ce3744d39242ac0ac48ae889",
       "version_major": 2,
       "version_minor": 0
      },
      "text/plain": [
       "HBox(children=(IntProgress(value=0, max=773), HTML(value='')))"
      ]
     },
     "metadata": {},
     "output_type": "display_data"
    },
    {
     "name": "stdout",
     "output_type": "stream",
     "text": [
      "\n",
      "Epoch 4 average loss: 1.459\n",
      "Testing:\n"
     ]
    },
    {
     "data": {
      "application/vnd.jupyter.widget-view+json": {
       "model_id": "0c34f3e727944485adbc3f9e3eab8952",
       "version_major": 2,
       "version_minor": 0
      },
      "text/plain": [
       "HBox(children=(IntProgress(value=0, max=29), HTML(value='')))"
      ]
     },
     "metadata": {},
     "output_type": "display_data"
    },
    {
     "name": "stdout",
     "output_type": "stream",
     "text": [
      "\n",
      "Accent classification accuracy: 63.89%\n",
      "Average validation loss: 1.429\n",
      "New best model found.\n",
      "## EPOCH 5 ##\n",
      "Training:\n"
     ]
    },
    {
     "data": {
      "application/vnd.jupyter.widget-view+json": {
       "model_id": "3548fce86f6742a2ac5c713c9836550f",
       "version_major": 2,
       "version_minor": 0
      },
      "text/plain": [
       "HBox(children=(IntProgress(value=0, max=773), HTML(value='')))"
      ]
     },
     "metadata": {},
     "output_type": "display_data"
    },
    {
     "name": "stdout",
     "output_type": "stream",
     "text": [
      "\n",
      "Epoch 5 average loss: 1.420\n",
      "Testing:\n"
     ]
    },
    {
     "data": {
      "application/vnd.jupyter.widget-view+json": {
       "model_id": "80db8e87f39e43d2818ebb024045fcaf",
       "version_major": 2,
       "version_minor": 0
      },
      "text/plain": [
       "HBox(children=(IntProgress(value=0, max=29), HTML(value='')))"
      ]
     },
     "metadata": {},
     "output_type": "display_data"
    },
    {
     "name": "stdout",
     "output_type": "stream",
     "text": [
      "\n",
      "Accent classification accuracy: 55.01%\n",
      "Average validation loss: 1.710\n",
      "## EPOCH 6 ##\n",
      "Training:\n"
     ]
    },
    {
     "data": {
      "application/vnd.jupyter.widget-view+json": {
       "model_id": "4f27ca16198e4824a8f30df9d7f90de2",
       "version_major": 2,
       "version_minor": 0
      },
      "text/plain": [
       "HBox(children=(IntProgress(value=0, max=773), HTML(value='')))"
      ]
     },
     "metadata": {},
     "output_type": "display_data"
    },
    {
     "name": "stdout",
     "output_type": "stream",
     "text": [
      "\n",
      "Epoch 6 average loss: 1.388\n",
      "Testing:\n"
     ]
    },
    {
     "data": {
      "application/vnd.jupyter.widget-view+json": {
       "model_id": "c1e0be44ab834f43a9713d8138c49787",
       "version_major": 2,
       "version_minor": 0
      },
      "text/plain": [
       "HBox(children=(IntProgress(value=0, max=29), HTML(value='')))"
      ]
     },
     "metadata": {},
     "output_type": "display_data"
    },
    {
     "name": "stdout",
     "output_type": "stream",
     "text": [
      "\n",
      "Accent classification accuracy: 63.89%\n",
      "Average validation loss: 1.504\n",
      "## EPOCH 7 ##\n",
      "Training:\n"
     ]
    },
    {
     "data": {
      "application/vnd.jupyter.widget-view+json": {
       "model_id": "a320e58123fa4a5fb848698333c530fd",
       "version_major": 2,
       "version_minor": 0
      },
      "text/plain": [
       "HBox(children=(IntProgress(value=0, max=773), HTML(value='')))"
      ]
     },
     "metadata": {},
     "output_type": "display_data"
    },
    {
     "name": "stdout",
     "output_type": "stream",
     "text": [
      "\n",
      "Epoch 7 average loss: 1.358\n",
      "Testing:\n"
     ]
    },
    {
     "data": {
      "application/vnd.jupyter.widget-view+json": {
       "model_id": "76654fa4477a4b5dad61ca88eaa5dda4",
       "version_major": 2,
       "version_minor": 0
      },
      "text/plain": [
       "HBox(children=(IntProgress(value=0, max=29), HTML(value='')))"
      ]
     },
     "metadata": {},
     "output_type": "display_data"
    },
    {
     "name": "stdout",
     "output_type": "stream",
     "text": [
      "\n",
      "Accent classification accuracy: 65.84%\n",
      "Average validation loss: 1.864\n",
      "New best model found.\n",
      "## EPOCH 8 ##\n",
      "Training:\n"
     ]
    },
    {
     "data": {
      "application/vnd.jupyter.widget-view+json": {
       "model_id": "0288e9789fa44047a4e49b729d1a3af5",
       "version_major": 2,
       "version_minor": 0
      },
      "text/plain": [
       "HBox(children=(IntProgress(value=0, max=773), HTML(value='')))"
      ]
     },
     "metadata": {},
     "output_type": "display_data"
    },
    {
     "name": "stdout",
     "output_type": "stream",
     "text": [
      "\n",
      "Epoch 8 average loss: 1.340\n",
      "Testing:\n"
     ]
    },
    {
     "data": {
      "application/vnd.jupyter.widget-view+json": {
       "model_id": "922b4d4ee3564c7fbcd76049df79f18d",
       "version_major": 2,
       "version_minor": 0
      },
      "text/plain": [
       "HBox(children=(IntProgress(value=0, max=29), HTML(value='')))"
      ]
     },
     "metadata": {},
     "output_type": "display_data"
    },
    {
     "name": "stdout",
     "output_type": "stream",
     "text": [
      "\n",
      "Accent classification accuracy: 62.73%\n",
      "Average validation loss: 1.595\n",
      "## EPOCH 9 ##\n",
      "Training:\n"
     ]
    },
    {
     "data": {
      "application/vnd.jupyter.widget-view+json": {
       "model_id": "4444f502f6d044a49394459ce2ab63f6",
       "version_major": 2,
       "version_minor": 0
      },
      "text/plain": [
       "HBox(children=(IntProgress(value=0, max=773), HTML(value='')))"
      ]
     },
     "metadata": {},
     "output_type": "display_data"
    },
    {
     "name": "stdout",
     "output_type": "stream",
     "text": [
      "\n",
      "Epoch 9 average loss: 1.321\n",
      "Testing:\n"
     ]
    },
    {
     "data": {
      "application/vnd.jupyter.widget-view+json": {
       "model_id": "096165adb13d4da79bfe5e4e26928290",
       "version_major": 2,
       "version_minor": 0
      },
      "text/plain": [
       "HBox(children=(IntProgress(value=0, max=29), HTML(value='')))"
      ]
     },
     "metadata": {},
     "output_type": "display_data"
    },
    {
     "name": "stdout",
     "output_type": "stream",
     "text": [
      "\n",
      "Accent classification accuracy: 62.47%\n",
      "Average validation loss: 1.451\n",
      "## EPOCH 10 ##\n",
      "Training:\n"
     ]
    },
    {
     "data": {
      "application/vnd.jupyter.widget-view+json": {
       "model_id": "e829eef43fdf425b921ed49e54b4115c",
       "version_major": 2,
       "version_minor": 0
      },
      "text/plain": [
       "HBox(children=(IntProgress(value=0, max=773), HTML(value='')))"
      ]
     },
     "metadata": {},
     "output_type": "display_data"
    },
    {
     "name": "stdout",
     "output_type": "stream",
     "text": [
      "\n",
      "Epoch 10 average loss: 1.308\n",
      "Testing:\n"
     ]
    },
    {
     "data": {
      "application/vnd.jupyter.widget-view+json": {
       "model_id": "06a8527abca34526900b11df21cedf86",
       "version_major": 2,
       "version_minor": 0
      },
      "text/plain": [
       "HBox(children=(IntProgress(value=0, max=29), HTML(value='')))"
      ]
     },
     "metadata": {},
     "output_type": "display_data"
    },
    {
     "name": "stdout",
     "output_type": "stream",
     "text": [
      "\n",
      "Accent classification accuracy: 61.14%\n",
      "Average validation loss: 1.604\n",
      "## EPOCH 11 ##\n",
      "Training:\n"
     ]
    },
    {
     "data": {
      "application/vnd.jupyter.widget-view+json": {
       "model_id": "44464c756d2a4d319ba8dd9090a95eff",
       "version_major": 2,
       "version_minor": 0
      },
      "text/plain": [
       "HBox(children=(IntProgress(value=0, max=773), HTML(value='')))"
      ]
     },
     "metadata": {},
     "output_type": "display_data"
    },
    {
     "name": "stdout",
     "output_type": "stream",
     "text": [
      "\n",
      "Epoch 11 average loss: 1.296\n",
      "Testing:\n"
     ]
    },
    {
     "data": {
      "application/vnd.jupyter.widget-view+json": {
       "model_id": "f139e6ff3eb5411084baa1fd4ef92021",
       "version_major": 2,
       "version_minor": 0
      },
      "text/plain": [
       "HBox(children=(IntProgress(value=0, max=29), HTML(value='')))"
      ]
     },
     "metadata": {},
     "output_type": "display_data"
    },
    {
     "name": "stdout",
     "output_type": "stream",
     "text": [
      "\n",
      "Accent classification accuracy: 65.04%\n",
      "Average validation loss: 1.464\n",
      "New best model found.\n",
      "## EPOCH 12 ##\n",
      "Training:\n"
     ]
    },
    {
     "data": {
      "application/vnd.jupyter.widget-view+json": {
       "model_id": "71236062ef9d47978018cf9cc2ddfd23",
       "version_major": 2,
       "version_minor": 0
      },
      "text/plain": [
       "HBox(children=(IntProgress(value=0, max=773), HTML(value='')))"
      ]
     },
     "metadata": {},
     "output_type": "display_data"
    },
    {
     "name": "stdout",
     "output_type": "stream",
     "text": [
      "\n",
      "Epoch 12 average loss: 1.285\n",
      "Testing:\n"
     ]
    },
    {
     "data": {
      "application/vnd.jupyter.widget-view+json": {
       "model_id": "60b4a822d08b4402b8f9d91e9403ffd7",
       "version_major": 2,
       "version_minor": 0
      },
      "text/plain": [
       "HBox(children=(IntProgress(value=0, max=29), HTML(value='')))"
      ]
     },
     "metadata": {},
     "output_type": "display_data"
    },
    {
     "name": "stdout",
     "output_type": "stream",
     "text": [
      "\n",
      "Accent classification accuracy: 63.62%\n",
      "Average validation loss: 1.520\n",
      "## EPOCH 13 ##\n",
      "Training:\n"
     ]
    },
    {
     "data": {
      "application/vnd.jupyter.widget-view+json": {
       "model_id": "5e201bba491140358bd04c9bef9f1670",
       "version_major": 2,
       "version_minor": 0
      },
      "text/plain": [
       "HBox(children=(IntProgress(value=0, max=773), HTML(value='')))"
      ]
     },
     "metadata": {},
     "output_type": "display_data"
    },
    {
     "name": "stdout",
     "output_type": "stream",
     "text": [
      "\n",
      "Epoch 13 average loss: 1.279\n",
      "Testing:\n"
     ]
    },
    {
     "data": {
      "application/vnd.jupyter.widget-view+json": {
       "model_id": "429afa9dcd9542a1b076fec64c8b308c",
       "version_major": 2,
       "version_minor": 0
      },
      "text/plain": [
       "HBox(children=(IntProgress(value=0, max=29), HTML(value='')))"
      ]
     },
     "metadata": {},
     "output_type": "display_data"
    },
    {
     "name": "stdout",
     "output_type": "stream",
     "text": [
      "\n",
      "Accent classification accuracy: 65.31%\n",
      "Average validation loss: 1.585\n",
      "## EPOCH 14 ##\n",
      "Training:\n"
     ]
    },
    {
     "data": {
      "application/vnd.jupyter.widget-view+json": {
       "model_id": "4fc4269b9866459f99a7454f125542e3",
       "version_major": 2,
       "version_minor": 0
      },
      "text/plain": [
       "HBox(children=(IntProgress(value=0, max=773), HTML(value='')))"
      ]
     },
     "metadata": {},
     "output_type": "display_data"
    },
    {
     "name": "stdout",
     "output_type": "stream",
     "text": [
      "\n",
      "Epoch 14 average loss: 1.271\n",
      "Testing:\n"
     ]
    },
    {
     "data": {
      "application/vnd.jupyter.widget-view+json": {
       "model_id": "717769c307b149ca9f1a4972fb580731",
       "version_major": 2,
       "version_minor": 0
      },
      "text/plain": [
       "HBox(children=(IntProgress(value=0, max=29), HTML(value='')))"
      ]
     },
     "metadata": {},
     "output_type": "display_data"
    },
    {
     "name": "stdout",
     "output_type": "stream",
     "text": [
      "\n",
      "Accent classification accuracy: 63.71%\n",
      "Average validation loss: 1.305\n",
      "## EPOCH 15 ##\n",
      "Training:\n"
     ]
    },
    {
     "data": {
      "application/vnd.jupyter.widget-view+json": {
       "model_id": "c00d3237d14f4820befa692c04617fc6",
       "version_major": 2,
       "version_minor": 0
      },
      "text/plain": [
       "HBox(children=(IntProgress(value=0, max=773), HTML(value='')))"
      ]
     },
     "metadata": {},
     "output_type": "display_data"
    },
    {
     "name": "stdout",
     "output_type": "stream",
     "text": [
      "\n",
      "Epoch 15 average loss: 1.265\n",
      "Testing:\n"
     ]
    },
    {
     "data": {
      "application/vnd.jupyter.widget-view+json": {
       "model_id": "ee6ccd8f06804a928eb591ac88148400",
       "version_major": 2,
       "version_minor": 0
      },
      "text/plain": [
       "HBox(children=(IntProgress(value=0, max=29), HTML(value='')))"
      ]
     },
     "metadata": {},
     "output_type": "display_data"
    },
    {
     "name": "stdout",
     "output_type": "stream",
     "text": [
      "\n",
      "Accent classification accuracy: 66.81%\n",
      "Average validation loss: 1.594\n",
      "New best model found.\n",
      "## EPOCH 16 ##\n",
      "Training:\n"
     ]
    },
    {
     "data": {
      "application/vnd.jupyter.widget-view+json": {
       "model_id": "b87e092e84ea456abf6ac2974a5f3b68",
       "version_major": 2,
       "version_minor": 0
      },
      "text/plain": [
       "HBox(children=(IntProgress(value=0, max=773), HTML(value='')))"
      ]
     },
     "metadata": {},
     "output_type": "display_data"
    },
    {
     "name": "stdout",
     "output_type": "stream",
     "text": [
      "\n",
      "Epoch 16 average loss: 1.260\n",
      "Testing:\n"
     ]
    },
    {
     "data": {
      "application/vnd.jupyter.widget-view+json": {
       "model_id": "17e65eddce4f47fdb238c20cebd772be",
       "version_major": 2,
       "version_minor": 0
      },
      "text/plain": [
       "HBox(children=(IntProgress(value=0, max=29), HTML(value='')))"
      ]
     },
     "metadata": {},
     "output_type": "display_data"
    },
    {
     "name": "stdout",
     "output_type": "stream",
     "text": [
      "\n",
      "Accent classification accuracy: 66.99%\n",
      "Average validation loss: 1.307\n",
      "New best model found.\n",
      "## EPOCH 17 ##\n",
      "Training:\n"
     ]
    },
    {
     "data": {
      "application/vnd.jupyter.widget-view+json": {
       "model_id": "12b0038f397a49a49e1a10f1c2fc5816",
       "version_major": 2,
       "version_minor": 0
      },
      "text/plain": [
       "HBox(children=(IntProgress(value=0, max=773), HTML(value='')))"
      ]
     },
     "metadata": {},
     "output_type": "display_data"
    },
    {
     "name": "stdout",
     "output_type": "stream",
     "text": [
      "\n",
      "Epoch 17 average loss: 1.255\n",
      "Testing:\n"
     ]
    },
    {
     "data": {
      "application/vnd.jupyter.widget-view+json": {
       "model_id": "153b2abcb1c043e9bd4056074d6be254",
       "version_major": 2,
       "version_minor": 0
      },
      "text/plain": [
       "HBox(children=(IntProgress(value=0, max=29), HTML(value='')))"
      ]
     },
     "metadata": {},
     "output_type": "display_data"
    },
    {
     "name": "stdout",
     "output_type": "stream",
     "text": [
      "\n",
      "Accent classification accuracy: 61.85%\n",
      "Average validation loss: 1.455\n",
      "## EPOCH 18 ##\n",
      "Training:\n"
     ]
    },
    {
     "data": {
      "application/vnd.jupyter.widget-view+json": {
       "model_id": "a64932657a26409bb7256889965ec8e3",
       "version_major": 2,
       "version_minor": 0
      },
      "text/plain": [
       "HBox(children=(IntProgress(value=0, max=773), HTML(value='')))"
      ]
     },
     "metadata": {},
     "output_type": "display_data"
    },
    {
     "name": "stdout",
     "output_type": "stream",
     "text": [
      "\n",
      "Epoch 18 average loss: 1.252\n",
      "Testing:\n"
     ]
    },
    {
     "data": {
      "application/vnd.jupyter.widget-view+json": {
       "model_id": "054a48388cb74cfaa60e38c75a2ff9f4",
       "version_major": 2,
       "version_minor": 0
      },
      "text/plain": [
       "HBox(children=(IntProgress(value=0, max=29), HTML(value='')))"
      ]
     },
     "metadata": {},
     "output_type": "display_data"
    },
    {
     "name": "stdout",
     "output_type": "stream",
     "text": [
      "\n",
      "Accent classification accuracy: 64.60%\n",
      "Average validation loss: 1.521\n",
      "## EPOCH 19 ##\n",
      "Training:\n"
     ]
    },
    {
     "data": {
      "application/vnd.jupyter.widget-view+json": {
       "model_id": "43821d8ccdfe410481e35e492d9840fa",
       "version_major": 2,
       "version_minor": 0
      },
      "text/plain": [
       "HBox(children=(IntProgress(value=0, max=773), HTML(value='')))"
      ]
     },
     "metadata": {},
     "output_type": "display_data"
    },
    {
     "name": "stdout",
     "output_type": "stream",
     "text": [
      "\n",
      "Epoch 19 average loss: 1.249\n",
      "Testing:\n"
     ]
    },
    {
     "data": {
      "application/vnd.jupyter.widget-view+json": {
       "model_id": "0f9a7947c0df4109bc7042e8d6934b9b",
       "version_major": 2,
       "version_minor": 0
      },
      "text/plain": [
       "HBox(children=(IntProgress(value=0, max=29), HTML(value='')))"
      ]
     },
     "metadata": {},
     "output_type": "display_data"
    },
    {
     "name": "stdout",
     "output_type": "stream",
     "text": [
      "\n",
      "Accent classification accuracy: 68.86%\n",
      "Average validation loss: 1.371\n",
      "New best model found.\n",
      "## EPOCH 20 ##\n",
      "Training:\n"
     ]
    },
    {
     "data": {
      "application/vnd.jupyter.widget-view+json": {
       "model_id": "e93a6f528a1f427e921bacba9ea657fb",
       "version_major": 2,
       "version_minor": 0
      },
      "text/plain": [
       "HBox(children=(IntProgress(value=0, max=773), HTML(value='')))"
      ]
     },
     "metadata": {},
     "output_type": "display_data"
    },
    {
     "name": "stdout",
     "output_type": "stream",
     "text": [
      "\n",
      "Epoch 20 average loss: 1.245\n",
      "Testing:\n"
     ]
    },
    {
     "data": {
      "application/vnd.jupyter.widget-view+json": {
       "model_id": "a4ab63bc60604d4bb08526c9b9eefe70",
       "version_major": 2,
       "version_minor": 0
      },
      "text/plain": [
       "HBox(children=(IntProgress(value=0, max=29), HTML(value='')))"
      ]
     },
     "metadata": {},
     "output_type": "display_data"
    },
    {
     "name": "stdout",
     "output_type": "stream",
     "text": [
      "\n",
      "Accent classification accuracy: 66.73%\n",
      "Average validation loss: 1.594\n",
      "## EPOCH 21 ##\n",
      "Training:\n"
     ]
    },
    {
     "data": {
      "application/vnd.jupyter.widget-view+json": {
       "model_id": "eace44f4fc8c451bbdc89b975256a135",
       "version_major": 2,
       "version_minor": 0
      },
      "text/plain": [
       "HBox(children=(IntProgress(value=0, max=773), HTML(value='')))"
      ]
     },
     "metadata": {},
     "output_type": "display_data"
    },
    {
     "name": "stdout",
     "output_type": "stream",
     "text": [
      "\n",
      "Epoch 21 average loss: 1.245\n",
      "Testing:\n"
     ]
    },
    {
     "data": {
      "application/vnd.jupyter.widget-view+json": {
       "model_id": "d53c5bae067b40ec87f07304788bab67",
       "version_major": 2,
       "version_minor": 0
      },
      "text/plain": [
       "HBox(children=(IntProgress(value=0, max=29), HTML(value='')))"
      ]
     },
     "metadata": {},
     "output_type": "display_data"
    },
    {
     "name": "stdout",
     "output_type": "stream",
     "text": [
      "\n",
      "Accent classification accuracy: 66.37%\n",
      "Average validation loss: 1.716\n",
      "## EPOCH 22 ##\n",
      "Training:\n"
     ]
    },
    {
     "data": {
      "application/vnd.jupyter.widget-view+json": {
       "model_id": "842c71c41faa47b69d56ac67da4a97d7",
       "version_major": 2,
       "version_minor": 0
      },
      "text/plain": [
       "HBox(children=(IntProgress(value=0, max=773), HTML(value='')))"
      ]
     },
     "metadata": {},
     "output_type": "display_data"
    }
   ],
   "source": [
    "SILENT = True\n",
    "best_model = None\n",
    "\n",
    "s = {'rnn_type': [nn.GRU],\n",
    "     'rnn_hidden_size': [600]}\n",
    "\n",
    "for _rnn_type in s['rnn_type']:\n",
    "    for _rnn_hidden_size in s['rnn_hidden_size']:\n",
    "        exp_name = f'__tmp__dev-{DEV}_{_rnn_type}_{_rnn_hidden_size}_{time()}'\n",
    "\n",
    "        model = AccentClassifier(input_size=train_dataset[0][0].size(1), \n",
    "                                 num_classes=len(accent_dict),\n",
    "                                 rnn_type=_rnn_type,\n",
    "                                 hidden_size=_rnn_hidden_size,\n",
    "                                 DEBUG=DEBUG)\n",
    "\n",
    "        if param['cuda']:\n",
    "            model.cuda()\n",
    "\n",
    "        criterion = nn.CrossEntropyLoss()\n",
    "\n",
    "        optimizer = torch.optim.Adam(model.parameters(), lr=param['lr'][0])\n",
    "\n",
    "        print(f'{\"\":#<13}')\n",
    "        print(exp_name)\n",
    "        print(f'{\"\":#<13}')\n",
    "        \n",
    "        train(param, \n",
    "          model,\n",
    "          train_loader, \n",
    "          test_loader, optimizer, \n",
    "          criterion,\n",
    "          silent=SILENT,\n",
    "          exp_name=exp_name, \n",
    "          best_model=best_model)"
   ]
  },
  {
   "cell_type": "markdown",
   "metadata": {},
   "source": [
    "## Tests"
   ]
  },
  {
   "cell_type": "code",
   "execution_count": null,
   "metadata": {},
   "outputs": [],
   "source": [
    "import itertools\n",
    "import numpy as np\n",
    "import matplotlib.pyplot as plt\n",
    "\n",
    "from sklearn import svm, datasets\n",
    "from sklearn.model_selection import train_test_split\n",
    "from sklearn.metrics import confusion_matrix\n",
    "\n",
    "def plot_confusion_matrix(cm, classes,\n",
    "                          normalize=False,\n",
    "                          title='Confusion matrix',\n",
    "                          cmap=plt.cm.Blues):\n",
    "    \"\"\"\n",
    "    This function prints and plots the confusion matrix.\n",
    "    Normalization can be applied by setting `normalize=True`.\n",
    "    \"\"\"\n",
    "    np.set_printoptions(precision=2)\n",
    "    plt.figure()\n",
    "    plt.imshow(cm, interpolation='nearest', cmap=cmap)\n",
    "    plt.title(title)\n",
    "    plt.colorbar()\n",
    "    tick_marks = np.arange(len(classes))\n",
    "    plt.xticks(tick_marks, classes, rotation=45)\n",
    "    plt.yticks(tick_marks, classes)\n",
    "\n",
    "    fmt = '.2f' if normalize else 'd'\n",
    "    thresh = cm.max() / 2.\n",
    "    for i, j in itertools.product(range(cm.shape[0]), range(cm.shape[1])):\n",
    "        plt.text(j, i, format(cm[i, j], fmt),\n",
    "                 horizontalalignment=\"center\",\n",
    "                 color=\"black\") #if cm[i, j] > thresh else \"black\")\n",
    "\n",
    "    plt.ylabel('True label')\n",
    "    plt.xlabel('Predicted label')\n",
    "    plt.tight_layout()\n",
    "    plt.show()"
   ]
  },
  {
   "cell_type": "code",
   "execution_count": 289,
   "metadata": {},
   "outputs": [
    {
     "data": {
      "application/vnd.jupyter.widget-view+json": {
       "model_id": "56c8d637501a45d48fb9d4141144e4ca",
       "version_major": 2,
       "version_minor": 0
      },
      "text/plain": [
       "HBox(children=(IntProgress(value=0, max=30), HTML(value='')))"
      ]
     },
     "metadata": {},
     "output_type": "display_data"
    }
   ],
   "source": [
    "loader = test_loader\n",
    "best_model.eval()\n",
    "\n",
    "y_true, y_pred = [], []\n",
    "with torch.no_grad():\n",
    "    for data in tqdm(loader, total=len(loader)):\n",
    "        inputs, target_accents, lens = data\n",
    "        inputs = inputs.cuda()\n",
    "        target_accents = target_accents.cuda()\n",
    "        \n",
    "        out = best_model(inputs, lens)\n",
    "        \n",
    "        y_true.extend(target_accents)\n",
    "        y_pred.append(np.argmax(out, axis=1))\n",
    "        \n",
    "    y_pred = torch.cat(y_pred)\n",
    "            \n",
    "    y_true_labels = [accent_dict[int(i)] for i in y_true]\n",
    "    y_pred_labels = [accent_dict[int(i)] for i in y_pred]\n",
    "\n",
    "cnf_mat = confusion_matrix(y_true_labels, y_pred_labels)"
   ]
  },
  {
   "cell_type": "code",
   "execution_count": 290,
   "metadata": {},
   "outputs": [
    {
     "data": {
      "image/png": "[encoded data removed]",
      "text/plain": [
       "<Figure size 432x288 with 2 Axes>"
      ]
     },
     "metadata": {},
     "output_type": "display_data"
    }
   ],
   "source": [
    "plot_confusion_matrix(cnf_mat, classes=accent_dict.values())"
   ]
  },
  {
   "cell_type": "code",
   "execution_count": 291,
   "metadata": {},
   "outputs": [
    {
     "name": "stdout",
     "output_type": "stream",
     "text": [
      "             precision    recall  f1-score   support\n",
      "\n",
      "    england       0.40      0.48      0.44       299\n",
      "         us       0.35      0.28      0.31       299\n",
      "\n",
      "avg / total       0.38      0.38      0.37       598\n",
      "\n"
     ]
    }
   ],
   "source": [
    "from sklearn import metrics\n",
    "print(metrics.classification_report(y_true_labels, y_pred_labels))"
   ]
  },
  {
   "cell_type": "markdown",
   "metadata": {},
   "source": [
    "## Test at utterance level"
   ]
  },
  {
   "cell_type": "code",
   "execution_count": 219,
   "metadata": {},
   "outputs": [],
   "source": [
    "def collate_fn(batch_tot):\n",
    "    \"\"\"This function takes list of samples and assembles a batch. It is intended to used in PyTorch DataLoader.\"\"\"\n",
    "    res, targets = zip(*batch_tot)\n",
    "    lens = [len(r) for r in res]\n",
    "\n",
    "    concats = []\n",
    "    for mat in res:\n",
    "        num_frames = mat.shape[0]\n",
    "        frame_len = mat.shape[1]\n",
    "\n",
    "        pre = np.stack([mat[0]] * NUM_CONCAT)\n",
    "        post = np.stack([mat[-1]] * NUM_CONCAT)\n",
    "\n",
    "        mat = np.concatenate([pre, mat, post])\n",
    "\n",
    "        mat_tensor = torch.tensor(mat)\n",
    "        mat_tensor = mat_tensor.view(-1)\n",
    "\n",
    "        for i in range(NUM_CONCAT, num_frames + NUM_CONCAT):\n",
    "            concat = mat_tensor[(i - NUM_CONCAT) * frame_len:(1 + i + NUM_CONCAT) * frame_len]\n",
    "\n",
    "            concats.append(concat)\n",
    "            #targets.append(accent_dict[id_])\n",
    "            \n",
    "    res = torch.stack(concats)\n",
    "    \n",
    "    tar = []\n",
    "\n",
    "    [tar.extend([t] * lens[i]) for i, t in enumerate(targets)]\n",
    "    tar = torch.tensor(tar)\n",
    "    \n",
    "    # shuffling in batch\n",
    "#     idx = torch.randperm(tar.nelement())\n",
    "#     res = res[idx]\n",
    "#     tar = tar[idx]\n",
    "    \n",
    "    return res, tar, lens\n",
    "\n",
    "class UtteranceConcatDataLoader(DataLoader):\n",
    "    def __init__(self, *args, **kwargs):\n",
    "        \"\"\"\n",
    "        Creates a data loader for SpeechDatasets.\n",
    "        \"\"\"\n",
    "        super(UtteranceConcatDataLoader, self).__init__(*args, **kwargs)\n",
    "        self.collate_fn = collate_fn"
   ]
  },
  {
   "cell_type": "code",
   "execution_count": 220,
   "metadata": {},
   "outputs": [],
   "source": [
    "ut_test_dict, ut_dict = make_accent_dict('../data/CommonVoice_dataset/splits/for_notebooks/us-en_test.csv')\n",
    "\n",
    "ut_test_dataset = ConcatDataset('../data/CommonVoice_dataset/kaldi/test-norm', \n",
    "                              ids_list('../data/CommonVoice_dataset/splits/for_notebooks/us-en_test.csv'), \n",
    "                              test_dict)\n",
    "\n",
    "ut_test_loader = UtteranceConcatDataLoader(test_dataset, \n",
    "                                shuffle=False, \n",
    "                                num_workers=param['num_worker'],\n",
    "                                batch_size=param['batch_size'])\n",
    "\n",
    "ut_dev_dict, __ = make_accent_dict('../data/CommonVoice_dataset/splits/for_notebooks/us-en_dev.csv')\n",
    "\n",
    "ut_dev_dataset = ConcatDataset('../data/CommonVoice_dataset/kaldi/dev-norm', \n",
    "                              ids_list('../data/CommonVoice_dataset/splits/for_notebooks/us-en_dev.csv'), \n",
    "                              test_dict)\n",
    "\n",
    "ut_dev_loader = UtteranceConcatDataLoader(test_dataset, \n",
    "                                shuffle=False, \n",
    "                                num_workers=param['num_worker'],\n",
    "                                batch_size=param['batch_size'])"
   ]
  },
  {
   "cell_type": "code",
   "execution_count": 221,
   "metadata": {},
   "outputs": [],
   "source": [
    "def cnf_for_loader(loader):\n",
    "    y_true, y_pred = [], []\n",
    "    with torch.no_grad():\n",
    "        for data in tqdm(loader, total=len(loader)):\n",
    "            inputs, target_accents, lens = data\n",
    "            inputs = inputs.cuda()\n",
    "            target_accents = target_accents.cuda()\n",
    "\n",
    "            out = best_model(inputs, lens)\n",
    "            out = np.argmax(out, axis=1)\n",
    "\n",
    "            i = 0\n",
    "            for l in lens:                \n",
    "                y_true.append(target_accents[i])\n",
    "                y_pred.append(round(sum(out[i:i+l-1]).item()/l))\n",
    "                i += l\n",
    "\n",
    "        y_true_labels = [ut_dict[int(i)] for i in y_true]\n",
    "        y_pred_labels = [ut_dict[int(i)] for i in y_pred]\n",
    "\n",
    "    return y_true_labels, y_pred_labels"
   ]
  },
  {
   "cell_type": "code",
   "execution_count": 222,
   "metadata": {},
   "outputs": [
    {
     "data": {
      "application/vnd.jupyter.widget-view+json": {
       "model_id": "7215d7346b70495b840c3bd8601586ba",
       "version_major": 2,
       "version_minor": 0
      },
      "text/plain": [
       "HBox(children=(IntProgress(value=0, max=30), HTML(value='')))"
      ]
     },
     "metadata": {},
     "output_type": "display_data"
    },
    {
     "name": "stdout",
     "output_type": "stream",
     "text": [
      "\n"
     ]
    },
    {
     "data": {
      "application/vnd.jupyter.widget-view+json": {
       "model_id": "2963ef945ad8412fbba0809a55e24aee",
       "version_major": 2,
       "version_minor": 0
      },
      "text/plain": [
       "HBox(children=(IntProgress(value=0, max=30), HTML(value='')))"
      ]
     },
     "metadata": {},
     "output_type": "display_data"
    },
    {
     "name": "stdout",
     "output_type": "stream",
     "text": [
      "\n"
     ]
    },
    {
     "data": {
      "image/png": "[encoded data removed]",
      "text/plain": [
       "<Figure size 432x288 with 2 Axes>"
      ]
     },
     "metadata": {},
     "output_type": "display_data"
    },
    {
     "data": {
      "image/png": "[encoded data removed]",
      "text/plain": [
       "<Figure size 432x288 with 2 Axes>"
      ]
     },
     "metadata": {},
     "output_type": "display_data"
    }
   ],
   "source": [
    "best_model.eval()\n",
    "y_t_test, y_p_test = cnf_for_loader(ut_test_loader)\n",
    "test_cnf_mat = confusion_matrix(y_t_test, y_p_test)\n",
    "y_t_dev, y_p_dev = cnf_for_loader(ut_test_loader)\n",
    "dev_cnf_mat = confusion_matrix(y_t_dev, y_p_dev)\n",
    "\n",
    "plot_confusion_matrix(test_cnf_mat, title='Test', classes=accent_dict.values())\n",
    "plot_confusion_matrix(dev_cnf_mat, title='Dev', classes=accent_dict.values())"
   ]
  },
  {
   "cell_type": "code",
   "execution_count": 223,
   "metadata": {},
   "outputs": [
    {
     "name": "stdout",
     "output_type": "stream",
     "text": [
      "Test              precision    recall  f1-score   support\n",
      "\n",
      "    england       0.82      0.80      0.81       299\n",
      "         us       0.80      0.82      0.81       299\n",
      "\n",
      "avg / total       0.81      0.81      0.81       598\n",
      "\n",
      "Dev              precision    recall  f1-score   support\n",
      "\n",
      "    england       0.82      0.80      0.81       299\n",
      "         us       0.80      0.82      0.81       299\n",
      "\n",
      "avg / total       0.81      0.81      0.81       598\n",
      "\n"
     ]
    }
   ],
   "source": [
    "print('Test', metrics.classification_report(y_t_test, y_p_test))\n",
    "print('Dev', metrics.classification_report(y_t_dev, y_p_dev))"
   ]
  },
  {
   "cell_type": "markdown",
   "metadata": {},
   "source": [
    "## Data Loading old"
   ]
  },
  {
   "cell_type": "code",
   "execution_count": 6,
   "metadata": {},
   "outputs": [],
   "source": [
    "\n",
    "\n",
    "def make_accent_dict(manifest_path):\n",
    "    accent_dict = {}\n",
    "    class_dict = {}\n",
    "    with open(manifest_path) as f:\n",
    "        for l in f:\n",
    "            wav, txt, acc = l.split(',')\n",
    "            num = extract_num(wav)\n",
    "            accent = acc.strip()\n",
    "            if accent not in class_dict:\n",
    "                new_key = 0 if (len(class_dict) == 0) else max(class_dict.values()) + 1\n",
    "                class_dict[accent] = new_key\n",
    "            accent_dict[num] = class_dict[accent]\n",
    "    return accent_dict, {v: k for k, v in class_dict.items()}\n",
    "\n",
    "def concatenate_ark(ark, accent_dict):\n",
    "    concats = []\n",
    "    targets = []\n",
    "\n",
    "    for key, mat in ark:\n",
    "        id_  = extract_num(key)\n",
    "\n",
    "        if id_ in accent_dict:\n",
    "            num_frames = mat.shape[0]\n",
    "            frame_len = mat.shape[1]\n",
    "\n",
    "            pre = np.stack([mat[0]] * NUM_CONCAT) \n",
    "            post = np.stack([mat[-1]] * NUM_CONCAT)\n",
    "\n",
    "            mat = np.concatenate([pre, mat, post])\n",
    "\n",
    "            mat_tensor = torch.tensor(mat)\n",
    "            mat_tensor = mat_tensor.view(-1)\n",
    "\n",
    "            for i in range(NUM_CONCAT, num_frames + NUM_CONCAT):\n",
    "                concat = mat_tensor[(i - NUM_CONCAT) * frame_len:(1 + i + NUM_CONCAT) * frame_len]\n",
    "\n",
    "                concats.append(concat)\n",
    "                targets.append(accent_dict[id_])\n",
    "\n",
    "    return torch.stack(concats), torch.tensor(targets)\n",
    "\n",
    "def concatenated_dataset(kaldi_path, manifest_path):\n",
    "    train_kaldi = kaldi_io.read_mat_ark(kaldi_path)\n",
    "    accent_dict, class_dict = make_accent_dict(manifest_path)\n",
    "    concats, targets = concatenate_ark(train_kaldi, accent_dict)\n",
    "    return concats, targets, class_dict"
   ]
  },
  {
   "cell_type": "code",
   "execution_count": 7,
   "metadata": {},
   "outputs": [],
   "source": [
    "class KaldiDataset(torch.utils.data.Dataset):\n",
    "    def __init__(self, X, Y):\n",
    "        assert len(X) == len(Y)\n",
    "        self._input_size = X.size(1) \n",
    "        self.X, self.Y = X, Y\n",
    "    def __getitem__(self, index):\n",
    "        return self.X[index], self.Y[index]\n",
    "    def __len__(self):\n",
    "        return len(self.X)"
   ]
  },
  {
   "cell_type": "code",
   "execution_count": 8,
   "metadata": {},
   "outputs": [],
   "source": [
    "X_tr, Y_tr, class_dict = concatenated_dataset(param['train_kaldi'], param['train_manifest'])\n",
    "\n",
    "if param['cuda']:\n",
    "    X_tr = X_tr.cuda(); Y_tr = Y_tr.cuda()\n",
    "\n",
    "train_dataset = KaldiDataset(X_tr, Y_tr)\n",
    "train_loader = DataLoader(train_dataset, \n",
    "                          shuffle=True, \n",
    "                          num_workers=0, \n",
    "                          batch_size=param['batch_size'])"
   ]
  },
  {
   "cell_type": "code",
   "execution_count": 9,
   "metadata": {},
   "outputs": [],
   "source": [
    "X_te, Y_te, __ = concatenated_dataset(param['test_kaldi'], param['test_manifest'])\n",
    "\n",
    "if param['cuda']:\n",
    "    X_te = X_te.cuda(); Y_ter = Y_te.cuda()\n",
    "\n",
    "test_dataset = KaldiDataset(X_te, Y_te)\n",
    "test_loader = DataLoader(test_dataset, \n",
    "                          shuffle=True, \n",
    "                          num_workers=0, \n",
    "                          batch_size=param['batch_size'])"
   ]
  },
  {
   "cell_type": "code",
   "execution_count": null,
   "metadata": {},
   "outputs": [],
   "source": []
  }
 ],
 "metadata": {
  "kernelspec": {
   "display_name": "Python 3",
   "language": "python",
   "name": "python3"
  },
  "language_info": {
   "codemirror_mode": {
    "name": "ipython",
    "version": 3
   },
   "file_extension": ".py",
   "mimetype": "text/x-python",
   "name": "python",
   "nbconvert_exporter": "python",
   "pygments_lexer": "ipython3",
   "version": "3.6.5"
  }
 },
 "nbformat": 4,
 "nbformat_minor": 2
}
