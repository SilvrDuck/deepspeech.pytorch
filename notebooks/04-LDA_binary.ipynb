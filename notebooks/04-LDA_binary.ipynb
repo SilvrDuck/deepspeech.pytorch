{
 "cells": [
  {
   "cell_type": "markdown",
   "metadata": {},
   "source": [
    "# LDA binary"
   ]
  },
  {
   "cell_type": "code",
   "execution_count": 1,
   "metadata": {},
   "outputs": [],
   "source": [
    "DEV = True\n",
    "NUM_CONCAT = 14\n",
    "TRIM = 0.2"
   ]
  },
  {
   "cell_type": "code",
   "execution_count": 2,
   "metadata": {},
   "outputs": [],
   "source": [
    "# autoreloads\n",
    "%reload_ext autoreload\n",
    "%autoreload 1\n",
    "%aimport parameters\n",
    "\n",
    "# Allows to load modules from parent directory\n",
    "from time import time\n",
    "import inspect, sys, os, json\n",
    "from os.path import dirname, abspath\n",
    "sys.path.append(dirname(dirname(abspath(inspect.getfile(inspect.currentframe())))))\n",
    "\n",
    "from pathlib import Path\n",
    "from os import makedirs\n",
    "\n",
    "from tqdm import tqdm_notebook as tqdm\n",
    "\n",
    "import numpy as np\n",
    "import pandas as pd\n",
    "\n",
    "from data.data_loader import create_binarizer, get_accents_counts\n",
    "from utils import count_parameters\n",
    "from models.modules import BatchRNN\n",
    "\n",
    "from tensorboardX import SummaryWriter\n",
    "\n",
    "import math\n",
    "import pickle\n",
    "\n",
    "import torch\n",
    "import torch.nn as nn\n",
    "import torch.nn.functional as F\n",
    "from torch.utils.data import DataLoader\n",
    "#torch.multiprocessing.set_start_method(\"spawn\")\n",
    "from torch.utils.data import DataLoader, Dataset"
   ]
  },
  {
   "cell_type": "code",
   "execution_count": 3,
   "metadata": {},
   "outputs": [],
   "source": [
    "param = parameters.get_parameters(dev=DEV, us_en=True)"
   ]
  },
  {
   "cell_type": "markdown",
   "metadata": {},
   "source": [
    "## Utilities"
   ]
  },
  {
   "cell_type": "code",
   "execution_count": 4,
   "metadata": {},
   "outputs": [],
   "source": [
    "def val_cnts(list_):\n",
    "    return pd.Series(list_).value_counts()\n",
    "\n",
    "def extract_num (s):\n",
    "    return ''.join([c if c.isdigit() else '' for c in s])\n",
    "\n",
    "def ids_list(manifest):\n",
    "    ids = []\n",
    "    with open(manifest) as f:\n",
    "        for l in f:\n",
    "            s = l.split('/')\n",
    "            ids.append(f'{s[3]}-{s[5].split(\".\")[0]}')\n",
    "    return ids\n",
    "\n",
    "def make_accent_dict(manifest_path):\n",
    "    accent_dict = {}\n",
    "    class_dict = {}\n",
    "    with open(manifest_path) as f:\n",
    "        for l in f:\n",
    "            wav, txt, acc = l.split(',')\n",
    "            num = extract_num(wav)\n",
    "            accent = acc.strip()\n",
    "            if accent not in class_dict:\n",
    "                new_key = 0 if (len(class_dict) == 0) else max(class_dict.values()) + 1\n",
    "                class_dict[accent] = new_key\n",
    "            accent_dict[num] = class_dict[accent]\n",
    "    return accent_dict, {v: k for k, v in class_dict.items()}\n",
    "\n",
    "def pickle_xy(X, y, filename):\n",
    "    with open(f'{filename}.pickle', 'wb') as f:\n",
    "        pickle.dump((X, y), f)\n",
    "        \n",
    "def unpickle_xy(filename):\n",
    "    with open(f'{filename}.pickle', 'rb') as f:\n",
    "        X, y = pickle.load(f)\n",
    "    return X, y"
   ]
  },
  {
   "cell_type": "markdown",
   "metadata": {},
   "source": [
    "## Data Loading"
   ]
  },
  {
   "cell_type": "code",
   "execution_count": 5,
   "metadata": {},
   "outputs": [],
   "source": [
    "class ConcatDataset(Dataset):\n",
    "    \"\"\"Defines an iterator over the dataset. This class is intended to be used with PyTorch DataLoader\"\"\"\n",
    "    \n",
    "    def __init__(self, data_path, sample_ids, accent_id_dict, trim=1.0):\n",
    "        \n",
    "        self.data_path = data_path\n",
    "        self.accent_id_dict = accent_id_dict\n",
    "        if isinstance(sample_ids, list):\n",
    "            self._datafiles = sample_ids\n",
    "        else:\n",
    "            with open(sample_ids) as f:\n",
    "                self._datafiles = [x.strip() for x in f.readlines()]\n",
    "        \n",
    "        self._datafiles = self._datafiles[:int(trim * len(self._datafiles)) - 1]\n",
    "        \n",
    "    def __getitem__(self, index):\n",
    "             \n",
    "        with open(os.path.join(self.data_path, self._datafiles[index])) as f:\n",
    "            sample = json.load(f)\n",
    "        \n",
    "        target = self.accent_id_dict[extract_num(self._datafiles[index])]\n",
    "        return torch.FloatTensor(sample), target\n",
    "                      \n",
    "    def __len__(self):\n",
    "        \n",
    "        return len(self._datafiles)"
   ]
  },
  {
   "cell_type": "code",
   "execution_count": 6,
   "metadata": {},
   "outputs": [],
   "source": [
    "def collate_fn(batch_tot):\n",
    "    \"\"\"This function takes list of samples and assembles a batch. It is intended to used in PyTorch DataLoader.\"\"\"\n",
    "    res, targets = zip(*batch_tot)\n",
    "    lens = [len(r) for r in res]\n",
    "\n",
    "    concats = []\n",
    "    for mat in res:\n",
    "        num_frames = mat.shape[0]\n",
    "        frame_len = mat.shape[1]\n",
    "\n",
    "        pre = np.stack([mat[0]] * NUM_CONCAT)\n",
    "        post = np.stack([mat[-1]] * NUM_CONCAT)\n",
    "\n",
    "        mat = np.concatenate([pre, mat, post])\n",
    "\n",
    "        mat_tensor = torch.tensor(mat)\n",
    "        mat_tensor = mat_tensor.view(-1)\n",
    "\n",
    "        for i in range(NUM_CONCAT, num_frames + NUM_CONCAT):\n",
    "            concat = mat_tensor[(i - NUM_CONCAT) * frame_len:(1 + i + NUM_CONCAT) * frame_len]\n",
    "\n",
    "            concats.append(concat)\n",
    "            #targets.append(accent_dict[id_])\n",
    "            \n",
    "    res = torch.stack(concats)\n",
    "\n",
    "    tar = []\n",
    "\n",
    "    [tar.extend([t] * lens[i]) for i, t in enumerate(targets)]\n",
    "    tar = torch.tensor(tar)\n",
    "    \n",
    "    # shuffling in batch\n",
    "    idx = torch.randperm(tar.nelement())\n",
    "    res = res[idx]\n",
    "    tar = tar[idx]\n",
    "    \n",
    "    return res.numpy().astype(np.int8), tar.numpy().astype(np.float16)\n",
    "\n",
    "class ConcatDataLoader(DataLoader):\n",
    "    def __init__(self, *args, **kwargs):\n",
    "        \"\"\"\n",
    "        Creates a data loader for SpeechDatasets.\n",
    "        \"\"\"\n",
    "        super(ConcatDataLoader, self).__init__(*args, **kwargs)\n",
    "        self.collate_fn = collate_fn"
   ]
  },
  {
   "cell_type": "code",
   "execution_count": 7,
   "metadata": {},
   "outputs": [],
   "source": [
    "accent_id_dict, accent_dict = make_accent_dict(param['train_manifest'])\n",
    "\n",
    "train_dataset = ConcatDataset(param['train_kaldi'], \n",
    "                              ids_list(param['train_manifest']), \n",
    "                              accent_id_dict,\n",
    "                              trim=TRIM)\n",
    "\n",
    "train_loader = ConcatDataLoader(train_dataset, \n",
    "                                shuffle=True, \n",
    "                                num_workers=0,#param['num_worker'],\n",
    "                                batch_size=param['batch_size'])"
   ]
  },
  {
   "cell_type": "code",
   "execution_count": 8,
   "metadata": {},
   "outputs": [],
   "source": [
    "test_dict, __ = make_accent_dict(param['test_manifest'])\n",
    "\n",
    "test_dataset = ConcatDataset(param['test_kaldi'], \n",
    "                              ids_list(param['test_manifest']), \n",
    "                              test_dict)\n",
    "\n",
    "test_loader = ConcatDataLoader(test_dataset, \n",
    "                                shuffle=True, \n",
    "                                num_workers=param['num_worker'],\n",
    "                                batch_size=param['batch_size'])"
   ]
  },
  {
   "cell_type": "markdown",
   "metadata": {},
   "source": [
    "## Fitting LDA"
   ]
  },
  {
   "cell_type": "code",
   "execution_count": 9,
   "metadata": {},
   "outputs": [],
   "source": [
    "def Xy_for_kaldi_loader(loader):\n",
    "    X, y = [], []\n",
    "\n",
    "    for data in tqdm(loader, total=len(loader)):\n",
    "        inputs, target_accents, lens = data\n",
    "\n",
    "        for l, i in zip(lens, inputs):\n",
    "            X.append(i[:l].numpy())\n",
    "\n",
    "        tar_len = zip(target_accents.numpy(), lens.numpy())\n",
    "        y.extend([np.asarray(l * [t]) for t, l in tar_len])\n",
    "\n",
    "    X = np.asarray(np.concatenate(X))\n",
    "    y = np.asarray([e for a in y for e in a])\n",
    "    \n",
    "    return X, y"
   ]
  },
  {
   "cell_type": "code",
   "execution_count": 10,
   "metadata": {},
   "outputs": [],
   "source": [
    "# def Xy_for_concat_loader(loader):\n",
    "#     assert param['batch_size'] > len(loader)\n",
    "#     X, y = None, None\n",
    "#     for inputs, target_accents in tqdm(loader, total=len(loader)):\n",
    "#         X = inputs\n",
    "#         y = target_accents\n",
    "#     return X, y"
   ]
  },
  {
   "cell_type": "code",
   "execution_count": 11,
   "metadata": {},
   "outputs": [],
   "source": [
    "def Xy_for_concat_loader(loader):\n",
    "    X, y = [], []\n",
    "    for inputs, target_accents in tqdm(loader, total=len(loader)):\n",
    "        X.append(inputs)\n",
    "        y.append(target_accents)\n",
    "    X = np.concatenate(X)\n",
    "    y = np.concatenate(y)\n",
    "    return X, y"
   ]
  },
  {
   "cell_type": "code",
   "execution_count": 12,
   "metadata": {},
   "outputs": [
    {
     "data": {
      "application/vnd.jupyter.widget-view+json": {
       "model_id": "a3acaa0ba9e7487884bac1906f096597",
       "version_major": 2,
       "version_minor": 0
      },
      "text/plain": [
       "HBox(children=(IntProgress(value=0, max=7), HTML(value='')))"
      ]
     },
     "metadata": {},
     "output_type": "display_data"
    },
    {
     "name": "stdout",
     "output_type": "stream",
     "text": [
      "\n",
      "CPU times: user 1.5 s, sys: 276 ms, total: 1.78 s\n",
      "Wall time: 1.06 s\n"
     ]
    }
   ],
   "source": [
    "%%time\n",
    "X, y = Xy_for_concat_loader(train_loader)"
   ]
  },
  {
   "cell_type": "code",
   "execution_count": 13,
   "metadata": {},
   "outputs": [
    {
     "name": "stdout",
     "output_type": "stream",
     "text": [
      "(53045, 1160)\n"
     ]
    },
    {
     "data": {
      "text/plain": [
       "61532200"
      ]
     },
     "execution_count": 13,
     "metadata": {},
     "output_type": "execute_result"
    }
   ],
   "source": [
    "print(X.shape)\n",
    "X.shape[0] * X.shape[1]"
   ]
  },
  {
   "cell_type": "code",
   "execution_count": 14,
   "metadata": {},
   "outputs": [
    {
     "name": "stdout",
     "output_type": "stream",
     "text": [
      "CPU times: user 20.7 s, sys: 2.36 s, total: 23 s\n",
      "Wall time: 5.23 s\n"
     ]
    }
   ],
   "source": [
    "%%time\n",
    "import numpy as np\n",
    "from sklearn.discriminant_analysis import LinearDiscriminantAnalysis\n",
    "\n",
    "lda = LinearDiscriminantAnalysis()\n",
    "lda.fit(X, y)"
   ]
  },
  {
   "cell_type": "code",
   "execution_count": 17,
   "metadata": {},
   "outputs": [
    {
     "data": {
      "text/plain": [
       "array([[ 0.45891147],\n",
       "       [-0.72545602],\n",
       "       [ 0.91090846],\n",
       "       ...,\n",
       "       [-0.16083611],\n",
       "       [ 0.71449183],\n",
       "       [-1.36791103]])"
      ]
     },
     "execution_count": 17,
     "metadata": {},
     "output_type": "execute_result"
    }
   ],
   "source": []
  },
  {
   "cell_type": "code",
   "execution_count": 15,
   "metadata": {},
   "outputs": [
    {
     "data": {
      "text/plain": [
       "0.5681591101894617"
      ]
     },
     "execution_count": 15,
     "metadata": {},
     "output_type": "execute_result"
    }
   ],
   "source": [
    "lda.score(X, y)"
   ]
  },
  {
   "cell_type": "code",
   "execution_count": 25,
   "metadata": {},
   "outputs": [],
   "source": [
    "X_ = lda.transform(X)\n",
    "X_r = []\n",
    "for x in X_:\n",
    "    if x > 0:\n",
    "        X_r.append(1)\n",
    "    else:\n",
    "        X_r.append(0)\n",
    "X_ = np.array(X_r)"
   ]
  },
  {
   "cell_type": "code",
   "execution_count": 29,
   "metadata": {},
   "outputs": [
    {
     "name": "stdout",
     "output_type": "stream",
     "text": [
      "             precision    recall  f1-score   support\n",
      "\n",
      "          0       0.50      0.57      0.54     26365\n",
      "          1       0.51      0.44      0.47     26680\n",
      "\n",
      "avg / total       0.51      0.51      0.50     53045\n",
      "\n"
     ]
    }
   ],
   "source": [
    "from sklearn import metrics\n",
    "print(metrics.classification_report(X_, y))"
   ]
  },
  {
   "cell_type": "markdown",
   "metadata": {},
   "source": [
    "## Tests"
   ]
  },
  {
   "cell_type": "code",
   "execution_count": 16,
   "metadata": {},
   "outputs": [
    {
     "data": {
      "application/vnd.jupyter.widget-view+json": {
       "model_id": "2665619bd1dd420da7e12364e4ce8efa",
       "version_major": 2,
       "version_minor": 0
      },
      "text/plain": [
       "HBox(children=(IntProgress(value=0, max=15), HTML(value='')))"
      ]
     },
     "metadata": {},
     "output_type": "display_data"
    },
    {
     "name": "stdout",
     "output_type": "stream",
     "text": [
      "\n"
     ]
    }
   ],
   "source": [
    "X_t, y_t = Xy_for_concat_loader(test_loader)"
   ]
  },
  {
   "cell_type": "code",
   "execution_count": 18,
   "metadata": {},
   "outputs": [
    {
     "data": {
      "text/plain": [
       "0.4949779786312683"
      ]
     },
     "execution_count": 18,
     "metadata": {},
     "output_type": "execute_result"
    }
   ],
   "source": [
    "lda.score(X_t, y_t)"
   ]
  },
  {
   "cell_type": "markdown",
   "metadata": {},
   "source": [
    "### Utterance level"
   ]
  },
  {
   "cell_type": "code",
   "execution_count": 35,
   "metadata": {},
   "outputs": [],
   "source": [
    "import itertools\n",
    "import numpy as np\n",
    "import matplotlib.pyplot as plt\n",
    "\n",
    "from sklearn import svm, datasets\n",
    "from sklearn.model_selection import train_test_split\n",
    "from sklearn.metrics import confusion_matrix\n",
    "\n",
    "def plot_confusion_matrix(cm, classes,\n",
    "                          normalize=False,\n",
    "                          title='Confusion matrix',\n",
    "                          cmap=plt.cm.Blues):\n",
    "    \"\"\"\n",
    "    This function prints and plots the confusion matrix.\n",
    "    Normalization can be applied by setting `normalize=True`.\n",
    "    \"\"\"\n",
    "    np.set_printoptions(precision=2)\n",
    "    plt.figure()\n",
    "    plt.imshow(cm, interpolation='nearest', cmap=cmap)\n",
    "    plt.title(title)\n",
    "    plt.colorbar()\n",
    "    tick_marks = np.arange(len(classes))\n",
    "    plt.xticks(tick_marks, classes, rotation=45)\n",
    "    plt.yticks(tick_marks, classes)\n",
    "\n",
    "    fmt = '.2f' if normalize else 'd'\n",
    "    thresh = cm.max() / 2.\n",
    "    for i, j in itertools.product(range(cm.shape[0]), range(cm.shape[1])):\n",
    "        plt.text(j, i, format(cm[i, j], fmt),\n",
    "                 horizontalalignment=\"center\",\n",
    "                 color=\"black\") #if cm[i, j] > thresh else \"black\")\n",
    "\n",
    "    plt.ylabel('True label')\n",
    "    plt.xlabel('Predicted label')\n",
    "    plt.tight_layout()\n",
    "    plt.show()"
   ]
  },
  {
   "cell_type": "code",
   "execution_count": 36,
   "metadata": {},
   "outputs": [],
   "source": [
    "def collate_fn(batch_tot):\n",
    "    \"\"\"This function takes list of samples and assembles a batch. It is intended to used in PyTorch DataLoader.\"\"\"\n",
    "    res, targets = zip(*batch_tot)\n",
    "    lens = [len(r) for r in res]\n",
    "\n",
    "    concats = []\n",
    "    for mat in res:\n",
    "        num_frames = mat.shape[0]\n",
    "        frame_len = mat.shape[1]\n",
    "\n",
    "        pre = np.stack([mat[0]] * NUM_CONCAT)\n",
    "        post = np.stack([mat[-1]] * NUM_CONCAT)\n",
    "\n",
    "        mat = np.concatenate([pre, mat, post])\n",
    "\n",
    "        mat_tensor = torch.tensor(mat)\n",
    "        mat_tensor = mat_tensor.view(-1)\n",
    "\n",
    "        for i in range(NUM_CONCAT, num_frames + NUM_CONCAT):\n",
    "            concat = mat_tensor[(i - NUM_CONCAT) * frame_len:(1 + i + NUM_CONCAT) * frame_len]\n",
    "\n",
    "            concats.append(concat)\n",
    "            #targets.append(accent_dict[id_])\n",
    "            \n",
    "    res = torch.stack(concats)\n",
    "    \n",
    "    tar = []\n",
    "\n",
    "    [tar.extend([t] * lens[i]) for i, t in enumerate(targets)]\n",
    "    tar = torch.tensor(tar)\n",
    "    \n",
    "    # shuffling in batch\n",
    "#     idx = torch.randperm(tar.nelement())\n",
    "#     res = res[idx]\n",
    "#     tar = tar[idx]\n",
    "    \n",
    "    return res, tar, lens\n",
    "\n",
    "class UtteranceConcatDataLoader(DataLoader):\n",
    "    def __init__(self, *args, **kwargs):\n",
    "        \"\"\"\n",
    "        Creates a data loader for SpeechDatasets.\n",
    "        \"\"\"\n",
    "        super(UtteranceConcatDataLoader, self).__init__(*args, **kwargs)\n",
    "        self.collate_fn = collate_fn"
   ]
  },
  {
   "cell_type": "code",
   "execution_count": 37,
   "metadata": {},
   "outputs": [],
   "source": [
    "ut_test_dict, ut_dict = make_accent_dict('../data/CommonVoice_dataset/splits/for_notebooks/us-en_test.csv')\n",
    "\n",
    "ut_test_dataset = ConcatDataset('../data/CommonVoice_dataset/kaldi/test-norm', \n",
    "                              ids_list('../data/CommonVoice_dataset/splits/for_notebooks/us-en_test.csv'), \n",
    "                              test_dict)\n",
    "\n",
    "ut_test_loader = UtteranceConcatDataLoader(test_dataset, \n",
    "                                shuffle=False, \n",
    "                                num_workers=param['num_worker'],\n",
    "                                batch_size=param['batch_size'])\n",
    "\n",
    "ut_dev_dict, __ = make_accent_dict('../data/CommonVoice_dataset/splits/for_notebooks/us-en_dev.csv')\n",
    "\n",
    "ut_dev_dataset = ConcatDataset('../data/CommonVoice_dataset/kaldi/dev-norm', \n",
    "                              ids_list('../data/CommonVoice_dataset/splits/for_notebooks/us-en_dev.csv'), \n",
    "                              test_dict)\n",
    "\n",
    "ut_dev_loader = UtteranceConcatDataLoader(test_dataset, \n",
    "                                shuffle=False, \n",
    "                                num_workers=param['num_worker'],\n",
    "                                batch_size=param['batch_size'])"
   ]
  },
  {
   "cell_type": "code",
   "execution_count": 40,
   "metadata": {},
   "outputs": [
    {
     "ename": "NameError",
     "evalue": "name 'inputs' is not defined",
     "output_type": "error",
     "traceback": [
      "\u001b[0;31m---------------------------------------------------------------------------\u001b[0m",
      "\u001b[0;31mNameError\u001b[0m                                 Traceback (most recent call last)",
      "\u001b[0;32m<ipython-input-40-bbd1b46dc0cc>\u001b[0m in \u001b[0;36m<module>\u001b[0;34m()\u001b[0m\n\u001b[0;32m----> 1\u001b[0;31m \u001b[0minputs\u001b[0m\u001b[0;34m\u001b[0m\u001b[0m\n\u001b[0m",
      "\u001b[0;31mNameError\u001b[0m: name 'inputs' is not defined"
     ]
    }
   ],
   "source": [
    "lda."
   ]
  },
  {
   "cell_type": "code",
   "execution_count": 47,
   "metadata": {},
   "outputs": [],
   "source": [
    "def cnf_for_loader(loader):\n",
    "    y_true, y_pred = [], []\n",
    "    with torch.no_grad():\n",
    "        for data in tqdm(loader, total=len(loader)):\n",
    "            inputs, target_accents, lens = data\n",
    "\n",
    "            \n",
    "            out = lda.predict(inputs)\n",
    "            #out = np.argmax(out, axis=1)\n",
    "\n",
    "            i = 0\n",
    "            for l in lens:                \n",
    "                y_true.append(target_accents[i])\n",
    "                y_pred.append(round(sum(out[i:i+l-1]).item()/l))\n",
    "                i += l\n",
    "\n",
    "        y_true_labels = [ut_dict[int(i)] for i in y_true]\n",
    "        y_pred_labels = [ut_dict[int(i)] for i in y_pred]\n",
    "\n",
    "    return y_true_labels, y_pred_labels"
   ]
  },
  {
   "cell_type": "code",
   "execution_count": 48,
   "metadata": {},
   "outputs": [
    {
     "data": {
      "application/vnd.jupyter.widget-view+json": {
       "model_id": "4b183fad738949a48691f685d31c049e",
       "version_major": 2,
       "version_minor": 0
      },
      "text/plain": [
       "HBox(children=(IntProgress(value=0, max=15), HTML(value='')))"
      ]
     },
     "metadata": {},
     "output_type": "display_data"
    },
    {
     "name": "stdout",
     "output_type": "stream",
     "text": [
      "\n"
     ]
    },
    {
     "data": {
      "application/vnd.jupyter.widget-view+json": {
       "model_id": "59fe0eba2ab547b595573dc346ce3c75",
       "version_major": 2,
       "version_minor": 0
      },
      "text/plain": [
       "HBox(children=(IntProgress(value=0, max=15), HTML(value='')))"
      ]
     },
     "metadata": {},
     "output_type": "display_data"
    },
    {
     "name": "stdout",
     "output_type": "stream",
     "text": [
      "\n"
     ]
    }
   ],
   "source": [
    "y_t_test, y_p_test = cnf_for_loader(ut_test_loader)\n",
    "test_cnf_mat = confusion_matrix(y_t_test, y_p_test)\n",
    "y_t_dev, y_p_dev = cnf_for_loader(ut_test_loader)\n",
    "dev_cnf_mat = confusion_matrix(y_t_dev, y_p_dev)"
   ]
  },
  {
   "cell_type": "code",
   "execution_count": 50,
   "metadata": {},
   "outputs": [
    {
     "data": {
      "image/png": "[encoded data removed]",
      "text/plain": [
       "<Figure size 432x288 with 2 Axes>"
      ]
     },
     "metadata": {},
     "output_type": "display_data"
    },
    {
     "data": {
      "image/png": "[encoded data removed]",
      "text/plain": [
       "<Figure size 432x288 with 2 Axes>"
      ]
     },
     "metadata": {},
     "output_type": "display_data"
    }
   ],
   "source": [
    "plot_confusion_matrix(test_cnf_mat, title='Test', classes=accent_dict.values())\n",
    "plot_confusion_matrix(dev_cnf_mat, title='Dev', classes=accent_dict.values())"
   ]
  }
 ],
 "metadata": {
  "kernelspec": {
   "display_name": "Python 3",
   "language": "python",
   "name": "python3"
  },
  "language_info": {
   "codemirror_mode": {
    "name": "ipython",
    "version": 3
   },
   "file_extension": ".py",
   "mimetype": "text/x-python",
   "name": "python",
   "nbconvert_exporter": "python",
   "pygments_lexer": "ipython3",
   "version": "3.6.8"
  }
 },
 "nbformat": 4,
 "nbformat_minor": 2
}
