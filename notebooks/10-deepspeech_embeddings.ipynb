{
 "cells": [
  {
   "cell_type": "markdown",
   "metadata": {},
   "source": [
    "# Deepspeech with kaldi features and embedded vector"
   ]
  },
  {
   "cell_type": "code",
   "execution_count": 1,
   "metadata": {},
   "outputs": [],
   "source": [
    "# Restart from here\n",
    "DEV = False\n",
    "EPOCHS = 30\n",
    "\n",
    "DEBUG = False"
   ]
  },
  {
   "cell_type": "code",
   "execution_count": 2,
   "metadata": {},
   "outputs": [],
   "source": [
    "import torch\n",
    "import torch.nn as nn\n",
    "import torch.nn.functional as F\n",
    "from torch.utils.data import DataLoader\n",
    "\n",
    "from warpctc_pytorch import CTCLoss\n",
    "#torch.multiprocessing.set_start_method(\"spawn\")"
   ]
  },
  {
   "cell_type": "code",
   "execution_count": 3,
   "metadata": {},
   "outputs": [],
   "source": [
    "True# autoreloads\n",
    "%reload_ext autoreload\n",
    "%autoreload 1\n",
    "%aimport parameters\n",
    "\n",
    "# Allows to load modules from parent directory\n",
    "from time import time\n",
    "import inspect, sys, os, json\n",
    "from os.path import dirname, abspath\n",
    "sys.path.append(dirname(dirname(abspath(inspect.getfile(inspect.currentframe())))))\n",
    "\n",
    "from pathlib import Path\n",
    "from os import makedirs\n",
    "from collections import OrderedDict\n",
    "\n",
    "from tqdm import tqdm_notebook as tqdm\n",
    "\n",
    "import numpy as np\n",
    "import pandas as pd\n",
    "import matplotlib.pyplot as plt\n",
    "\n",
    "from data.data_loader import create_binarizer, get_accents_counts\n",
    "from utils import count_parameters\n",
    "from models.modules import MaskConv, SequenceWise, BatchRNN, InferenceBatchSoftmax, Lookahead, \\\n",
    "                    supported_rnns, supported_rnns_inv\n",
    "\n",
    "from tensorboardX import SummaryWriter\n",
    "\n",
    "import math\n",
    "\n",
    "from torch.utils.data import DataLoader, Dataset\n",
    "from decoder import GreedyDecoder, BeamCTCDecoder"
   ]
  },
  {
   "cell_type": "code",
   "execution_count": 4,
   "metadata": {},
   "outputs": [],
   "source": [
    "param = parameters.get_parameters(dev=DEV, epochs=EPOCHS, us_en=False)"
   ]
  },
  {
   "cell_type": "markdown",
   "metadata": {},
   "source": [
    "## Utilities"
   ]
  },
  {
   "cell_type": "code",
   "execution_count": 5,
   "metadata": {},
   "outputs": [],
   "source": [
    "def val_cnts(list_):\n",
    "    return pd.Series(list_).value_counts()\n",
    "\n",
    "def extract_num (s):\n",
    "    return ''.join([c if c.isdigit() else '' for c in s])\n",
    "\n",
    "def ids_list(manifest):\n",
    "    ids = []\n",
    "    with open(manifest) as f:\n",
    "        for l in f:\n",
    "            s = l.split('/')\n",
    "            ids.append(f'{s[3]}-{s[5].split(\".\")[0]}')\n",
    "    return ids\n",
    "\n",
    "def make_accent_dict(manifest_path):\n",
    "    accent_dict = {}\n",
    "    class_dict = {}\n",
    "    with open(manifest_path) as f:\n",
    "        for l in f:\n",
    "            wav, txt, acc = l.split(',')\n",
    "            num = extract_num(wav)\n",
    "            accent = acc.strip()\n",
    "            if accent not in class_dict:\n",
    "                new_key = 0 if (len(class_dict) == 0) else max(class_dict.values()) + 1\n",
    "                class_dict[accent] = new_key\n",
    "            accent_dict[num] = class_dict[accent]\n",
    "    return accent_dict, {v: k for k, v in class_dict.items()}\n",
    "\n",
    "def tile(a, dim, n_tile):\n",
    "    init_dim = a.size(dim)\n",
    "    repeat_idx = [1] * a.dim()\n",
    "    repeat_idx[dim] = n_tile\n",
    "    a = a.repeat(*(repeat_idx))\n",
    "    order_index = torch.LongTensor(np.concatenate([init_dim * np.arange(n_tile) + i for i in range(init_dim)]))\n",
    "    if a.is_cuda:\n",
    "        order_index = order_index.cuda()\n",
    "    return torch.index_select(a, dim, order_index)"
   ]
  },
  {
   "cell_type": "markdown",
   "metadata": {},
   "source": [
    "## Data Loading"
   ]
  },
  {
   "cell_type": "code",
   "execution_count": 6,
   "metadata": {},
   "outputs": [],
   "source": [
    "class KaldiDeepspeechDataset(Dataset):\n",
    "    \"\"\"Defines an iterator over the dataset. This class is intended to be used with PyTorch DataLoader\"\"\"\n",
    "    \n",
    "    def __init__(self, data_path, labels, sample_ids, transcripts_path,\n",
    "                 accent_id_dict,  embeddings_path, ivectors_path=None):\n",
    "        \n",
    "        self.data_path = data_path\n",
    "        self.ivectors_path = ivectors_path\n",
    "        self.transcripts_path = transcripts_path\n",
    "        self.embeddings_path = embeddings_path\n",
    "        self.accent_id_dict = accent_id_dict\n",
    "        self.labels_map = dict([(labels[i], i) for i in range(len(labels))])\n",
    "        if isinstance(sample_ids, list):\n",
    "            self._datafiles = sample_ids\n",
    "        else:\n",
    "            with open(sample_ids) as f:\n",
    "                self._datafiles = [x.strip() for x in f.readlines()]\n",
    "        \n",
    "    def __getitem__(self, index):\n",
    "        file_idx = self._datafiles[index]\n",
    "        with open(os.path.join(self.data_path, file_idx)) as f:\n",
    "            sample = json.load(f)\n",
    "        sample = torch.FloatTensor(sample)\n",
    "        \n",
    "        target = self.accent_id_dict[extract_num(self._datafiles[index])]\n",
    "        \n",
    "        s_id = file_idx.split('-')[-1]\n",
    "\n",
    "        transcript_path = f'{self.transcripts_path}sample-{s_id}.txt'\n",
    "        transcript = self.parse_transcript(transcript_path)\n",
    "\n",
    "        try:\n",
    "            embedding = torch.load(f'{self.embeddings_path}{s_id}', map_location=lambda storage, loc: storage)\n",
    "        except Exception as e:\n",
    "            print(e, 'sample at fault:', self.embeddings_path, s_id)\n",
    "        \n",
    "        if self.ivectors_path is None:\n",
    "            return torch.FloatTensor(sample), target, embedding, transcript\n",
    "        else:\n",
    "            with open(os.path.join(self.ivectors_path, self._datafiles[index])) as f:\n",
    "                ivect = json.load(f)\n",
    "            return torch.FloatTensor(sample), target, transcript, embedding, torch.FloatTensor(ivect)\n",
    "        \n",
    "    def parse_transcript(self, transcript_path):\n",
    "        with open(transcript_path, 'r', encoding='utf8') as transcript_file:\n",
    "            transcript = transcript_file.read().replace('\\n', '')\n",
    "        transcript = list(filter(None, [self.labels_map.get(x) for x in list(transcript)]))\n",
    "        return transcript\n",
    "                      \n",
    "    def __len__(self):\n",
    "        return len(self._datafiles)"
   ]
  },
  {
   "cell_type": "code",
   "execution_count": 7,
   "metadata": {},
   "outputs": [],
   "source": [
    "def collate_fn(batch_tot):\n",
    "    \"\"\"This function takes list of samples and assembles a batch. It is intended to used in PyTorch DataLoader.\"\"\"\n",
    "    batch = list(zip(*batch_tot))\n",
    "    ivect = None\n",
    "    \n",
    "    if len(batch) == 4:\n",
    "        input_, acc, emb, trs = batch\n",
    "    elif len(batch) == 5:\n",
    "        input_, acc, emb, trs, ivect = batch\n",
    "\n",
    "    input_lens = torch.tensor([len(r) for r in input_])\n",
    "    acc = torch.tensor(acc)\n",
    "    \n",
    "    input_ = nn.utils.rnn.pad_sequence(input_, batch_first=True)\n",
    "\n",
    "    target_lens = torch.tensor([len(t) for t in trs])\n",
    "\n",
    "    if ivect is not None:\n",
    "        ivect = nn.utils.rnn.pad_sequence(ivect, batch_first=True)\n",
    "        ivect = tile(ivect, 1, 10)\n",
    "        ivect = ivect[:, :input_.size(1), :]\n",
    "        input_ = torch.cat([input_, ivect], dim=2)\n",
    "    \n",
    "    __, idx = input_lens.sort(descending=True)\n",
    "    \n",
    "    targets = np.array(trs)[idx]\n",
    "    targets = torch.tensor([t for target in targets for t in target])\n",
    "    \n",
    "    input_ = input_[idx]\n",
    "    input_lens = input_lens[idx].int()\n",
    "    targets = targets.int()\n",
    "    target_lens = target_lens[idx].int()\n",
    "    acc = acc[idx].int()\n",
    "\n",
    "    emb = torch.cat(emb)\n",
    "    emb = emb[idx]\n",
    "    emb = emb.view(emb.size(0), 1, emb.size(1))\n",
    "    emb = tile(emb, 1, input_.size(1))\n",
    "\n",
    "    input_ = torch.cat([input_, emb], dim=2)\n",
    "    \n",
    "    return input_, input_lens, targets, target_lens, acc\n",
    "\n",
    "class KaldiDeepspeechDataLoader(DataLoader):\n",
    "    def __init__(self, *args, **kwargs):\n",
    "        \"\"\"\n",
    "        Creates a data loader for SpeechDatasets.\n",
    "        \"\"\"\n",
    "        super(KaldiDeepspeechDataLoader, self).__init__(*args, **kwargs)\n",
    "        self.collate_fn = collate_fn"
   ]
  },
  {
   "cell_type": "code",
   "execution_count": 8,
   "metadata": {},
   "outputs": [],
   "source": [
    "accent_id_dict, accent_dict = make_accent_dict(param['train_manifest'])\n",
    "\n",
    "train_dataset = KaldiDeepspeechDataset(data_path=param['train_kaldi'],\n",
    "                              labels=param['labels'],\n",
    "                              sample_ids=ids_list(param['train_manifest']), \n",
    "                              transcripts_path=param['train_transcripts'],\n",
    "                              embeddings_path=param['train_embeddings_256'],\n",
    "                              accent_id_dict=accent_id_dict,\n",
    "                              ivectors_path=None)\n",
    "\n",
    "train_loader = KaldiDeepspeechDataLoader(train_dataset, \n",
    "                                shuffle=True, \n",
    "                                num_workers=0,#param['num_worker'],\n",
    "                                batch_size=param['batch_size'])\n",
    "\n",
    "# for data in train_loader:    \n",
    "#     split_targets = []\n",
    "#     offset = 0\n",
    "#     for size in data[3]:\n",
    "#         split_targets.append(data[2][offset:offset + size])\n",
    "#         offset += size\n",
    "#     target_strings = decoder.convert_to_strings(split_targets)\n",
    "#     print('TARGETS', target_strings)\n",
    "#     break\n",
    "\n",
    "# for data in tqdm(train_loader):\n",
    "#     pass"
   ]
  },
  {
   "cell_type": "code",
   "execution_count": 9,
   "metadata": {},
   "outputs": [],
   "source": [
    "test_dict, __ = make_accent_dict(param['test_manifest'])\n",
    "\n",
    "test_dataset = KaldiDeepspeechDataset(data_path=param['test_kaldi'],\n",
    "                              labels=param['labels'],\n",
    "                              sample_ids=ids_list(param['test_manifest']), \n",
    "                              transcripts_path=param['test_transcripts'],\n",
    "                              embeddings_path=param['test_embeddings_256'],\n",
    "                              accent_id_dict=test_dict,\n",
    "                              ivectors_path=None)\n",
    "\n",
    "test_loader = KaldiDeepspeechDataLoader(test_dataset, \n",
    "                                shuffle=True, \n",
    "                                num_workers=param['num_worker'],\n",
    "                                batch_size=param['batch_size'])"
   ]
  },
  {
   "cell_type": "markdown",
   "metadata": {},
   "source": [
    "## Model definition"
   ]
  },
  {
   "cell_type": "code",
   "execution_count": 10,
   "metadata": {},
   "outputs": [],
   "source": [
    "class DeepSpeech(nn.Module):\n",
    "    def __init__(self, \n",
    "                rnn_type=nn.LSTM, \n",
    "                labels=\"abc\", \n",
    "                rnn_hidden_size=768, \n",
    "                nb_layers=5, \n",
    "                audio_conf=None,\n",
    "                bidirectional=True,\n",
    "                DEBUG=False):\n",
    "\n",
    "        super(DeepSpeech, self).__init__()\n",
    "\n",
    "        # model metadata needed for serialization/deserialization\n",
    "        if audio_conf is None:\n",
    "            audio_conf = {}\n",
    "        self._DEBUG = DEBUG\n",
    "        self._version = '0.0.1'\n",
    "        self._hidden_size = rnn_hidden_size\n",
    "        self._nb_layers = nb_layers\n",
    "        self._rnn_type = rnn_type\n",
    "        self._audio_conf = audio_conf or {}\n",
    "        self._labels = labels\n",
    "        self._bidirectional = bidirectional\n",
    "\n",
    "        sample_rate = self._audio_conf.get(\"sample_rate\", 16000)\n",
    "        window_size = self._audio_conf.get(\"window_size\", 0.02)\n",
    "        num_classes = len(self._labels)\n",
    "\n",
    "        self.conv = MaskConv(nn.Sequential(\n",
    "            nn.Conv2d(1, 32, kernel_size=(41, 11), stride=(2, 2), padding=(20, 5)),\n",
    "            nn.BatchNorm2d(32),\n",
    "            nn.Hardtanh(0, 20, inplace=True),\n",
    "            nn.Conv2d(32, 32, kernel_size=(21, 11), stride=(2, 1), padding=(10, 5)),\n",
    "            nn.BatchNorm2d(32),\n",
    "            nn.Hardtanh(0, 20, inplace=True)\n",
    "        ))\n",
    "\n",
    "        rnn_input_size = 1120\n",
    "\n",
    "        rnns = []\n",
    "        rnn = BatchRNN(input_size=rnn_input_size, hidden_size=rnn_hidden_size, rnn_type=rnn_type,\n",
    "                       bidirectional=bidirectional, batch_norm=False)\n",
    "        rnns.append(('0', rnn))\n",
    "        for x in range(nb_layers - 1):\n",
    "            rnn = BatchRNN(input_size=rnn_hidden_size, hidden_size=rnn_hidden_size, rnn_type=rnn_type,\n",
    "                           bidirectional=bidirectional)\n",
    "            rnns.append(('%d' % (x + 1), rnn))\n",
    "        self.rnns = nn.Sequential(OrderedDict(rnns))\n",
    "\n",
    "        fully_connected = nn.Sequential(\n",
    "            nn.BatchNorm1d(rnn_hidden_size),\n",
    "            nn.Linear(rnn_hidden_size, num_classes, bias=False)\n",
    "        )\n",
    "        self.fc = nn.Sequential(\n",
    "            SequenceWise(fully_connected),\n",
    "        )\n",
    "        self.inference_softmax = InferenceBatchSoftmax()\n",
    "\n",
    "\n",
    "    def forward(self, x, lengths):\n",
    "        if self._DEBUG:\n",
    "            print('input', x.size())\n",
    "\n",
    "        lengths = lengths.cpu().int()\n",
    "        output_lengths = self.get_seq_lens(lengths)\n",
    "        \n",
    "        x = x.view(x.size(0), 1, x.size(1), x.size(2))\n",
    "        x = x.transpose(2, 3)\n",
    "        if self._DEBUG:\n",
    "            print('after view transpose', x.size())\n",
    "            \n",
    "        x, _ = self.conv(x, output_lengths)\n",
    "        if self._DEBUG:\n",
    "            print('after conv', x.size())\n",
    "\n",
    "        sizes = x.size()\n",
    "        x = x.view(sizes[0], sizes[1] * sizes[2], sizes[3])  # Collapse feature dimension\n",
    "        x = x.transpose(1, 2).transpose(0, 1).contiguous()  # TxNxH\n",
    "        if self._DEBUG:\n",
    "            print('after view transpose', x.size())\n",
    "\n",
    "        for rnn in self.rnns:\n",
    "            x = rnn(x, output_lengths)\n",
    "        if self._DEBUG:\n",
    "            print('after rnn', x.size())\n",
    "\n",
    "        x = self.fc(x)\n",
    "        if self._DEBUG:\n",
    "            print('after fc', x.size())\n",
    "        \n",
    "        x = x.transpose(0, 1)\n",
    "        if self._DEBUG:\n",
    "            print('after transpose', x.size())\n",
    "        # identity in training mode, softmax in eval mode\n",
    "        x = self.inference_softmax(x)\n",
    "        if self._DEBUG:\n",
    "            print('after softmax', x.size())\n",
    "            \n",
    "        x = x.transpose(0, 1)\n",
    "        if self._DEBUG:\n",
    "            print('after transpose', x.size())\n",
    "            \n",
    "        self._DEBUG = False\n",
    "        return x, output_lengths\n",
    "\n",
    "    def get_seq_lens(self, input_length):\n",
    "        \"\"\"\n",
    "        Given a 1D Tensor or Variable containing integer sequence lengths, return a 1D tensor or variable\n",
    "        containing the size sequences that will be output by the network.\n",
    "        :param input_length: 1D Tensor\n",
    "        :return: 1D Tensor scaled by model\n",
    "        \"\"\"\n",
    "        seq_len = input_length\n",
    "        for m in self.conv.modules():\n",
    "            if type(m) == nn.modules.conv.Conv2d:\n",
    "                seq_len = ((seq_len + 2 * m.padding[1] - m.dilation[1] * (m.kernel_size[1] - 1) - 1) / m.stride[1] + 1)\n",
    "        return seq_len.int()\n",
    "\n",
    "    @staticmethod\n",
    "    def get_labels(model):\n",
    "        return model.module._labels if model.is_parallel(model) else model._labels\n",
    "\n",
    "    @staticmethod\n",
    "    def get_param_size(model):\n",
    "        params = 0\n",
    "        for p in model.parameters():\n",
    "            tmp = 1\n",
    "            for x in p.size():\n",
    "                tmp *= x\n",
    "            params += tmp\n",
    "        return params\n",
    "\n",
    "    @staticmethod\n",
    "    def get_audio_conf(model):\n",
    "        return model.module._audio_conf if DeepSpeech.is_parallel(model) else model._audio_conf"
   ]
  },
  {
   "cell_type": "markdown",
   "metadata": {},
   "source": [
    "## Optimizer"
   ]
  },
  {
   "cell_type": "code",
   "execution_count": 11,
   "metadata": {},
   "outputs": [
    {
     "name": "stdout",
     "output_type": "stream",
     "text": [
      "DeepSpeech(\n",
      "  (conv): MaskConv(\n",
      "    (seq_module): Sequential(\n",
      "      (0): Conv2d(1, 32, kernel_size=(41, 11), stride=(2, 2), padding=(20, 5))\n",
      "      (1): BatchNorm2d(32, eps=1e-05, momentum=0.1, affine=True, track_running_stats=True)\n",
      "      (2): Hardtanh(min_val=0, max_val=20, inplace)\n",
      "      (3): Conv2d(32, 32, kernel_size=(21, 11), stride=(2, 1), padding=(10, 5))\n",
      "      (4): BatchNorm2d(32, eps=1e-05, momentum=0.1, affine=True, track_running_stats=True)\n",
      "      (5): Hardtanh(min_val=0, max_val=20, inplace)\n",
      "    )\n",
      "  )\n",
      "  (rnns): Sequential(\n",
      "    (0): BatchRNN(\n",
      "      (rnn): GRU(1120, 800, bidirectional=True)\n",
      "    )\n",
      "    (1): BatchRNN(\n",
      "      (batch_norm): SequenceWise (\n",
      "      BatchNorm1d(800, eps=1e-05, momentum=0.1, affine=True, track_running_stats=True))\n",
      "      (rnn): GRU(800, 800, bidirectional=True)\n",
      "    )\n",
      "    (2): BatchRNN(\n",
      "      (batch_norm): SequenceWise (\n",
      "      BatchNorm1d(800, eps=1e-05, momentum=0.1, affine=True, track_running_stats=True))\n",
      "      (rnn): GRU(800, 800, bidirectional=True)\n",
      "    )\n",
      "    (3): BatchRNN(\n",
      "      (batch_norm): SequenceWise (\n",
      "      BatchNorm1d(800, eps=1e-05, momentum=0.1, affine=True, track_running_stats=True))\n",
      "      (rnn): GRU(800, 800, bidirectional=True)\n",
      "    )\n",
      "    (4): BatchRNN(\n",
      "      (batch_norm): SequenceWise (\n",
      "      BatchNorm1d(800, eps=1e-05, momentum=0.1, affine=True, track_running_stats=True))\n",
      "      (rnn): GRU(800, 800, bidirectional=True)\n",
      "    )\n",
      "  )\n",
      "  (fc): Sequential(\n",
      "    (0): SequenceWise (\n",
      "    Sequential(\n",
      "      (0): BatchNorm1d(800, eps=1e-05, momentum=0.1, affine=True, track_running_stats=True)\n",
      "      (1): Linear(in_features=800, out_features=29, bias=False)\n",
      "    ))\n",
      "  )\n",
      "  (inference_softmax): InferenceBatchSoftmax()\n",
      ")\n",
      "Model parameters counts: 40266368\n"
     ]
    }
   ],
   "source": [
    "model = DeepSpeech(rnn_type=param['rnn_type'], \n",
    "                labels=param['labels'], \n",
    "                rnn_hidden_size=param['rnn_hidden_size'], \n",
    "                nb_layers=param['num_layers'], #audio_conf=audio_conf,\n",
    "                bidirectional=True,\n",
    "                DEBUG=DEBUG,)\n",
    "\n",
    "if param['cuda']:\n",
    "    model.cuda()\n",
    "\n",
    "criterion = CTCLoss()\n",
    "\n",
    "optimizer = torch.optim.Adam(model.parameters(), lr=param['lr'][0])\n",
    "\n",
    "decoder = BeamCTCDecoder(param['labels'], lm_path=param['lm_path'],\n",
    "                        alpha=0.8, beta=1.,\n",
    "                        cutoff_top_n=40, cutoff_prob=1.0,\n",
    "                        beam_width=100, num_processes=param['num_worker'])\n",
    "target_decoder = GreedyDecoder(param['labels'])\n",
    "\n",
    "print(model)\n",
    "print('Model parameters counts:', count_parameters(model))"
   ]
  },
  {
   "cell_type": "markdown",
   "metadata": {},
   "source": [
    "## Training"
   ]
  },
  {
   "cell_type": "code",
   "execution_count": 12,
   "metadata": {},
   "outputs": [],
   "source": [
    "def check_wer(targets, targets_len, out, output_len):\n",
    "    split_targets = []\n",
    "    offset = 0\n",
    "    for size in targets_len:\n",
    "        split_targets.append(targets[offset:offset + size])\n",
    "        offset += size\n",
    "        \n",
    "    decoded_output, _ = decoder.decode(out.data.transpose(0,1), output_len)\n",
    "    target_strings = target_decoder.convert_to_strings(split_targets)\n",
    "    \n",
    "    if False:\n",
    "        print('targets', targets)\n",
    "        print('split_targets', split_targets)\n",
    "        print('out', out)\n",
    "        print('output_len', output_len)\n",
    "        print('decoded', decoded_output)\n",
    "        print('target', target_strings)\n",
    "    \n",
    "    wer, cer = 0, 0\n",
    "    for x in range(len(target_strings)):\n",
    "        transcript, reference = decoded_output[x][0], target_strings[x][0]\n",
    "        wer += decoder.wer(transcript, reference) / float(len(reference.split()))\n",
    "        #cer += decoder.cer(transcript, reference) / float(len(reference))\n",
    "    wer /= len(target_strings)\n",
    "    return wer * 100"
   ]
  },
  {
   "cell_type": "code",
   "execution_count": 13,
   "metadata": {},
   "outputs": [],
   "source": [
    "def train(epochs, \n",
    "          model, \n",
    "          train_loader, \n",
    "          test_loader, \n",
    "          optimizer, \n",
    "          silent=True,\n",
    "          cnt=0,\n",
    "          exp_name='__tmp__'):\n",
    "\n",
    "    # Tensorboard\n",
    "    tb_path = Path(param['tensorboard_dir']) / exp_name\n",
    "    makedirs(tb_path, exist_ok=True)\n",
    "    tb_writer = SummaryWriter(tb_path)\n",
    "    best_model = model\n",
    "    \n",
    "    prev_epoch_val_loss = math.inf\n",
    "    prev_epoch_wer = math.inf\n",
    "    \n",
    "    ## Train\n",
    "    for epoch in range(1, param['epochs'] + 1):\n",
    "        import gc; gc.collect()\n",
    "        print('')\n",
    "        print(f'## EPOCH {epoch} ##')\n",
    "        print(f'Training:')\n",
    "        model.train()\n",
    "\n",
    "        # train\n",
    "        epoch_losses = []\n",
    "        for i, data in tqdm(enumerate(train_loader), total=len(train_loader)):\n",
    "            inputs, inputs_len, targets, targets_len, target_accents = data\n",
    "            \n",
    "            inputs = inputs.cuda()\n",
    "            inputs_len = inputs_len.cuda()\n",
    "            targets = targets.cuda()\n",
    "            targets_len = targets_len.cuda()\n",
    "            target_accents = target_accents.cuda()\n",
    "\n",
    "            # Forward pass\n",
    "            out, output_len = model(inputs, inputs_len)\n",
    "\n",
    "            out = out.cpu()\n",
    "            targets = targets.cpu()\n",
    "            targets_len = targets_len.cpu()\n",
    "            \n",
    "            if DEBUG:\n",
    "                print('## Outputs train')\n",
    "                print('out', out.size())\n",
    "                print('targets', targets.size())\n",
    "                print('output_len', output_len.size())\n",
    "                print('targets_len', targets_len.size())\n",
    "                   \n",
    "            loss = criterion(out, targets, output_len, targets_len)\n",
    "            epoch_losses.append(loss)\n",
    "\n",
    "            if not silent:\n",
    "                print(f'Iteration {i+1}/{len(train_loader):<4}loss: {loss.item():0.3f}')\n",
    "\n",
    "            # Gradient\n",
    "            optimizer.zero_grad()\n",
    "            loss.backward()\n",
    "            optimizer.step()\n",
    "\n",
    "        epoch_loss = sum(epoch_losses) / len(train_loader)\n",
    "        tb_writer.add_scalar('stats/train_loss', epoch_loss, epoch)\n",
    "        print(f'Epoch {epoch} average loss: {epoch_loss.item():0.3f}')\n",
    "\n",
    "        # validate\n",
    "        print(f'Testing:')\n",
    "        model.eval()\n",
    "        epoch_val_losses = []\n",
    "        epoch_wer = []\n",
    "        with torch.no_grad():\n",
    "            for data in tqdm(test_loader, total=len(test_loader)): ## ## \n",
    "                inputs, inputs_len, targets, targets_len, target_accents = data\n",
    "                \n",
    "                inputs = inputs.cuda()\n",
    "                inputs_len = inputs_len.cuda()\n",
    "                targets = targets.cuda()\n",
    "                targets_len = targets_len.cuda()\n",
    "                target_accents = target_accents.cuda()\n",
    "\n",
    "                out, output_len = model(inputs, inputs_len)\n",
    "\n",
    "                out = out.cpu()\n",
    "                targets = targets.cpu()\n",
    "                targets_len = targets_len.cpu()\n",
    "                \n",
    "                if False:\n",
    "                    print('## Outputs test')\n",
    "                    print('out', out)\n",
    "                    print('targets', targets)\n",
    "                    print('output_len', output_len)\n",
    "                    print('targets_len', targets_len)\n",
    "                \n",
    "                val_loss = criterion(out, targets, output_len, targets_len)\n",
    "                \n",
    "                if DEBUG:\n",
    "                    print('val loss', val_loss)\n",
    "                \n",
    "                epoch_val_losses.append(val_loss)\n",
    "\n",
    "                wer = check_wer(targets, targets_len, out, output_len)\n",
    "                epoch_wer.append(wer)\n",
    "\n",
    "        epoch_val_loss = sum(epoch_val_losses) / len(epoch_val_losses) ##\n",
    "        epoch_wer = sum(epoch_wer) / len(epoch_wer)\n",
    "\n",
    "        tb_writer.add_scalar('stats/val_loss', epoch_val_loss, epoch)\n",
    "        print(f'Average validation loss: {epoch_val_loss.item():0.3f}')\n",
    "        \n",
    "        tb_writer.add_scalar('stats/wer', epoch_wer, epoch)\n",
    "        print(f'Average wer: {epoch_wer:0.3f}%')\n",
    "\n",
    "        if epoch_wer < prev_epoch_wer:\n",
    "            print('New best model found.')\n",
    "            prev_epoch_wer = epoch_wer     \n",
    "                \n",
    "            torch.save(model.state_dict, f'saved/vac05-ntbk_sd_{cnt}.pt')\n",
    "            torch.save(model, f'saved/vac05-ntbk_fm_{cnt}.pt')\n",
    "            \n",
    "    return model, prev_epoch_val_loss, prev_epoch_wer"
   ]
  },
  {
   "cell_type": "code",
   "execution_count": null,
   "metadata": {},
   "outputs": [
    {
     "name": "stdout",
     "output_type": "stream",
     "text": [
      "\n",
      "#############\n",
      "NEW-Embeddings_<class 'torch.nn.modules.rnn.GRU'>_hidden-800_1550504048.892274\n",
      "#############\n",
      "\n",
      "## EPOCH 1 ##\n",
      "Training:\n"
     ]
    },
    {
     "data": {
      "application/vnd.jupyter.widget-view+json": {
       "model_id": "d3b6808846e44211ba1c36158164d4dd",
       "version_major": 2,
       "version_minor": 0
      },
      "text/plain": [
       "HBox(children=(IntProgress(value=0, max=1545), HTML(value='')))"
      ]
     },
     "metadata": {},
     "output_type": "display_data"
    },
    {
     "name": "stdout",
     "output_type": "stream",
     "text": [
      "\n",
      "Epoch 1 average loss: 2188.531\n",
      "Testing:\n"
     ]
    },
    {
     "data": {
      "application/vnd.jupyter.widget-view+json": {
       "model_id": "f7967dcfba3040fcb64ba1b4d794726c",
       "version_major": 2,
       "version_minor": 0
      },
      "text/plain": [
       "HBox(children=(IntProgress(value=0, max=57), HTML(value='')))"
      ]
     },
     "metadata": {},
     "output_type": "display_data"
    },
    {
     "name": "stdout",
     "output_type": "stream",
     "text": [
      "\n",
      "Average validation loss: 8809.682\n",
      "Average wer: 79.781%\n",
      "New best model found.\n"
     ]
    },
    {
     "name": "stderr",
     "output_type": "stream",
     "text": [
      "/home/thibault/anaconda3/lib/python3.6/site-packages/torch/serialization.py:241: UserWarning: Couldn't retrieve source code for container of type DeepSpeech. It won't be checked for correctness upon loading.\n",
      "  \"type \" + obj.__name__ + \". It won't be checked \"\n"
     ]
    },
    {
     "name": "stdout",
     "output_type": "stream",
     "text": [
      "\n",
      "## EPOCH 2 ##\n",
      "Training:\n"
     ]
    },
    {
     "data": {
      "application/vnd.jupyter.widget-view+json": {
       "model_id": "7d9467198be546aeb6998c46ad790c82",
       "version_major": 2,
       "version_minor": 0
      },
      "text/plain": [
       "HBox(children=(IntProgress(value=0, max=1545), HTML(value='')))"
      ]
     },
     "metadata": {},
     "output_type": "display_data"
    },
    {
     "name": "stdout",
     "output_type": "stream",
     "text": [
      "\n",
      "Epoch 2 average loss: 1228.255\n",
      "Testing:\n"
     ]
    },
    {
     "data": {
      "application/vnd.jupyter.widget-view+json": {
       "model_id": "1b433106c1e34042b63fc49addcf318c",
       "version_major": 2,
       "version_minor": 0
      },
      "text/plain": [
       "HBox(children=(IntProgress(value=0, max=57), HTML(value='')))"
      ]
     },
     "metadata": {},
     "output_type": "display_data"
    },
    {
     "name": "stdout",
     "output_type": "stream",
     "text": [
      "\n",
      "Average validation loss: 8811.475\n",
      "Average wer: 47.779%\n",
      "New best model found.\n",
      "\n",
      "## EPOCH 3 ##\n",
      "Training:\n"
     ]
    },
    {
     "data": {
      "application/vnd.jupyter.widget-view+json": {
       "model_id": "e1cb314a0b59480e9e08eb0f436cffe4",
       "version_major": 2,
       "version_minor": 0
      },
      "text/plain": [
       "HBox(children=(IntProgress(value=0, max=1545), HTML(value='')))"
      ]
     },
     "metadata": {},
     "output_type": "display_data"
    },
    {
     "name": "stdout",
     "output_type": "stream",
     "text": [
      "\n",
      "Epoch 3 average loss: 900.309\n",
      "Testing:\n"
     ]
    },
    {
     "data": {
      "application/vnd.jupyter.widget-view+json": {
       "model_id": "9c90d9425bd847a6b1e79451f7beb6dd",
       "version_major": 2,
       "version_minor": 0
      },
      "text/plain": [
       "HBox(children=(IntProgress(value=0, max=57), HTML(value='')))"
      ]
     },
     "metadata": {},
     "output_type": "display_data"
    },
    {
     "name": "stdout",
     "output_type": "stream",
     "text": [
      "\n",
      "Average validation loss: 8815.303\n",
      "Average wer: 31.121%\n",
      "New best model found.\n",
      "\n",
      "## EPOCH 4 ##\n",
      "Training:\n"
     ]
    },
    {
     "data": {
      "application/vnd.jupyter.widget-view+json": {
       "model_id": "89a15b5879c2410f8a3480a49d138544",
       "version_major": 2,
       "version_minor": 0
      },
      "text/plain": [
       "HBox(children=(IntProgress(value=0, max=1545), HTML(value='')))"
      ]
     },
     "metadata": {},
     "output_type": "display_data"
    },
    {
     "name": "stdout",
     "output_type": "stream",
     "text": [
      "\n",
      "Epoch 4 average loss: 712.226\n",
      "Testing:\n"
     ]
    },
    {
     "data": {
      "application/vnd.jupyter.widget-view+json": {
       "model_id": "85f51668d2da4423950a92d6982fbba8",
       "version_major": 2,
       "version_minor": 0
      },
      "text/plain": [
       "HBox(children=(IntProgress(value=0, max=57), HTML(value='')))"
      ]
     },
     "metadata": {},
     "output_type": "display_data"
    },
    {
     "name": "stdout",
     "output_type": "stream",
     "text": [
      "\n",
      "Average validation loss: 8817.396\n",
      "Average wer: 26.889%\n",
      "New best model found.\n",
      "\n",
      "## EPOCH 5 ##\n",
      "Training:\n"
     ]
    },
    {
     "data": {
      "application/vnd.jupyter.widget-view+json": {
       "model_id": "6bf109297f3b4ff88dbda650fb0b69a6",
       "version_major": 2,
       "version_minor": 0
      },
      "text/plain": [
       "HBox(children=(IntProgress(value=0, max=1545), HTML(value='')))"
      ]
     },
     "metadata": {},
     "output_type": "display_data"
    },
    {
     "name": "stdout",
     "output_type": "stream",
     "text": [
      "\n",
      "Epoch 5 average loss: 567.829\n",
      "Testing:\n"
     ]
    },
    {
     "data": {
      "application/vnd.jupyter.widget-view+json": {
       "model_id": "426e52ef618c43bbbdaf1396175c0494",
       "version_major": 2,
       "version_minor": 0
      },
      "text/plain": [
       "HBox(children=(IntProgress(value=0, max=57), HTML(value='')))"
      ]
     },
     "metadata": {},
     "output_type": "display_data"
    },
    {
     "name": "stdout",
     "output_type": "stream",
     "text": [
      "\n",
      "Average validation loss: 8808.662\n",
      "Average wer: 22.248%\n",
      "New best model found.\n",
      "\n",
      "## EPOCH 6 ##\n",
      "Training:\n"
     ]
    },
    {
     "data": {
      "application/vnd.jupyter.widget-view+json": {
       "model_id": "329dab64532540ae86a14e5680085d0d",
       "version_major": 2,
       "version_minor": 0
      },
      "text/plain": [
       "HBox(children=(IntProgress(value=0, max=1545), HTML(value='')))"
      ]
     },
     "metadata": {},
     "output_type": "display_data"
    },
    {
     "name": "stdout",
     "output_type": "stream",
     "text": [
      "\n",
      "Epoch 6 average loss: 462.619\n",
      "Testing:\n"
     ]
    },
    {
     "data": {
      "application/vnd.jupyter.widget-view+json": {
       "model_id": "f801d48415ae40328a781bccbc5a6c01",
       "version_major": 2,
       "version_minor": 0
      },
      "text/plain": [
       "HBox(children=(IntProgress(value=0, max=57), HTML(value='')))"
      ]
     },
     "metadata": {},
     "output_type": "display_data"
    },
    {
     "name": "stdout",
     "output_type": "stream",
     "text": [
      "\n",
      "Average validation loss: 8816.416\n",
      "Average wer: 19.333%\n",
      "New best model found.\n",
      "\n",
      "## EPOCH 7 ##\n",
      "Training:\n"
     ]
    },
    {
     "data": {
      "application/vnd.jupyter.widget-view+json": {
       "model_id": "7555fc6ab15a47cb89e70bbc99eb0a32",
       "version_major": 2,
       "version_minor": 0
      },
      "text/plain": [
       "HBox(children=(IntProgress(value=0, max=1545), HTML(value='')))"
      ]
     },
     "metadata": {},
     "output_type": "display_data"
    },
    {
     "name": "stdout",
     "output_type": "stream",
     "text": [
      "\n",
      "Epoch 7 average loss: 376.836\n",
      "Testing:\n"
     ]
    },
    {
     "data": {
      "application/vnd.jupyter.widget-view+json": {
       "model_id": "f9e844604f2e43e6872dabc730253424",
       "version_major": 2,
       "version_minor": 0
      },
      "text/plain": [
       "HBox(children=(IntProgress(value=0, max=57), HTML(value='')))"
      ]
     },
     "metadata": {},
     "output_type": "display_data"
    },
    {
     "name": "stdout",
     "output_type": "stream",
     "text": [
      "\n",
      "Average validation loss: 8802.967\n",
      "Average wer: 18.843%\n",
      "New best model found.\n",
      "\n",
      "## EPOCH 8 ##\n",
      "Training:\n"
     ]
    },
    {
     "data": {
      "application/vnd.jupyter.widget-view+json": {
       "model_id": "69ea8696f99d4cd6903d954e077750dd",
       "version_major": 2,
       "version_minor": 0
      },
      "text/plain": [
       "HBox(children=(IntProgress(value=0, max=1545), HTML(value='')))"
      ]
     },
     "metadata": {},
     "output_type": "display_data"
    },
    {
     "name": "stdout",
     "output_type": "stream",
     "text": [
      "\n",
      "Epoch 8 average loss: 314.559\n",
      "Testing:\n"
     ]
    },
    {
     "data": {
      "application/vnd.jupyter.widget-view+json": {
       "model_id": "237d475e19354a828ed21a3681f24bda",
       "version_major": 2,
       "version_minor": 0
      },
      "text/plain": [
       "HBox(children=(IntProgress(value=0, max=57), HTML(value='')))"
      ]
     },
     "metadata": {},
     "output_type": "display_data"
    },
    {
     "name": "stdout",
     "output_type": "stream",
     "text": [
      "\n",
      "Average validation loss: 8802.873\n",
      "Average wer: 17.893%\n",
      "New best model found.\n",
      "\n",
      "## EPOCH 9 ##\n",
      "Training:\n"
     ]
    },
    {
     "data": {
      "application/vnd.jupyter.widget-view+json": {
       "model_id": "c2c1f78478a243b4be47f01ecaee2c55",
       "version_major": 2,
       "version_minor": 0
      },
      "text/plain": [
       "HBox(children=(IntProgress(value=0, max=1545), HTML(value='')))"
      ]
     },
     "metadata": {},
     "output_type": "display_data"
    },
    {
     "name": "stdout",
     "output_type": "stream",
     "text": [
      "\n",
      "Epoch 9 average loss: 267.667\n",
      "Testing:\n"
     ]
    },
    {
     "data": {
      "application/vnd.jupyter.widget-view+json": {
       "model_id": "60a0e32ae9eb4103848c678370b24e22",
       "version_major": 2,
       "version_minor": 0
      },
      "text/plain": [
       "HBox(children=(IntProgress(value=0, max=57), HTML(value='')))"
      ]
     },
     "metadata": {},
     "output_type": "display_data"
    },
    {
     "name": "stdout",
     "output_type": "stream",
     "text": [
      "\n",
      "Average validation loss: 8789.896\n",
      "Average wer: 17.255%\n",
      "New best model found.\n",
      "\n",
      "## EPOCH 10 ##\n",
      "Training:\n"
     ]
    },
    {
     "data": {
      "application/vnd.jupyter.widget-view+json": {
       "model_id": "ba67efba00934754a8fa7034ccac3763",
       "version_major": 2,
       "version_minor": 0
      },
      "text/plain": [
       "HBox(children=(IntProgress(value=0, max=1545), HTML(value='')))"
      ]
     },
     "metadata": {},
     "output_type": "display_data"
    },
    {
     "name": "stdout",
     "output_type": "stream",
     "text": [
      "\n",
      "Epoch 10 average loss: 221.214\n",
      "Testing:\n"
     ]
    },
    {
     "data": {
      "application/vnd.jupyter.widget-view+json": {
       "model_id": "1f00ba6083764fd290c9697453c681c1",
       "version_major": 2,
       "version_minor": 0
      },
      "text/plain": [
       "HBox(children=(IntProgress(value=0, max=57), HTML(value='')))"
      ]
     },
     "metadata": {},
     "output_type": "display_data"
    },
    {
     "name": "stdout",
     "output_type": "stream",
     "text": [
      "\n",
      "Average validation loss: 8796.946\n",
      "Average wer: 17.352%\n",
      "\n",
      "## EPOCH 11 ##\n",
      "Training:\n"
     ]
    },
    {
     "data": {
      "application/vnd.jupyter.widget-view+json": {
       "model_id": "b7665e11b4874df18c557068cfe3bf3f",
       "version_major": 2,
       "version_minor": 0
      },
      "text/plain": [
       "HBox(children=(IntProgress(value=0, max=1545), HTML(value='')))"
      ]
     },
     "metadata": {},
     "output_type": "display_data"
    },
    {
     "name": "stdout",
     "output_type": "stream",
     "text": [
      "\n",
      "Epoch 11 average loss: 197.167\n",
      "Testing:\n"
     ]
    },
    {
     "data": {
      "application/vnd.jupyter.widget-view+json": {
       "model_id": "8a30fb4f029d4bab810f68eb015ca550",
       "version_major": 2,
       "version_minor": 0
      },
      "text/plain": [
       "HBox(children=(IntProgress(value=0, max=57), HTML(value='')))"
      ]
     },
     "metadata": {},
     "output_type": "display_data"
    },
    {
     "name": "stdout",
     "output_type": "stream",
     "text": [
      "\n",
      "Average validation loss: 8805.220\n",
      "Average wer: 16.907%\n",
      "New best model found.\n",
      "\n",
      "## EPOCH 12 ##\n",
      "Training:\n"
     ]
    },
    {
     "data": {
      "application/vnd.jupyter.widget-view+json": {
       "model_id": "b79fe73b526c473c86cb0dfa90c3901f",
       "version_major": 2,
       "version_minor": 0
      },
      "text/plain": [
       "HBox(children=(IntProgress(value=0, max=1545), HTML(value='')))"
      ]
     },
     "metadata": {},
     "output_type": "display_data"
    },
    {
     "name": "stdout",
     "output_type": "stream",
     "text": [
      "\n",
      "Epoch 12 average loss: 179.745\n",
      "Testing:\n"
     ]
    },
    {
     "data": {
      "application/vnd.jupyter.widget-view+json": {
       "model_id": "7f1cdea567004f37a8ba051682dabf01",
       "version_major": 2,
       "version_minor": 0
      },
      "text/plain": [
       "HBox(children=(IntProgress(value=0, max=57), HTML(value='')))"
      ]
     },
     "metadata": {},
     "output_type": "display_data"
    },
    {
     "name": "stdout",
     "output_type": "stream",
     "text": [
      "\n",
      "Average validation loss: 8791.518\n",
      "Average wer: 17.315%\n",
      "\n",
      "## EPOCH 13 ##\n",
      "Training:\n"
     ]
    },
    {
     "data": {
      "application/vnd.jupyter.widget-view+json": {
       "model_id": "938f75bc86274c9fbeda03842406afff",
       "version_major": 2,
       "version_minor": 0
      },
      "text/plain": [
       "HBox(children=(IntProgress(value=0, max=1545), HTML(value='')))"
      ]
     },
     "metadata": {},
     "output_type": "display_data"
    },
    {
     "name": "stdout",
     "output_type": "stream",
     "text": [
      "\n",
      "Epoch 13 average loss: 157.412\n",
      "Testing:\n"
     ]
    },
    {
     "data": {
      "application/vnd.jupyter.widget-view+json": {
       "model_id": "99b0394e5c544e92aa519e8dbaf42bcc",
       "version_major": 2,
       "version_minor": 0
      },
      "text/plain": [
       "HBox(children=(IntProgress(value=0, max=57), HTML(value='')))"
      ]
     },
     "metadata": {},
     "output_type": "display_data"
    },
    {
     "name": "stdout",
     "output_type": "stream",
     "text": [
      "\n",
      "Average validation loss: 8795.060\n",
      "Average wer: 16.242%\n",
      "New best model found.\n",
      "\n",
      "## EPOCH 14 ##\n",
      "Training:\n"
     ]
    },
    {
     "data": {
      "application/vnd.jupyter.widget-view+json": {
       "model_id": "773d517d0415428ca0f013787f236bf4",
       "version_major": 2,
       "version_minor": 0
      },
      "text/plain": [
       "HBox(children=(IntProgress(value=0, max=1545), HTML(value='')))"
      ]
     },
     "metadata": {},
     "output_type": "display_data"
    },
    {
     "name": "stdout",
     "output_type": "stream",
     "text": [
      "\n",
      "Epoch 14 average loss: 146.449\n",
      "Testing:\n"
     ]
    },
    {
     "data": {
      "application/vnd.jupyter.widget-view+json": {
       "model_id": "2ef4392d9644463e8aaa6ead05ec35fb",
       "version_major": 2,
       "version_minor": 0
      },
      "text/plain": [
       "HBox(children=(IntProgress(value=0, max=57), HTML(value='')))"
      ]
     },
     "metadata": {},
     "output_type": "display_data"
    },
    {
     "name": "stdout",
     "output_type": "stream",
     "text": [
      "\n",
      "Average validation loss: 8795.711\n",
      "Average wer: 16.206%\n",
      "New best model found.\n",
      "\n",
      "## EPOCH 15 ##\n",
      "Training:\n"
     ]
    },
    {
     "data": {
      "application/vnd.jupyter.widget-view+json": {
       "model_id": "435b5b88293844cc9f46e789362dcdf3",
       "version_major": 2,
       "version_minor": 0
      },
      "text/plain": [
       "HBox(children=(IntProgress(value=0, max=1545), HTML(value='')))"
      ]
     },
     "metadata": {},
     "output_type": "display_data"
    },
    {
     "name": "stdout",
     "output_type": "stream",
     "text": [
      "\n",
      "Epoch 15 average loss: 140.012\n",
      "Testing:\n"
     ]
    },
    {
     "data": {
      "application/vnd.jupyter.widget-view+json": {
       "model_id": "d05b1acd08d14c7689760ec907f46319",
       "version_major": 2,
       "version_minor": 0
      },
      "text/plain": [
       "HBox(children=(IntProgress(value=0, max=57), HTML(value='')))"
      ]
     },
     "metadata": {},
     "output_type": "display_data"
    },
    {
     "name": "stdout",
     "output_type": "stream",
     "text": [
      "\n",
      "Average validation loss: 8805.785\n",
      "Average wer: 16.757%\n",
      "\n",
      "## EPOCH 16 ##\n",
      "Training:\n"
     ]
    },
    {
     "data": {
      "application/vnd.jupyter.widget-view+json": {
       "model_id": "ff0b9ed3c32846d385fd0e6cf966f530",
       "version_major": 2,
       "version_minor": 0
      },
      "text/plain": [
       "HBox(children=(IntProgress(value=0, max=1545), HTML(value='')))"
      ]
     },
     "metadata": {},
     "output_type": "display_data"
    },
    {
     "name": "stdout",
     "output_type": "stream",
     "text": [
      "\n",
      "Epoch 16 average loss: 129.351\n",
      "Testing:\n"
     ]
    },
    {
     "data": {
      "application/vnd.jupyter.widget-view+json": {
       "model_id": "1c892fc7324f463593d5a24054cc22c1",
       "version_major": 2,
       "version_minor": 0
      },
      "text/plain": [
       "HBox(children=(IntProgress(value=0, max=57), HTML(value='')))"
      ]
     },
     "metadata": {},
     "output_type": "display_data"
    },
    {
     "name": "stdout",
     "output_type": "stream",
     "text": [
      "\n",
      "Average validation loss: 8806.782\n",
      "Average wer: 16.336%\n",
      "\n",
      "## EPOCH 17 ##\n",
      "Training:\n"
     ]
    },
    {
     "data": {
      "application/vnd.jupyter.widget-view+json": {
       "model_id": "714da172486342249f2bbcddeebd65ee",
       "version_major": 2,
       "version_minor": 0
      },
      "text/plain": [
       "HBox(children=(IntProgress(value=0, max=1545), HTML(value='')))"
      ]
     },
     "metadata": {},
     "output_type": "display_data"
    },
    {
     "name": "stdout",
     "output_type": "stream",
     "text": [
      "\n",
      "Epoch 17 average loss: 113.364\n",
      "Testing:\n"
     ]
    },
    {
     "data": {
      "application/vnd.jupyter.widget-view+json": {
       "model_id": "da34e0fb5dba4581bedc841c87b32a96",
       "version_major": 2,
       "version_minor": 0
      },
      "text/plain": [
       "HBox(children=(IntProgress(value=0, max=57), HTML(value='')))"
      ]
     },
     "metadata": {},
     "output_type": "display_data"
    },
    {
     "name": "stdout",
     "output_type": "stream",
     "text": [
      "\n",
      "Average validation loss: 8796.978\n",
      "Average wer: 16.853%\n",
      "\n",
      "## EPOCH 18 ##\n",
      "Training:\n"
     ]
    },
    {
     "data": {
      "application/vnd.jupyter.widget-view+json": {
       "model_id": "f9382c9775274859974f84ebdd67587f",
       "version_major": 2,
       "version_minor": 0
      },
      "text/plain": [
       "HBox(children=(IntProgress(value=0, max=1545), HTML(value='')))"
      ]
     },
     "metadata": {},
     "output_type": "display_data"
    },
    {
     "name": "stdout",
     "output_type": "stream",
     "text": [
      "\n",
      "Epoch 18 average loss: 110.147\n",
      "Testing:\n"
     ]
    },
    {
     "data": {
      "application/vnd.jupyter.widget-view+json": {
       "model_id": "4513707c90dd4ee2b34730cdaff026ab",
       "version_major": 2,
       "version_minor": 0
      },
      "text/plain": [
       "HBox(children=(IntProgress(value=0, max=57), HTML(value='')))"
      ]
     },
     "metadata": {},
     "output_type": "display_data"
    },
    {
     "name": "stdout",
     "output_type": "stream",
     "text": [
      "\n",
      "Average validation loss: 8797.609\n",
      "Average wer: 16.712%\n",
      "\n",
      "## EPOCH 19 ##\n",
      "Training:\n"
     ]
    },
    {
     "data": {
      "application/vnd.jupyter.widget-view+json": {
       "model_id": "f1bb7fa024bb4356bab5909fafc7b955",
       "version_major": 2,
       "version_minor": 0
      },
      "text/plain": [
       "HBox(children=(IntProgress(value=0, max=1545), HTML(value='')))"
      ]
     },
     "metadata": {},
     "output_type": "display_data"
    },
    {
     "name": "stdout",
     "output_type": "stream",
     "text": [
      "\n",
      "Epoch 19 average loss: 111.990\n",
      "Testing:\n"
     ]
    },
    {
     "data": {
      "application/vnd.jupyter.widget-view+json": {
       "model_id": "0be15b20f5a24b579248e2bf24171d70",
       "version_major": 2,
       "version_minor": 0
      },
      "text/plain": [
       "HBox(children=(IntProgress(value=0, max=57), HTML(value='')))"
      ]
     },
     "metadata": {},
     "output_type": "display_data"
    },
    {
     "name": "stdout",
     "output_type": "stream",
     "text": [
      "\n",
      "Average validation loss: 8792.174\n",
      "Average wer: 16.531%\n",
      "\n",
      "## EPOCH 20 ##\n",
      "Training:\n"
     ]
    },
    {
     "data": {
      "application/vnd.jupyter.widget-view+json": {
       "model_id": "3891197f991745998f0c3131bdec7312",
       "version_major": 2,
       "version_minor": 0
      },
      "text/plain": [
       "HBox(children=(IntProgress(value=0, max=1545), HTML(value='')))"
      ]
     },
     "metadata": {},
     "output_type": "display_data"
    },
    {
     "name": "stdout",
     "output_type": "stream",
     "text": [
      "\n",
      "Epoch 20 average loss: 94.172\n",
      "Testing:\n"
     ]
    },
    {
     "data": {
      "application/vnd.jupyter.widget-view+json": {
       "model_id": "22292665d8c34bf5be3f977cf98a6cdd",
       "version_major": 2,
       "version_minor": 0
      },
      "text/plain": [
       "HBox(children=(IntProgress(value=0, max=57), HTML(value='')))"
      ]
     },
     "metadata": {},
     "output_type": "display_data"
    },
    {
     "name": "stdout",
     "output_type": "stream",
     "text": [
      "\n",
      "Average validation loss: 8795.975\n",
      "Average wer: 16.211%\n",
      "\n",
      "## EPOCH 21 ##\n",
      "Training:\n"
     ]
    },
    {
     "data": {
      "application/vnd.jupyter.widget-view+json": {
       "model_id": "1082f3af13a54bb9b3d112d497893d9c",
       "version_major": 2,
       "version_minor": 0
      },
      "text/plain": [
       "HBox(children=(IntProgress(value=0, max=1545), HTML(value='')))"
      ]
     },
     "metadata": {},
     "output_type": "display_data"
    },
    {
     "name": "stdout",
     "output_type": "stream",
     "text": [
      "\n",
      "Epoch 21 average loss: 104.202\n",
      "Testing:\n"
     ]
    },
    {
     "data": {
      "application/vnd.jupyter.widget-view+json": {
       "model_id": "51393a170a65439e84f31e6470338e59",
       "version_major": 2,
       "version_minor": 0
      },
      "text/plain": [
       "HBox(children=(IntProgress(value=0, max=57), HTML(value='')))"
      ]
     },
     "metadata": {},
     "output_type": "display_data"
    },
    {
     "name": "stdout",
     "output_type": "stream",
     "text": [
      "\n",
      "Average validation loss: 8797.047\n",
      "Average wer: 16.655%\n",
      "\n",
      "## EPOCH 22 ##\n",
      "Training:\n"
     ]
    },
    {
     "data": {
      "application/vnd.jupyter.widget-view+json": {
       "model_id": "09c68c0458544475967d396bf9ad89ce",
       "version_major": 2,
       "version_minor": 0
      },
      "text/plain": [
       "HBox(children=(IntProgress(value=0, max=1545), HTML(value='')))"
      ]
     },
     "metadata": {},
     "output_type": "display_data"
    },
    {
     "name": "stdout",
     "output_type": "stream",
     "text": [
      "\n",
      "Epoch 22 average loss: 103.168\n",
      "Testing:\n"
     ]
    },
    {
     "data": {
      "application/vnd.jupyter.widget-view+json": {
       "model_id": "26c7b48ebdd74a878cab3c9b46326cd3",
       "version_major": 2,
       "version_minor": 0
      },
      "text/plain": [
       "HBox(children=(IntProgress(value=0, max=57), HTML(value='')))"
      ]
     },
     "metadata": {},
     "output_type": "display_data"
    },
    {
     "name": "stdout",
     "output_type": "stream",
     "text": [
      "\n",
      "Average validation loss: 8793.359\n",
      "Average wer: 16.216%\n",
      "\n",
      "## EPOCH 23 ##\n",
      "Training:\n"
     ]
    },
    {
     "data": {
      "application/vnd.jupyter.widget-view+json": {
       "model_id": "2709e4d34aa84e4cbab87e14bbc52a48",
       "version_major": 2,
       "version_minor": 0
      },
      "text/plain": [
       "HBox(children=(IntProgress(value=0, max=1545), HTML(value='')))"
      ]
     },
     "metadata": {},
     "output_type": "display_data"
    },
    {
     "name": "stdout",
     "output_type": "stream",
     "text": [
      "\n",
      "Epoch 23 average loss: 91.867\n",
      "Testing:\n"
     ]
    },
    {
     "data": {
      "application/vnd.jupyter.widget-view+json": {
       "model_id": "d13a67435ed54f07ab6f0d8d44998c9f",
       "version_major": 2,
       "version_minor": 0
      },
      "text/plain": [
       "HBox(children=(IntProgress(value=0, max=57), HTML(value='')))"
      ]
     },
     "metadata": {},
     "output_type": "display_data"
    },
    {
     "name": "stdout",
     "output_type": "stream",
     "text": [
      "\n",
      "Average validation loss: 8793.394\n",
      "Average wer: 15.423%\n",
      "New best model found.\n",
      "\n",
      "## EPOCH 24 ##\n",
      "Training:\n"
     ]
    },
    {
     "data": {
      "application/vnd.jupyter.widget-view+json": {
       "model_id": "0a6f0eb7cf3542be8cf2425f8b4a69d7",
       "version_major": 2,
       "version_minor": 0
      },
      "text/plain": [
       "HBox(children=(IntProgress(value=0, max=1545), HTML(value='')))"
      ]
     },
     "metadata": {},
     "output_type": "display_data"
    },
    {
     "name": "stdout",
     "output_type": "stream",
     "text": [
      "\n",
      "Epoch 24 average loss: 96.635\n",
      "Testing:\n"
     ]
    },
    {
     "data": {
      "application/vnd.jupyter.widget-view+json": {
       "model_id": "9baf1c46a11a44c095089e79b41998ba",
       "version_major": 2,
       "version_minor": 0
      },
      "text/plain": [
       "HBox(children=(IntProgress(value=0, max=57), HTML(value='')))"
      ]
     },
     "metadata": {},
     "output_type": "display_data"
    },
    {
     "name": "stdout",
     "output_type": "stream",
     "text": [
      "\n",
      "Average validation loss: 8798.174\n",
      "Average wer: 15.866%\n",
      "\n",
      "## EPOCH 25 ##\n",
      "Training:\n"
     ]
    },
    {
     "data": {
      "application/vnd.jupyter.widget-view+json": {
       "model_id": "a33ee50caee14a8c825b0a11c0732e78",
       "version_major": 2,
       "version_minor": 0
      },
      "text/plain": [
       "HBox(children=(IntProgress(value=0, max=1545), HTML(value='')))"
      ]
     },
     "metadata": {},
     "output_type": "display_data"
    },
    {
     "name": "stdout",
     "output_type": "stream",
     "text": [
      "\n",
      "Epoch 25 average loss: 91.804\n",
      "Testing:\n"
     ]
    },
    {
     "data": {
      "application/vnd.jupyter.widget-view+json": {
       "model_id": "f2fc1d056f0e4e46b6e8dbe8c01d885a",
       "version_major": 2,
       "version_minor": 0
      },
      "text/plain": [
       "HBox(children=(IntProgress(value=0, max=57), HTML(value='')))"
      ]
     },
     "metadata": {},
     "output_type": "display_data"
    },
    {
     "name": "stdout",
     "output_type": "stream",
     "text": [
      "\n",
      "Average validation loss: 8797.540\n",
      "Average wer: 15.483%\n",
      "\n",
      "## EPOCH 26 ##\n",
      "Training:\n"
     ]
    },
    {
     "data": {
      "application/vnd.jupyter.widget-view+json": {
       "model_id": "d29409be20604b27a8b73b59c8b71192",
       "version_major": 2,
       "version_minor": 0
      },
      "text/plain": [
       "HBox(children=(IntProgress(value=0, max=1545), HTML(value='')))"
      ]
     },
     "metadata": {},
     "output_type": "display_data"
    },
    {
     "name": "stdout",
     "output_type": "stream",
     "text": [
      "\n",
      "Epoch 26 average loss: 85.107\n",
      "Testing:\n"
     ]
    },
    {
     "data": {
      "application/vnd.jupyter.widget-view+json": {
       "model_id": "5a871aca29ac4ce490e4d146e65431be",
       "version_major": 2,
       "version_minor": 0
      },
      "text/plain": [
       "HBox(children=(IntProgress(value=0, max=57), HTML(value='')))"
      ]
     },
     "metadata": {},
     "output_type": "display_data"
    },
    {
     "name": "stdout",
     "output_type": "stream",
     "text": [
      "\n",
      "Average validation loss: 8790.145\n",
      "Average wer: 16.553%\n",
      "\n",
      "## EPOCH 27 ##\n",
      "Training:\n"
     ]
    },
    {
     "data": {
      "application/vnd.jupyter.widget-view+json": {
       "model_id": "1b818c65f64c4fbf8ed6957353d1f7ab",
       "version_major": 2,
       "version_minor": 0
      },
      "text/plain": [
       "HBox(children=(IntProgress(value=0, max=1545), HTML(value='')))"
      ]
     },
     "metadata": {},
     "output_type": "display_data"
    },
    {
     "name": "stdout",
     "output_type": "stream",
     "text": [
      "\n",
      "Epoch 27 average loss: 96.450\n",
      "Testing:\n"
     ]
    },
    {
     "data": {
      "application/vnd.jupyter.widget-view+json": {
       "model_id": "ef0f8ec0c61e40f68a413b6cf96d3d55",
       "version_major": 2,
       "version_minor": 0
      },
      "text/plain": [
       "HBox(children=(IntProgress(value=0, max=57), HTML(value='')))"
      ]
     },
     "metadata": {},
     "output_type": "display_data"
    },
    {
     "name": "stdout",
     "output_type": "stream",
     "text": [
      "\n",
      "Average validation loss: 8798.792\n",
      "Average wer: 16.030%\n",
      "\n",
      "## EPOCH 28 ##\n",
      "Training:\n"
     ]
    },
    {
     "data": {
      "application/vnd.jupyter.widget-view+json": {
       "model_id": "83b90da5ffbf4a1ba426cb943f6875d6",
       "version_major": 2,
       "version_minor": 0
      },
      "text/plain": [
       "HBox(children=(IntProgress(value=0, max=1545), HTML(value='')))"
      ]
     },
     "metadata": {},
     "output_type": "display_data"
    },
    {
     "name": "stdout",
     "output_type": "stream",
     "text": [
      "\n",
      "Epoch 28 average loss: 76.218\n",
      "Testing:\n"
     ]
    },
    {
     "data": {
      "application/vnd.jupyter.widget-view+json": {
       "model_id": "fa713a632443457bbc62674658505d84",
       "version_major": 2,
       "version_minor": 0
      },
      "text/plain": [
       "HBox(children=(IntProgress(value=0, max=57), HTML(value='')))"
      ]
     },
     "metadata": {},
     "output_type": "display_data"
    },
    {
     "name": "stdout",
     "output_type": "stream",
     "text": [
      "\n",
      "Average validation loss: 8796.664\n",
      "Average wer: 15.713%\n",
      "\n",
      "## EPOCH 29 ##\n",
      "Training:\n"
     ]
    },
    {
     "data": {
      "application/vnd.jupyter.widget-view+json": {
       "model_id": "1895d63d410849f084c9529269a49f7e",
       "version_major": 2,
       "version_minor": 0
      },
      "text/plain": [
       "HBox(children=(IntProgress(value=0, max=1545), HTML(value='')))"
      ]
     },
     "metadata": {},
     "output_type": "display_data"
    },
    {
     "name": "stdout",
     "output_type": "stream",
     "text": [
      "\n",
      "Epoch 29 average loss: 91.392\n",
      "Testing:\n"
     ]
    },
    {
     "data": {
      "application/vnd.jupyter.widget-view+json": {
       "model_id": "5f8a489777e64bf6b23c6087e93bc2ed",
       "version_major": 2,
       "version_minor": 0
      },
      "text/plain": [
       "HBox(children=(IntProgress(value=0, max=57), HTML(value='')))"
      ]
     },
     "metadata": {},
     "output_type": "display_data"
    },
    {
     "name": "stdout",
     "output_type": "stream",
     "text": [
      "\n",
      "Average validation loss: 8791.850\n",
      "Average wer: 15.128%\n",
      "New best model found.\n",
      "\n",
      "## EPOCH 30 ##\n",
      "Training:\n"
     ]
    },
    {
     "data": {
      "application/vnd.jupyter.widget-view+json": {
       "model_id": "051720a6e4764108b71f098423b10a73",
       "version_major": 2,
       "version_minor": 0
      },
      "text/plain": [
       "HBox(children=(IntProgress(value=0, max=1545), HTML(value='')))"
      ]
     },
     "metadata": {},
     "output_type": "display_data"
    },
    {
     "name": "stdout",
     "output_type": "stream",
     "text": [
      "\n",
      "Epoch 30 average loss: 74.183\n",
      "Testing:\n"
     ]
    },
    {
     "data": {
      "application/vnd.jupyter.widget-view+json": {
       "model_id": "60daac2edb08492ca324f60d758f8f14",
       "version_major": 2,
       "version_minor": 0
      },
      "text/plain": [
       "HBox(children=(IntProgress(value=0, max=57), HTML(value='')))"
      ]
     },
     "metadata": {},
     "output_type": "display_data"
    },
    {
     "name": "stdout",
     "output_type": "stream",
     "text": [
      "\n",
      "Average validation loss: 8792.515\n",
      "Average wer: 15.721%\n",
      "\n",
      "#############\n",
      "NEW-Embeddings_<class 'torch.nn.modules.rnn.GRU'>_hidden-800_1550538377.0926485\n",
      "#############\n",
      "\n",
      "## EPOCH 1 ##\n",
      "Training:\n"
     ]
    },
    {
     "data": {
      "application/vnd.jupyter.widget-view+json": {
       "model_id": "45161907df1c4d42b82e9bdc1b419deb",
       "version_major": 2,
       "version_minor": 0
      },
      "text/plain": [
       "HBox(children=(IntProgress(value=0, max=1545), HTML(value='')))"
      ]
     },
     "metadata": {},
     "output_type": "display_data"
    },
    {
     "name": "stdout",
     "output_type": "stream",
     "text": [
      "\n",
      "Epoch 1 average loss: 2607.154\n",
      "Testing:\n"
     ]
    },
    {
     "data": {
      "application/vnd.jupyter.widget-view+json": {
       "model_id": "4e2e1c0d43694f6f8e863ce29d5be20c",
       "version_major": 2,
       "version_minor": 0
      },
      "text/plain": [
       "HBox(children=(IntProgress(value=0, max=57), HTML(value='')))"
      ]
     },
     "metadata": {},
     "output_type": "display_data"
    },
    {
     "name": "stdout",
     "output_type": "stream",
     "text": [
      "\n",
      "Average validation loss: 8911.800\n",
      "Average wer: 95.139%\n",
      "New best model found.\n",
      "\n",
      "## EPOCH 2 ##\n",
      "Training:\n"
     ]
    },
    {
     "data": {
      "application/vnd.jupyter.widget-view+json": {
       "model_id": "407dfb910a37477bbf9d3457172d28f2",
       "version_major": 2,
       "version_minor": 0
      },
      "text/plain": [
       "HBox(children=(IntProgress(value=0, max=1545), HTML(value='')))"
      ]
     },
     "metadata": {},
     "output_type": "display_data"
    },
    {
     "name": "stdout",
     "output_type": "stream",
     "text": [
      "\n",
      "Epoch 2 average loss: 2415.147\n",
      "Testing:\n"
     ]
    },
    {
     "data": {
      "application/vnd.jupyter.widget-view+json": {
       "model_id": "09a589261029458d82da15eccbb6c8fe",
       "version_major": 2,
       "version_minor": 0
      },
      "text/plain": [
       "HBox(children=(IntProgress(value=0, max=57), HTML(value='')))"
      ]
     },
     "metadata": {},
     "output_type": "display_data"
    },
    {
     "name": "stdout",
     "output_type": "stream",
     "text": [
      "\n",
      "Average validation loss: 8847.271\n",
      "Average wer: 94.613%\n",
      "New best model found.\n",
      "\n",
      "## EPOCH 3 ##\n",
      "Training:\n"
     ]
    },
    {
     "data": {
      "application/vnd.jupyter.widget-view+json": {
       "model_id": "0d65704426f9400bb7ad0030847a12d0",
       "version_major": 2,
       "version_minor": 0
      },
      "text/plain": [
       "HBox(children=(IntProgress(value=0, max=1545), HTML(value='')))"
      ]
     },
     "metadata": {},
     "output_type": "display_data"
    },
    {
     "name": "stdout",
     "output_type": "stream",
     "text": [
      "\n",
      "Epoch 3 average loss: 1736.534\n",
      "Testing:\n"
     ]
    },
    {
     "data": {
      "application/vnd.jupyter.widget-view+json": {
       "model_id": "fea68b7226834e70b3517f9bac2e34e1",
       "version_major": 2,
       "version_minor": 0
      },
      "text/plain": [
       "HBox(children=(IntProgress(value=0, max=57), HTML(value='')))"
      ]
     },
     "metadata": {},
     "output_type": "display_data"
    },
    {
     "name": "stdout",
     "output_type": "stream",
     "text": [
      "\n",
      "Average validation loss: 8801.783\n",
      "Average wer: 84.530%\n",
      "New best model found.\n",
      "\n",
      "## EPOCH 4 ##\n",
      "Training:\n"
     ]
    },
    {
     "data": {
      "application/vnd.jupyter.widget-view+json": {
       "model_id": "7a44bf5e21c04e01aaf42939cc45fb30",
       "version_major": 2,
       "version_minor": 0
      },
      "text/plain": [
       "HBox(children=(IntProgress(value=0, max=1545), HTML(value='')))"
      ]
     },
     "metadata": {},
     "output_type": "display_data"
    },
    {
     "name": "stdout",
     "output_type": "stream",
     "text": [
      "\n",
      "Epoch 4 average loss: 1343.742\n",
      "Testing:\n"
     ]
    },
    {
     "data": {
      "application/vnd.jupyter.widget-view+json": {
       "model_id": "e88b6933718143f2927819fc98f1711e",
       "version_major": 2,
       "version_minor": 0
      },
      "text/plain": [
       "HBox(children=(IntProgress(value=0, max=57), HTML(value='')))"
      ]
     },
     "metadata": {},
     "output_type": "display_data"
    },
    {
     "name": "stdout",
     "output_type": "stream",
     "text": [
      "\n",
      "Average validation loss: 8830.083\n",
      "Average wer: 60.530%\n",
      "New best model found.\n",
      "\n",
      "## EPOCH 5 ##\n",
      "Training:\n"
     ]
    },
    {
     "data": {
      "application/vnd.jupyter.widget-view+json": {
       "model_id": "30c0368e6cb84391a64d76207d0bd8f1",
       "version_major": 2,
       "version_minor": 0
      },
      "text/plain": [
       "HBox(children=(IntProgress(value=0, max=1545), HTML(value='')))"
      ]
     },
     "metadata": {},
     "output_type": "display_data"
    },
    {
     "name": "stdout",
     "output_type": "stream",
     "text": [
      "\n",
      "Epoch 5 average loss: 1129.922\n",
      "Testing:\n"
     ]
    },
    {
     "data": {
      "application/vnd.jupyter.widget-view+json": {
       "model_id": "b34c2b6f374744b68e10c69d10342ce6",
       "version_major": 2,
       "version_minor": 0
      },
      "text/plain": [
       "HBox(children=(IntProgress(value=0, max=57), HTML(value='')))"
      ]
     },
     "metadata": {},
     "output_type": "display_data"
    },
    {
     "name": "stdout",
     "output_type": "stream",
     "text": [
      "\n",
      "Average validation loss: 8835.021\n",
      "Average wer: 49.615%\n",
      "New best model found.\n",
      "\n",
      "## EPOCH 6 ##\n",
      "Training:\n"
     ]
    },
    {
     "data": {
      "application/vnd.jupyter.widget-view+json": {
       "model_id": "407e09f6e14c4296880e95f3400ab14e",
       "version_major": 2,
       "version_minor": 0
      },
      "text/plain": [
       "HBox(children=(IntProgress(value=0, max=1545), HTML(value='')))"
      ]
     },
     "metadata": {},
     "output_type": "display_data"
    },
    {
     "name": "stdout",
     "output_type": "stream",
     "text": [
      "\n",
      "Epoch 6 average loss: 973.764\n",
      "Testing:\n"
     ]
    },
    {
     "data": {
      "application/vnd.jupyter.widget-view+json": {
       "model_id": "f533e15720dd4c7daac0d1b262ea54d7",
       "version_major": 2,
       "version_minor": 0
      },
      "text/plain": [
       "HBox(children=(IntProgress(value=0, max=57), HTML(value='')))"
      ]
     },
     "metadata": {},
     "output_type": "display_data"
    },
    {
     "name": "stdout",
     "output_type": "stream",
     "text": [
      "\n",
      "Average validation loss: 8823.249\n",
      "Average wer: 38.012%\n",
      "New best model found.\n",
      "\n",
      "## EPOCH 7 ##\n",
      "Training:\n"
     ]
    },
    {
     "data": {
      "application/vnd.jupyter.widget-view+json": {
       "model_id": "8490a9a5d6c048c69e512a1a01d94f4c",
       "version_major": 2,
       "version_minor": 0
      },
      "text/plain": [
       "HBox(children=(IntProgress(value=0, max=1545), HTML(value='')))"
      ]
     },
     "metadata": {},
     "output_type": "display_data"
    },
    {
     "name": "stdout",
     "output_type": "stream",
     "text": [
      "\n",
      "Epoch 7 average loss: 851.756\n",
      "Testing:\n"
     ]
    },
    {
     "data": {
      "application/vnd.jupyter.widget-view+json": {
       "model_id": "a9d0a228e2b24c56983af75f46578fb4",
       "version_major": 2,
       "version_minor": 0
      },
      "text/plain": [
       "HBox(children=(IntProgress(value=0, max=57), HTML(value='')))"
      ]
     },
     "metadata": {},
     "output_type": "display_data"
    },
    {
     "name": "stdout",
     "output_type": "stream",
     "text": [
      "\n",
      "Average validation loss: 8803.666\n",
      "Average wer: 35.990%\n",
      "New best model found.\n",
      "\n",
      "## EPOCH 8 ##\n",
      "Training:\n"
     ]
    },
    {
     "data": {
      "application/vnd.jupyter.widget-view+json": {
       "model_id": "aa2fc87786f64a33b7a28e0797f3e40c",
       "version_major": 2,
       "version_minor": 0
      },
      "text/plain": [
       "HBox(children=(IntProgress(value=0, max=1545), HTML(value='')))"
      ]
     },
     "metadata": {},
     "output_type": "display_data"
    },
    {
     "name": "stdout",
     "output_type": "stream",
     "text": [
      "\n",
      "Epoch 8 average loss: 761.565\n",
      "Testing:\n"
     ]
    },
    {
     "data": {
      "application/vnd.jupyter.widget-view+json": {
       "model_id": "a5958f68f26b4a4ab80a97a4bd95289d",
       "version_major": 2,
       "version_minor": 0
      },
      "text/plain": [
       "HBox(children=(IntProgress(value=0, max=57), HTML(value='')))"
      ]
     },
     "metadata": {},
     "output_type": "display_data"
    },
    {
     "name": "stdout",
     "output_type": "stream",
     "text": [
      "\n",
      "Average validation loss: 8805.053\n",
      "Average wer: 30.298%\n",
      "New best model found.\n",
      "\n",
      "## EPOCH 9 ##\n",
      "Training:\n"
     ]
    },
    {
     "data": {
      "application/vnd.jupyter.widget-view+json": {
       "model_id": "aeda1a9441b0425f977a1861ed4abb71",
       "version_major": 2,
       "version_minor": 0
      },
      "text/plain": [
       "HBox(children=(IntProgress(value=0, max=1545), HTML(value='')))"
      ]
     },
     "metadata": {},
     "output_type": "display_data"
    },
    {
     "name": "stdout",
     "output_type": "stream",
     "text": [
      "\n",
      "Epoch 9 average loss: 667.409\n",
      "Testing:\n"
     ]
    },
    {
     "data": {
      "application/vnd.jupyter.widget-view+json": {
       "model_id": "92d7a2fe3444448eafae19f22a0aa66f",
       "version_major": 2,
       "version_minor": 0
      },
      "text/plain": [
       "HBox(children=(IntProgress(value=0, max=57), HTML(value='')))"
      ]
     },
     "metadata": {},
     "output_type": "display_data"
    },
    {
     "name": "stdout",
     "output_type": "stream",
     "text": [
      "\n",
      "Average validation loss: 8808.496\n",
      "Average wer: 26.522%\n",
      "New best model found.\n",
      "\n",
      "## EPOCH 10 ##\n",
      "Training:\n"
     ]
    },
    {
     "data": {
      "application/vnd.jupyter.widget-view+json": {
       "model_id": "369c9636d6ee4110997e1cf5bf7d703d",
       "version_major": 2,
       "version_minor": 0
      },
      "text/plain": [
       "HBox(children=(IntProgress(value=0, max=1545), HTML(value='')))"
      ]
     },
     "metadata": {},
     "output_type": "display_data"
    },
    {
     "name": "stdout",
     "output_type": "stream",
     "text": [
      "\n",
      "Epoch 10 average loss: 595.487\n",
      "Testing:\n"
     ]
    },
    {
     "data": {
      "application/vnd.jupyter.widget-view+json": {
       "model_id": "134ca33666294531bade6f85ebc1f3df",
       "version_major": 2,
       "version_minor": 0
      },
      "text/plain": [
       "HBox(children=(IntProgress(value=0, max=57), HTML(value='')))"
      ]
     },
     "metadata": {},
     "output_type": "display_data"
    },
    {
     "name": "stdout",
     "output_type": "stream",
     "text": [
      "\n",
      "Average validation loss: 8796.557\n",
      "Average wer: 25.196%\n",
      "New best model found.\n",
      "\n",
      "## EPOCH 11 ##\n",
      "Training:\n"
     ]
    },
    {
     "data": {
      "application/vnd.jupyter.widget-view+json": {
       "model_id": "1d41734311534edab97ccb8b07190a8f",
       "version_major": 2,
       "version_minor": 0
      },
      "text/plain": [
       "HBox(children=(IntProgress(value=0, max=1545), HTML(value='')))"
      ]
     },
     "metadata": {},
     "output_type": "display_data"
    },
    {
     "name": "stdout",
     "output_type": "stream",
     "text": [
      "\n",
      "Epoch 11 average loss: 530.117\n",
      "Testing:\n"
     ]
    },
    {
     "data": {
      "application/vnd.jupyter.widget-view+json": {
       "model_id": "174fa6501a78419eaf942f29f8455a10",
       "version_major": 2,
       "version_minor": 0
      },
      "text/plain": [
       "HBox(children=(IntProgress(value=0, max=57), HTML(value='')))"
      ]
     },
     "metadata": {},
     "output_type": "display_data"
    },
    {
     "name": "stdout",
     "output_type": "stream",
     "text": [
      "\n",
      "Average validation loss: 8798.292\n",
      "Average wer: 23.955%\n",
      "New best model found.\n",
      "\n",
      "## EPOCH 12 ##\n",
      "Training:\n"
     ]
    },
    {
     "data": {
      "application/vnd.jupyter.widget-view+json": {
       "model_id": "4998e5a81c084ca395ebb3428d481088",
       "version_major": 2,
       "version_minor": 0
      },
      "text/plain": [
       "HBox(children=(IntProgress(value=0, max=1545), HTML(value='')))"
      ]
     },
     "metadata": {},
     "output_type": "display_data"
    },
    {
     "name": "stdout",
     "output_type": "stream",
     "text": [
      "\n",
      "Epoch 12 average loss: 471.974\n",
      "Testing:\n"
     ]
    },
    {
     "data": {
      "application/vnd.jupyter.widget-view+json": {
       "model_id": "c946b8f7444d4b359e9aeafbf6a684b6",
       "version_major": 2,
       "version_minor": 0
      },
      "text/plain": [
       "HBox(children=(IntProgress(value=0, max=57), HTML(value='')))"
      ]
     },
     "metadata": {},
     "output_type": "display_data"
    },
    {
     "name": "stdout",
     "output_type": "stream",
     "text": [
      "\n",
      "Average validation loss: 8815.810\n",
      "Average wer: 21.977%\n",
      "New best model found.\n",
      "\n",
      "## EPOCH 13 ##\n",
      "Training:\n"
     ]
    },
    {
     "data": {
      "application/vnd.jupyter.widget-view+json": {
       "model_id": "21800084d90a4166888b0a5e34377823",
       "version_major": 2,
       "version_minor": 0
      },
      "text/plain": [
       "HBox(children=(IntProgress(value=0, max=1545), HTML(value='')))"
      ]
     },
     "metadata": {},
     "output_type": "display_data"
    },
    {
     "name": "stdout",
     "output_type": "stream",
     "text": [
      "\n",
      "Epoch 13 average loss: 419.197\n",
      "Testing:\n"
     ]
    },
    {
     "data": {
      "application/vnd.jupyter.widget-view+json": {
       "model_id": "c2e24bcb515d4847bef9eeb80b075f22",
       "version_major": 2,
       "version_minor": 0
      },
      "text/plain": [
       "HBox(children=(IntProgress(value=0, max=57), HTML(value='')))"
      ]
     },
     "metadata": {},
     "output_type": "display_data"
    },
    {
     "name": "stdout",
     "output_type": "stream",
     "text": [
      "\n",
      "Average validation loss: 8800.122\n",
      "Average wer: 21.599%\n",
      "New best model found.\n",
      "\n",
      "## EPOCH 14 ##\n",
      "Training:\n"
     ]
    },
    {
     "data": {
      "application/vnd.jupyter.widget-view+json": {
       "model_id": "4e04a61305fc4f9badde32b90224eb59",
       "version_major": 2,
       "version_minor": 0
      },
      "text/plain": [
       "HBox(children=(IntProgress(value=0, max=1545), HTML(value='')))"
      ]
     },
     "metadata": {},
     "output_type": "display_data"
    },
    {
     "name": "stdout",
     "output_type": "stream",
     "text": [
      "\n",
      "Epoch 14 average loss: 382.887\n",
      "Testing:\n"
     ]
    },
    {
     "data": {
      "application/vnd.jupyter.widget-view+json": {
       "model_id": "2012574501884d3d8dca0c002da32dc9",
       "version_major": 2,
       "version_minor": 0
      },
      "text/plain": [
       "HBox(children=(IntProgress(value=0, max=57), HTML(value='')))"
      ]
     },
     "metadata": {},
     "output_type": "display_data"
    },
    {
     "name": "stdout",
     "output_type": "stream",
     "text": [
      "\n",
      "Average validation loss: 8811.413\n",
      "Average wer: 20.749%\n",
      "New best model found.\n",
      "\n",
      "## EPOCH 15 ##\n",
      "Training:\n"
     ]
    },
    {
     "data": {
      "application/vnd.jupyter.widget-view+json": {
       "model_id": "9702cf27933b4744b7669c551acc6634",
       "version_major": 2,
       "version_minor": 0
      },
      "text/plain": [
       "HBox(children=(IntProgress(value=0, max=1545), HTML(value='')))"
      ]
     },
     "metadata": {},
     "output_type": "display_data"
    },
    {
     "name": "stdout",
     "output_type": "stream",
     "text": [
      "\n",
      "Epoch 15 average loss: 337.748\n",
      "Testing:\n"
     ]
    },
    {
     "data": {
      "application/vnd.jupyter.widget-view+json": {
       "model_id": "219c7e46056845e8b5b251e918c5d693",
       "version_major": 2,
       "version_minor": 0
      },
      "text/plain": [
       "HBox(children=(IntProgress(value=0, max=57), HTML(value='')))"
      ]
     },
     "metadata": {},
     "output_type": "display_data"
    },
    {
     "name": "stdout",
     "output_type": "stream",
     "text": [
      "\n",
      "Average validation loss: 8798.506\n",
      "Average wer: 20.497%\n",
      "New best model found.\n",
      "\n",
      "## EPOCH 16 ##\n",
      "Training:\n"
     ]
    },
    {
     "data": {
      "application/vnd.jupyter.widget-view+json": {
       "model_id": "e5521a4658574611a15fa65cec756a5a",
       "version_major": 2,
       "version_minor": 0
      },
      "text/plain": [
       "HBox(children=(IntProgress(value=0, max=1545), HTML(value='')))"
      ]
     },
     "metadata": {},
     "output_type": "display_data"
    },
    {
     "name": "stdout",
     "output_type": "stream",
     "text": [
      "\n",
      "Epoch 16 average loss: 304.771\n",
      "Testing:\n"
     ]
    },
    {
     "data": {
      "application/vnd.jupyter.widget-view+json": {
       "model_id": "571a18fb46264252ac5abdf13a618631",
       "version_major": 2,
       "version_minor": 0
      },
      "text/plain": [
       "HBox(children=(IntProgress(value=0, max=57), HTML(value='')))"
      ]
     },
     "metadata": {},
     "output_type": "display_data"
    },
    {
     "name": "stdout",
     "output_type": "stream",
     "text": [
      "\n",
      "Average validation loss: 8785.382\n",
      "Average wer: 20.574%\n",
      "\n",
      "## EPOCH 17 ##\n",
      "Training:\n"
     ]
    },
    {
     "data": {
      "application/vnd.jupyter.widget-view+json": {
       "model_id": "54aacc8a77b04a599d9584e7113e357c",
       "version_major": 2,
       "version_minor": 0
      },
      "text/plain": [
       "HBox(children=(IntProgress(value=0, max=1545), HTML(value='')))"
      ]
     },
     "metadata": {},
     "output_type": "display_data"
    },
    {
     "name": "stdout",
     "output_type": "stream",
     "text": [
      "\n",
      "Epoch 17 average loss: 284.743\n",
      "Testing:\n"
     ]
    },
    {
     "data": {
      "application/vnd.jupyter.widget-view+json": {
       "model_id": "b001681cc26f46d3ac2651e680d5155d",
       "version_major": 2,
       "version_minor": 0
      },
      "text/plain": [
       "HBox(children=(IntProgress(value=0, max=57), HTML(value='')))"
      ]
     },
     "metadata": {},
     "output_type": "display_data"
    },
    {
     "name": "stdout",
     "output_type": "stream",
     "text": [
      "\n",
      "Average validation loss: 8793.819\n",
      "Average wer: 20.315%\n",
      "New best model found.\n",
      "\n",
      "## EPOCH 18 ##\n",
      "Training:\n"
     ]
    },
    {
     "data": {
      "application/vnd.jupyter.widget-view+json": {
       "model_id": "973a424aa7514f60b4fbde190cecd73d",
       "version_major": 2,
       "version_minor": 0
      },
      "text/plain": [
       "HBox(children=(IntProgress(value=0, max=1545), HTML(value='')))"
      ]
     },
     "metadata": {},
     "output_type": "display_data"
    },
    {
     "name": "stdout",
     "output_type": "stream",
     "text": [
      "\n",
      "Epoch 18 average loss: 256.803\n",
      "Testing:\n"
     ]
    },
    {
     "data": {
      "application/vnd.jupyter.widget-view+json": {
       "model_id": "c75ded55681d494cbb761fd6166594a2",
       "version_major": 2,
       "version_minor": 0
      },
      "text/plain": [
       "HBox(children=(IntProgress(value=0, max=57), HTML(value='')))"
      ]
     },
     "metadata": {},
     "output_type": "display_data"
    },
    {
     "name": "stdout",
     "output_type": "stream",
     "text": [
      "\n",
      "Average validation loss: 8795.859\n",
      "Average wer: 18.554%\n",
      "New best model found.\n",
      "\n",
      "## EPOCH 19 ##\n",
      "Training:\n"
     ]
    },
    {
     "data": {
      "application/vnd.jupyter.widget-view+json": {
       "model_id": "b6a750d485da477fa3c8326096aad82a",
       "version_major": 2,
       "version_minor": 0
      },
      "text/plain": [
       "HBox(children=(IntProgress(value=0, max=1545), HTML(value='')))"
      ]
     },
     "metadata": {},
     "output_type": "display_data"
    },
    {
     "name": "stdout",
     "output_type": "stream",
     "text": [
      "\n",
      "Epoch 19 average loss: 232.226\n",
      "Testing:\n"
     ]
    },
    {
     "data": {
      "application/vnd.jupyter.widget-view+json": {
       "model_id": "0929999b46e84d4cb8d2bbc3f6e381da",
       "version_major": 2,
       "version_minor": 0
      },
      "text/plain": [
       "HBox(children=(IntProgress(value=0, max=57), HTML(value='')))"
      ]
     },
     "metadata": {},
     "output_type": "display_data"
    },
    {
     "name": "stdout",
     "output_type": "stream",
     "text": [
      "\n",
      "Average validation loss: 8808.253\n",
      "Average wer: 19.828%\n",
      "\n",
      "## EPOCH 20 ##\n",
      "Training:\n"
     ]
    },
    {
     "data": {
      "application/vnd.jupyter.widget-view+json": {
       "model_id": "fa086c9be7524cd49fb9db6b11b4ff3e",
       "version_major": 2,
       "version_minor": 0
      },
      "text/plain": [
       "HBox(children=(IntProgress(value=0, max=1545), HTML(value='')))"
      ]
     },
     "metadata": {},
     "output_type": "display_data"
    },
    {
     "name": "stdout",
     "output_type": "stream",
     "text": [
      "\n",
      "Epoch 20 average loss: 214.728\n",
      "Testing:\n"
     ]
    },
    {
     "data": {
      "application/vnd.jupyter.widget-view+json": {
       "model_id": "3806bfe4d798419ba2665db26a2e827c",
       "version_major": 2,
       "version_minor": 0
      },
      "text/plain": [
       "HBox(children=(IntProgress(value=0, max=57), HTML(value='')))"
      ]
     },
     "metadata": {},
     "output_type": "display_data"
    },
    {
     "name": "stdout",
     "output_type": "stream",
     "text": [
      "\n",
      "Average validation loss: 8784.834\n",
      "Average wer: 19.321%\n",
      "\n",
      "## EPOCH 21 ##\n",
      "Training:\n"
     ]
    },
    {
     "data": {
      "application/vnd.jupyter.widget-view+json": {
       "model_id": "706c32a0252c42e188e20541dfa754cc",
       "version_major": 2,
       "version_minor": 0
      },
      "text/plain": [
       "HBox(children=(IntProgress(value=0, max=1545), HTML(value='')))"
      ]
     },
     "metadata": {},
     "output_type": "display_data"
    },
    {
     "name": "stdout",
     "output_type": "stream",
     "text": [
      "\n",
      "Epoch 21 average loss: 199.676\n",
      "Testing:\n"
     ]
    },
    {
     "data": {
      "application/vnd.jupyter.widget-view+json": {
       "model_id": "bf054b17aceb46359e73185c2009824b",
       "version_major": 2,
       "version_minor": 0
      },
      "text/plain": [
       "HBox(children=(IntProgress(value=0, max=57), HTML(value='')))"
      ]
     },
     "metadata": {},
     "output_type": "display_data"
    },
    {
     "name": "stdout",
     "output_type": "stream",
     "text": [
      "\n",
      "Average validation loss: 8783.115\n",
      "Average wer: 18.270%\n",
      "New best model found.\n",
      "\n",
      "## EPOCH 22 ##\n",
      "Training:\n"
     ]
    },
    {
     "data": {
      "application/vnd.jupyter.widget-view+json": {
       "model_id": "b1d8af63cdef43e19aebccaa41a64dde",
       "version_major": 2,
       "version_minor": 0
      },
      "text/plain": [
       "HBox(children=(IntProgress(value=0, max=1545), HTML(value='')))"
      ]
     },
     "metadata": {},
     "output_type": "display_data"
    },
    {
     "name": "stdout",
     "output_type": "stream",
     "text": [
      "\n",
      "Epoch 22 average loss: 187.770\n",
      "Testing:\n"
     ]
    },
    {
     "data": {
      "application/vnd.jupyter.widget-view+json": {
       "model_id": "c8b1a0905c9c42bfbc7bb1b6e8dd66f5",
       "version_major": 2,
       "version_minor": 0
      },
      "text/plain": [
       "HBox(children=(IntProgress(value=0, max=57), HTML(value='')))"
      ]
     },
     "metadata": {},
     "output_type": "display_data"
    },
    {
     "name": "stdout",
     "output_type": "stream",
     "text": [
      "\n",
      "Average validation loss: 8793.675\n",
      "Average wer: 18.655%\n",
      "\n",
      "## EPOCH 23 ##\n",
      "Training:\n"
     ]
    },
    {
     "data": {
      "application/vnd.jupyter.widget-view+json": {
       "model_id": "e131ec98d45d497a8089d8e239b15546",
       "version_major": 2,
       "version_minor": 0
      },
      "text/plain": [
       "HBox(children=(IntProgress(value=0, max=1545), HTML(value='')))"
      ]
     },
     "metadata": {},
     "output_type": "display_data"
    },
    {
     "name": "stdout",
     "output_type": "stream",
     "text": [
      "\n",
      "Epoch 23 average loss: 165.459\n",
      "Testing:\n"
     ]
    },
    {
     "data": {
      "application/vnd.jupyter.widget-view+json": {
       "model_id": "f8bc6ae6022c458e96b9a091eb3b6728",
       "version_major": 2,
       "version_minor": 0
      },
      "text/plain": [
       "HBox(children=(IntProgress(value=0, max=57), HTML(value='')))"
      ]
     },
     "metadata": {},
     "output_type": "display_data"
    },
    {
     "name": "stdout",
     "output_type": "stream",
     "text": [
      "\n",
      "Average validation loss: 8796.438\n",
      "Average wer: 18.856%\n",
      "\n",
      "## EPOCH 24 ##\n",
      "Training:\n"
     ]
    },
    {
     "data": {
      "application/vnd.jupyter.widget-view+json": {
       "model_id": "eb29ef6fe10143e693a3324da52f744f",
       "version_major": 2,
       "version_minor": 0
      },
      "text/plain": [
       "HBox(children=(IntProgress(value=0, max=1545), HTML(value='')))"
      ]
     },
     "metadata": {},
     "output_type": "display_data"
    },
    {
     "name": "stdout",
     "output_type": "stream",
     "text": [
      "\n",
      "Epoch 24 average loss: 172.025\n",
      "Testing:\n"
     ]
    },
    {
     "data": {
      "application/vnd.jupyter.widget-view+json": {
       "model_id": "3bd22710cbd24da083031fd2ea662bb2",
       "version_major": 2,
       "version_minor": 0
      },
      "text/plain": [
       "HBox(children=(IntProgress(value=0, max=57), HTML(value='')))"
      ]
     },
     "metadata": {},
     "output_type": "display_data"
    },
    {
     "name": "stdout",
     "output_type": "stream",
     "text": [
      "\n",
      "Average validation loss: 8785.462\n",
      "Average wer: 19.559%\n",
      "\n",
      "## EPOCH 25 ##\n",
      "Training:\n"
     ]
    },
    {
     "data": {
      "application/vnd.jupyter.widget-view+json": {
       "model_id": "1aaa27e576354b8995b22f446261c912",
       "version_major": 2,
       "version_minor": 0
      },
      "text/plain": [
       "HBox(children=(IntProgress(value=0, max=1545), HTML(value='')))"
      ]
     },
     "metadata": {},
     "output_type": "display_data"
    },
    {
     "name": "stdout",
     "output_type": "stream",
     "text": [
      "\n",
      "Epoch 25 average loss: 150.908\n",
      "Testing:\n"
     ]
    },
    {
     "data": {
      "application/vnd.jupyter.widget-view+json": {
       "model_id": "6491a26c75394986ae1dfd1cec7b1526",
       "version_major": 2,
       "version_minor": 0
      },
      "text/plain": [
       "HBox(children=(IntProgress(value=0, max=57), HTML(value='')))"
      ]
     },
     "metadata": {},
     "output_type": "display_data"
    },
    {
     "name": "stdout",
     "output_type": "stream",
     "text": [
      "\n",
      "Average validation loss: 8792.754\n",
      "Average wer: 18.526%\n",
      "\n",
      "## EPOCH 26 ##\n",
      "Training:\n"
     ]
    },
    {
     "data": {
      "application/vnd.jupyter.widget-view+json": {
       "model_id": "931f21460d024ef4a8a8d5aa1c80c28a",
       "version_major": 2,
       "version_minor": 0
      },
      "text/plain": [
       "HBox(children=(IntProgress(value=0, max=1545), HTML(value='')))"
      ]
     },
     "metadata": {},
     "output_type": "display_data"
    },
    {
     "name": "stdout",
     "output_type": "stream",
     "text": [
      "\n",
      "Epoch 26 average loss: 151.321\n",
      "Testing:\n"
     ]
    },
    {
     "data": {
      "application/vnd.jupyter.widget-view+json": {
       "model_id": "40d4e624fed646c9a185ca526d3d7bcf",
       "version_major": 2,
       "version_minor": 0
      },
      "text/plain": [
       "HBox(children=(IntProgress(value=0, max=57), HTML(value='')))"
      ]
     },
     "metadata": {},
     "output_type": "display_data"
    },
    {
     "name": "stdout",
     "output_type": "stream",
     "text": [
      "\n",
      "Average validation loss: 8797.409\n",
      "Average wer: 19.118%\n",
      "\n",
      "## EPOCH 27 ##\n",
      "Training:\n"
     ]
    },
    {
     "data": {
      "application/vnd.jupyter.widget-view+json": {
       "model_id": "371eef407b014c4996673fcd3b0b1f88",
       "version_major": 2,
       "version_minor": 0
      },
      "text/plain": [
       "HBox(children=(IntProgress(value=0, max=1545), HTML(value='')))"
      ]
     },
     "metadata": {},
     "output_type": "display_data"
    },
    {
     "name": "stdout",
     "output_type": "stream",
     "text": [
      "\n",
      "Epoch 27 average loss: 139.550\n",
      "Testing:\n"
     ]
    },
    {
     "data": {
      "application/vnd.jupyter.widget-view+json": {
       "model_id": "e258334154024a7a910daa539d4f42cc",
       "version_major": 2,
       "version_minor": 0
      },
      "text/plain": [
       "HBox(children=(IntProgress(value=0, max=57), HTML(value='')))"
      ]
     },
     "metadata": {},
     "output_type": "display_data"
    },
    {
     "name": "stdout",
     "output_type": "stream",
     "text": [
      "\n",
      "Average validation loss: 8801.271\n",
      "Average wer: 18.053%\n",
      "New best model found.\n",
      "\n",
      "## EPOCH 28 ##\n",
      "Training:\n"
     ]
    },
    {
     "data": {
      "application/vnd.jupyter.widget-view+json": {
       "model_id": "d4e57682cf4a4e6aa23ac0398b1e91db",
       "version_major": 2,
       "version_minor": 0
      },
      "text/plain": [
       "HBox(children=(IntProgress(value=0, max=1545), HTML(value='')))"
      ]
     },
     "metadata": {},
     "output_type": "display_data"
    }
   ],
   "source": [
    "settings = {'rnn_type': [nn.GRU, nn.GRU, nn.GRU, nn.GRU, nn.GRU],\n",
    "            'rnn_hidden_size': [800],}\n",
    "i = 0\n",
    "for _rnn_type in settings['rnn_type']:\n",
    "    for _rnn_hidden_size in settings['rnn_hidden_size']:\n",
    "        exp_name = f'NEW-Embeddings_{_rnn_type}_hidden-{_rnn_hidden_size}_{time()}'\n",
    "        i += 1\n",
    "        model = DeepSpeech(rnn_type=_rnn_type, \n",
    "                        labels=param['labels'], \n",
    "                        rnn_hidden_size=_rnn_hidden_size, \n",
    "                        nb_layers=param['num_layers'], #audio_conf=audio_conf,\n",
    "                        bidirectional=True,\n",
    "                        DEBUG=DEBUG,)\n",
    "\n",
    "        if param['cuda']:\n",
    "            model.cuda()\n",
    "\n",
    "        optimizer = torch.optim.Adam(model.parameters(), lr=param['lr'][0])\n",
    "\n",
    "        print()\n",
    "        print(f'{\"\":#<13}')\n",
    "        print(exp_name)\n",
    "        print(f'{\"\":#<13}')\n",
    "\n",
    "        model, val_loss, wer = train(param, \n",
    "                                model,\n",
    "                                train_loader, \n",
    "                                test_loader, optimizer, \n",
    "                                cnt=i,\n",
    "                                exp_name=exp_name)\n",
    "        \n"
   ]
  },
  {
   "cell_type": "markdown",
   "metadata": {},
   "source": [
    "## Tests"
   ]
  },
  {
   "cell_type": "code",
   "execution_count": null,
   "metadata": {},
   "outputs": [],
   "source": [
    "import itertools\n",
    "import numpy as np\n",
    "import matplotlib.pyplot as plt\n",
    "\n",
    "from sklearn import svm, datasets\n",
    "from sklearn.model_selection import train_test_split\n",
    "from sklearn.metrics import confusion_matrix\n",
    "\n",
    "def plot_confusion_matrix(cm, classes,\n",
    "                          normalize=False,\n",
    "                          title='Confusion matrix',\n",
    "                          cmap=plt.cm.Blues):\n",
    "    \"\"\"\n",
    "    This function prints and plots the confusion matrix.\n",
    "    Normalization can be applied by setting `normalize=True`.\n",
    "    \"\"\"\n",
    "    np.set_printoptions(precision=2)\n",
    "    plt.figure()\n",
    "    plt.imshow(cm, interpolation='nearest', cmap=cmap)\n",
    "    plt.title(title)\n",
    "    plt.colorbar()\n",
    "    tick_marks = np.arange(len(classes))\n",
    "    plt.xticks(tick_marks, classes, rotation=45)\n",
    "    plt.yticks(tick_marks, classes)\n",
    "\n",
    "    fmt = '.2f' if normalize else 'd'\n",
    "    thresh = cm.max() / 2.\n",
    "    for i, j in itertools.product(range(cm.shape[0]), range(cm.shape[1])):\n",
    "        plt.text(j, i, format(cm[i, j], fmt),\n",
    "                 horizontalalignment=\"center\",\n",
    "                 color=\"black\") #if cm[i, j] > thresh else \"black\")\n",
    "\n",
    "    plt.ylabel('True label')\n",
    "    plt.xlabel('Predicted label')\n",
    "    plt.tight_layout()\n",
    "    plt.show()"
   ]
  },
  {
   "cell_type": "code",
   "execution_count": null,
   "metadata": {},
   "outputs": [],
   "source": [
    "loader = test_loader\n",
    "best_model= model\n",
    "best_model.eval()\n",
    "\n",
    "y_true, y_pred = [], []\n",
    "with torch.no_grad():\n",
    "    for data in tqdm(loader, total=len(loader)):\n",
    "        inputs, lens, targets, target_lens, target_accents = data\n",
    "        inputs = inputs.cuda()\n",
    "        target_accents = target_accents.cuda()\n",
    "        \n",
    "        out, __ = best_model(inputs, lens)\n",
    "        \n",
    "        y_true.extend(target_accents)\n",
    "        y_pred.append(np.argmax(out, axis=1))\n",
    "        \n",
    "    y_pred = torch.cat(y_pred)\n",
    "            \n",
    "    y_true_labels = [accent_dict[int(i)] for i in y_true]\n",
    "    y_pred_labels = [accent_dict[int(i)] for i in y_pred]\n",
    "\n",
    "cnf_mat = confusion_matrix(y_true_labels, y_pred_labels, labels=list(accent_dict.values()))"
   ]
  },
  {
   "cell_type": "code",
   "execution_count": null,
   "metadata": {},
   "outputs": [],
   "source": [
    "plot_confusion_matrix(cnf_mat, classes=accent_dict.values(), normalize=False)"
   ]
  },
  {
   "cell_type": "code",
   "execution_count": null,
   "metadata": {},
   "outputs": [],
   "source": [
    "from sklearn import metrics\n",
    "print(metrics.classification_report(y_true_labels, y_pred_labels))"
   ]
  },
  {
   "cell_type": "markdown",
   "metadata": {},
   "source": [
    "## Clustering"
   ]
  },
  {
   "cell_type": "code",
   "execution_count": null,
   "metadata": {},
   "outputs": [],
   "source": [
    "from sklearn.decomposition import PCA as sklearnPCA\n",
    "from sklearn.manifold import TSNE\n",
    "\n",
    "def plot_pca(X, y, _dict, projection='PCA', graph_title=''):\n",
    "    if projection == 'PCA':\n",
    "        Y = sklearnPCA(n_components=2).fit_transform(X)\n",
    "    elif projection == 'TSNE':\n",
    "        Y = TSNE(n_components=2).fit_transform(X)\n",
    "    else:\n",
    "        raise ValueError(f'Projection {projection} unkown.')\n",
    "\n",
    "    plt.figure(figsize=(6, 4))\n",
    "    for lab in _dict.values():\n",
    "        plt.scatter(Y[y==lab, 0],\n",
    "                    Y[y==lab, 1],\n",
    "                    label=lab)\n",
    "    plt.xlabel('Principal Component 1')\n",
    "    plt.ylabel('Principal Component 2')\n",
    "    plt.legend(loc='lower left')\n",
    "    plt.tight_layout()\n",
    "    plt.title(f'{projection}: {graph_title}')\n",
    "    plt.show()"
   ]
  },
  {
   "cell_type": "code",
   "execution_count": null,
   "metadata": {},
   "outputs": [],
   "source": [
    "loader = test_loader\n",
    "projection = 'PCA'\n",
    "\n",
    "for model_name, (model, val_loss) in best_models.items():\n",
    "    datapoints = []\n",
    "    targets = []\n",
    "    \n",
    "    model.eval()\n",
    "    with torch.no_grad():\n",
    "        for data in tqdm(loader, total=len(loader)):\n",
    "            \n",
    "            inputs, target_accents, lens = data\n",
    "            inputs = inputs.cuda()\n",
    "            __, bn = best_model(inputs, lens)\n",
    "\n",
    "            datapoints.append(bn)\n",
    "            targets.append(target_accents)\n",
    "            \n",
    "    datapoints = torch.cat(datapoints)\n",
    "    targets = torch.cat(targets)\n",
    "    \n",
    "    X = np.asarray(datapoints)\n",
    "    y = np.asarray([accent_dict[t.item()] for t in targets])\n",
    "    \n",
    "    plot_pca(X, y, accent_dict, projection=projection, graph_title=model_name)"
   ]
  },
  {
   "cell_type": "code",
   "execution_count": null,
   "metadata": {},
   "outputs": [],
   "source": []
  },
  {
   "cell_type": "code",
   "execution_count": null,
   "metadata": {},
   "outputs": [],
   "source": []
  }
 ],
 "metadata": {
  "kernelspec": {
   "display_name": "Python 3",
   "language": "python",
   "name": "python3"
  },
  "language_info": {
   "codemirror_mode": {
    "name": "ipython",
    "version": 3
   },
   "file_extension": ".py",
   "mimetype": "text/x-python",
   "name": "python",
   "nbconvert_exporter": "python",
   "pygments_lexer": "ipython3",
   "version": "3.6.8"
  }
 },
 "nbformat": 4,
 "nbformat_minor": 2
}
