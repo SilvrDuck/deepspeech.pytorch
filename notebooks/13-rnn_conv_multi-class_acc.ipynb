{
 "cells": [
  {
   "cell_type": "markdown",
   "metadata": {},
   "source": [
    "# Accent classification with recurrent networks"
   ]
  },
  {
   "cell_type": "code",
   "execution_count": 14,
   "metadata": {},
   "outputs": [],
   "source": [
    "# Restart from here\n",
    "DEV = False\n",
    "EPOCHS = 3\n",
    "\n",
    "DEBUG = False\n",
    "NUM_CONCAT = 20"
   ]
  },
  {
   "cell_type": "code",
   "execution_count": 15,
   "metadata": {},
   "outputs": [],
   "source": [
    "import torch\n",
    "import torch.nn as nn\n",
    "import torch.nn.functional as F\n",
    "from torch.utils.data import DataLoader\n",
    "#torch.multiprocessing.set_start_method(\"spawn\")"
   ]
  },
  {
   "cell_type": "code",
   "execution_count": 16,
   "metadata": {},
   "outputs": [],
   "source": [
    "True# autoreloads\n",
    "%reload_ext autoreload\n",
    "%autoreload 1\n",
    "%aimport parameters\n",
    "\n",
    "# Allows to load modules from parent directory\n",
    "from time import time\n",
    "import inspect, sys, os, json\n",
    "from os.path import dirname, abspath\n",
    "sys.path.append(dirname(dirname(abspath(inspect.getfile(inspect.currentframe())))))\n",
    "\n",
    "from pathlib import Path\n",
    "from os import makedirs\n",
    "\n",
    "from tqdm import tqdm_notebook as tqdm\n",
    "\n",
    "import numpy as np\n",
    "import pandas as pd\n",
    "import matplotlib.pyplot as plt\n",
    "\n",
    "from data.data_loader import create_binarizer, get_accents_counts\n",
    "from utils import count_parameters\n",
    "from models.modules import BatchRNN, MaskConv\n",
    "\n",
    "from tensorboardX import SummaryWriter\n",
    "\n",
    "import math\n",
    "\n",
    "from torch.utils.data import DataLoader, Dataset"
   ]
  },
  {
   "cell_type": "code",
   "execution_count": 17,
   "metadata": {},
   "outputs": [],
   "source": [
    "param = parameters.get_parameters(dev=DEV, epochs=EPOCHS, us_en=False)"
   ]
  },
  {
   "cell_type": "markdown",
   "metadata": {},
   "source": [
    "## Utilities"
   ]
  },
  {
   "cell_type": "code",
   "execution_count": 18,
   "metadata": {},
   "outputs": [],
   "source": [
    "def val_cnts(list_):\n",
    "    return pd.Series(list_).value_counts()\n",
    "\n",
    "def extract_num (s):\n",
    "    return ''.join([c if c.isdigit() else '' for c in s])\n",
    "\n",
    "def ids_list(manifest):\n",
    "    ids = []\n",
    "    with open(manifest) as f:\n",
    "        for l in f:\n",
    "            s = l.split('/')\n",
    "            ids.append(f'{s[3]}-{s[5].split(\".\")[0]}')\n",
    "    return ids\n",
    "\n",
    "def make_accent_dict(manifest_path):\n",
    "    accent_dict = {}\n",
    "    class_dict = {}\n",
    "    with open(manifest_path) as f:\n",
    "        for l in f:\n",
    "            wav, txt, acc = l.split(',')\n",
    "            num = extract_num(wav)\n",
    "            accent = acc.strip()\n",
    "            if accent not in class_dict:\n",
    "                new_key = 0 if (len(class_dict) == 0) else max(class_dict.values()) + 1\n",
    "                class_dict[accent] = new_key\n",
    "            accent_dict[num] = class_dict[accent]\n",
    "    return accent_dict, {v: k for k, v in class_dict.items()}"
   ]
  },
  {
   "cell_type": "markdown",
   "metadata": {},
   "source": [
    "## Data Loading"
   ]
  },
  {
   "cell_type": "code",
   "execution_count": 19,
   "metadata": {},
   "outputs": [],
   "source": [
    "class KaldiDataset(Dataset):\n",
    "    \"\"\"Defines an iterator over the dataset. This class is intended to be used with PyTorch DataLoader\"\"\"\n",
    "    \n",
    "    def __init__(self, data_path, sample_ids, accent_id_dict):\n",
    "        \n",
    "        self.data_path = data_path\n",
    "        self.accent_id_dict = accent_id_dict\n",
    "        if isinstance(sample_ids, list):\n",
    "            self._datafiles = sample_ids\n",
    "        else:\n",
    "            with open(sample_ids) as f:\n",
    "                self._datafiles = [x.strip() for x in f.readlines()]\n",
    "        \n",
    "    def __getitem__(self, index):\n",
    "             \n",
    "        with open(os.path.join(self.data_path, self._datafiles[index])) as f:\n",
    "            sample = json.load(f)\n",
    "        \n",
    "        target = self.accent_id_dict[extract_num(self._datafiles[index])]\n",
    "        return torch.FloatTensor(sample), target\n",
    "                      \n",
    "    def __len__(self):\n",
    "        \n",
    "        return len(self._datafiles)"
   ]
  },
  {
   "cell_type": "code",
   "execution_count": 20,
   "metadata": {},
   "outputs": [],
   "source": [
    "def collate_fn(batch_tot):\n",
    "    \"\"\"This function takes list of samples and assembles a batch. It is intended to used in PyTorch DataLoader.\"\"\"\n",
    "    res, tar = zip(*batch_tot)\n",
    "\n",
    "    lens = torch.tensor([len(r) for r in res])\n",
    "    tar = torch.tensor(tar)\n",
    "    \n",
    "    res = nn.utils.rnn.pad_sequence(res, batch_first=True)\n",
    "    \n",
    "    __, idx = lens.sort(descending=True)\n",
    "    \n",
    "    return res[idx], tar[idx], lens[idx]\n",
    "\n",
    "class KaldiDataLoader(DataLoader):\n",
    "    def __init__(self, *args, **kwargs):\n",
    "        \"\"\"\n",
    "        Creates a data loader for SpeechDatasets.\n",
    "        \"\"\"\n",
    "        super(KaldiDataLoader, self).__init__(*args, **kwargs)\n",
    "        self.collate_fn = collate_fn"
   ]
  },
  {
   "cell_type": "code",
   "execution_count": 21,
   "metadata": {},
   "outputs": [],
   "source": [
    "accent_id_dict, accent_dict = make_accent_dict(param['train_manifest'])\n",
    "\n",
    "train_dataset = KaldiDataset(param['train_kaldi'], \n",
    "                              ids_list(param['train_manifest']), \n",
    "                              accent_id_dict)\n",
    "\n",
    "train_loader = KaldiDataLoader(train_dataset, \n",
    "                                shuffle=True, \n",
    "                                num_workers=0,#param['num_worker'],\n",
    "                                batch_size=param['batch_size'])\n",
    "\n",
    "# for data in train_loader:\n",
    "#     print(data[0])\n",
    "#     print(data)\n",
    "#     break"
   ]
  },
  {
   "cell_type": "code",
   "execution_count": 22,
   "metadata": {},
   "outputs": [],
   "source": [
    "test_dict, __ = make_accent_dict(param['test_manifest'])\n",
    "\n",
    "test_dataset = KaldiDataset(param['test_kaldi'], \n",
    "                              ids_list(param['test_manifest']), \n",
    "                              test_dict)\n",
    "\n",
    "test_loader = KaldiDataLoader(test_dataset, \n",
    "                                shuffle=True, \n",
    "                                num_workers=param['num_worker'],\n",
    "                                batch_size=param['batch_size'])"
   ]
  },
  {
   "cell_type": "markdown",
   "metadata": {},
   "source": [
    "## Model definition"
   ]
  },
  {
   "cell_type": "code",
   "execution_count": 23,
   "metadata": {},
   "outputs": [],
   "source": [
    "class AccentClassifier(nn.Module):\n",
    "    def __init__(self,\n",
    "                 input_size,\n",
    "                 num_classes,\n",
    "                 rnn_type,\n",
    "                 hidden_size,\n",
    "                 bn_size,\n",
    "                 DEBUG = False,):\n",
    "        \n",
    "        super(AccentClassifier, self).__init__()\n",
    "        \n",
    "        self.hidden_size = hidden_size\n",
    "\n",
    "        self._DEBUG = DEBUG\n",
    "        \n",
    "        conv_out_size = 20\n",
    "        self.conv = nn.Sequential(\n",
    "            nn.Conv1d(1, 32, kernel_size=41, stride=2, padding=20),\n",
    "            nn.BatchNorm1d(32),\n",
    "            nn.Hardtanh(0, 20, inplace=True),\n",
    "            nn.Conv1d(32, 32, kernel_size=21, stride=2, padding=10),\n",
    "            nn.BatchNorm1d(32),\n",
    "            nn.Hardtanh(0, conv_out_size, inplace=True)\n",
    "        )\n",
    "        \n",
    "        self.rnn = rnn_type(input_size, hidden_size, 2, \n",
    "                            bidirectional=True, \n",
    "                            batch_first=True)\n",
    "\n",
    "        self.bn = nn.Sequential(\n",
    "            nn.BatchNorm1d(400 * 32),\n",
    "            nn.Linear(400 * 32, 1024),\n",
    "            nn.ReLU(),\n",
    "            nn.BatchNorm1d(1024),\n",
    "            nn.Linear(1024, bn_size),\n",
    "            nn.ReLU(),\n",
    "        )\n",
    "            \n",
    "        self.fc = nn.Sequential(\n",
    "            nn.BatchNorm1d(bn_size),\n",
    "            nn.Linear(bn_size, num_classes),\n",
    "            nn.ReLU(),\n",
    "        )\n",
    "        \n",
    "        self.softmax = nn.Softmax(dim=1)\n",
    "\n",
    "    def forward(self, x, lens):\n",
    "        if self._DEBUG:\n",
    "            print('input x', x.size())\n",
    "                      \n",
    "        x = nn.utils.rnn.pack_padded_sequence(x, lens, batch_first=True)\n",
    "        x, __ = self.rnn(x)\n",
    "        x, lens = nn.utils.rnn.pad_packed_sequence(x, batch_first=True)\n",
    "        \n",
    "        if self._DEBUG:\n",
    "            print('after rnn', x.size())\n",
    "        \n",
    "        x = x.mean(dim=1)\n",
    "        \n",
    "        if self._DEBUG:\n",
    "            print('after mean', x.size())\n",
    "\n",
    "        x = x.view(x.size(0), 1, x.size(1))\n",
    "        x = self.conv(x)\n",
    "\n",
    "        if self._DEBUG:\n",
    "            print('after conv', x.size())\n",
    "            \n",
    "        x = x.view(x.size(0), x.size(1) * x.size(2))\n",
    "            \n",
    "        if self._DEBUG:\n",
    "            print('after view', x.size())\n",
    "            \n",
    "        x = self.bn(x)\n",
    "        bn = x\n",
    "        \n",
    "        if self._DEBUG:\n",
    "            print('after bn', x.size())\n",
    "\n",
    "        x = self.fc(x)\n",
    "        \n",
    "        if self._DEBUG:\n",
    "            print('after fc', x.size())\n",
    "            \n",
    "        x = self.softmax(x)\n",
    "        \n",
    "        if self._DEBUG:\n",
    "            print('after softmax', x.size())\n",
    "            \n",
    "        self._DEBUG = False\n",
    "        return x, bn"
   ]
  },
  {
   "cell_type": "markdown",
   "metadata": {},
   "source": [
    "## Optimizer"
   ]
  },
  {
   "cell_type": "code",
   "execution_count": 24,
   "metadata": {},
   "outputs": [
    {
     "name": "stdout",
     "output_type": "stream",
     "text": [
      "AccentClassifier(\n",
      "  (conv): Sequential(\n",
      "    (0): Conv1d(1, 32, kernel_size=(41,), stride=(2,), padding=(20,))\n",
      "    (1): BatchNorm1d(32, eps=1e-05, momentum=0.1, affine=True, track_running_stats=True)\n",
      "    (2): Hardtanh(min_val=0, max_val=20, inplace)\n",
      "    (3): Conv1d(32, 32, kernel_size=(21,), stride=(2,), padding=(10,))\n",
      "    (4): BatchNorm1d(32, eps=1e-05, momentum=0.1, affine=True, track_running_stats=True)\n",
      "    (5): Hardtanh(min_val=0, max_val=20, inplace)\n",
      "  )\n",
      "  (rnn): GRU(40, 800, num_layers=2, batch_first=True, bidirectional=True)\n",
      "  (bn): Sequential(\n",
      "    (0): BatchNorm1d(12800, eps=1e-05, momentum=0.1, affine=True, track_running_stats=True)\n",
      "    (1): Linear(in_features=12800, out_features=1024, bias=True)\n",
      "    (2): ReLU()\n",
      "    (3): BatchNorm1d(1024, eps=1e-05, momentum=0.1, affine=True, track_running_stats=True)\n",
      "    (4): Linear(in_features=1024, out_features=100, bias=True)\n",
      "    (5): ReLU()\n",
      "  )\n",
      "  (fc): Sequential(\n",
      "    (0): BatchNorm1d(100, eps=1e-05, momentum=0.1, affine=True, track_running_stats=True)\n",
      "    (1): Linear(in_features=100, out_features=7, bias=True)\n",
      "    (2): ReLU()\n",
      "  )\n",
      "  (softmax): Softmax()\n",
      ")\n",
      "Model parameters counts: 28833487\n"
     ]
    }
   ],
   "source": [
    "model = AccentClassifier(input_size=train_dataset[0][0].size(1), \n",
    "                         num_classes=len(accent_dict),\n",
    "                         rnn_type=param['rnn_type'],\n",
    "                         hidden_size=param['rnn_hidden_size'],\n",
    "                         bn_size=param['bn_size'],\n",
    "                         DEBUG=DEBUG)\n",
    "\n",
    "if param['cuda']:\n",
    "    model.cuda()\n",
    "    \n",
    "criterion = nn.CrossEntropyLoss()\n",
    "\n",
    "optimizer = torch.optim.Adam(model.parameters(), lr=param['lr'][0])\n",
    "\n",
    "print(model)\n",
    "print('Model parameters counts:', count_parameters(model))"
   ]
  },
  {
   "cell_type": "markdown",
   "metadata": {},
   "source": [
    "## Training"
   ]
  },
  {
   "cell_type": "code",
   "execution_count": 25,
   "metadata": {},
   "outputs": [],
   "source": [
    "def train(epochs, \n",
    "          model, \n",
    "          train_loader, \n",
    "          test_loader, \n",
    "          optimizer, \n",
    "          criterion, \n",
    "          silent=True,\n",
    "          exp_name='__tmp__'):\n",
    "\n",
    "    # Tensorboard\n",
    "    tb_path = Path(param['tensorboard_dir']) / exp_name\n",
    "    makedirs(tb_path, exist_ok=True)\n",
    "    tb_writer = SummaryWriter(tb_path)\n",
    "\n",
    "    prev_epoch_val_loss = math.inf\n",
    "    \n",
    "    ## Train\n",
    "    for epoch in range(1, param['epochs'] + 1):\n",
    "        print(f'## EPOCH {epoch} ##')\n",
    "        print(f'Training:')\n",
    "        model.train()\n",
    "\n",
    "        # train\n",
    "        epoch_losses = []\n",
    "        for i, data in tqdm(enumerate(train_loader), total=len(train_loader)):\n",
    "            inputs, target_accents, lens = data\n",
    "            inputs = inputs.cuda()\n",
    "            target_accents = target_accents.cuda()\n",
    "            lens = lens.cuda()\n",
    "\n",
    "            # Forward pass\n",
    "            out, __ = model(inputs, lens)\n",
    "\n",
    "            loss = criterion(out, target_accents)\n",
    "            epoch_losses.append(loss)\n",
    "\n",
    "            if not silent:\n",
    "                print(f'Iteration {i+1}/{len(train_loader):<4}loss: {loss:0.3f}')\n",
    "\n",
    "            # Gradient\n",
    "            optimizer.zero_grad()\n",
    "            loss.backward()\n",
    "            optimizer.step()\n",
    "\n",
    "        epoch_loss = sum(epoch_losses) / len(train_loader)\n",
    "        tb_writer.add_scalar('stats/train_loss', epoch_loss, epoch)\n",
    "        print(f'Epoch {epoch} average loss: {epoch_loss:0.3f}')\n",
    "\n",
    "        # validate\n",
    "        print(f'Testing:')\n",
    "        model.eval()\n",
    "        acc = 0\n",
    "        tot = 0\n",
    "        with torch.no_grad():\n",
    "            epoch_val_losses = []\n",
    "            for data in tqdm(test_loader, total=len(test_loader)): ## ## \n",
    "                inputs, target_accents, lens = data\n",
    "                inputs = inputs.cuda()\n",
    "                target_accents = target_accents.cuda()\n",
    "\n",
    "                out, __ = model(inputs, lens)\n",
    "\n",
    "                val_loss = criterion(out, target_accents)\n",
    "                epoch_val_losses.append(val_loss)\n",
    "\n",
    "                out_arg = np.argmax(out, axis=1).cuda()\n",
    "                diff = torch.eq(out_arg, target_accents)\n",
    "                acc += torch.sum(diff)\n",
    "                tot += len(target_accents)\n",
    "\n",
    "            acc = acc.item() / tot * 100\n",
    "            epoch_val_loss = sum(epoch_val_losses) / len(test_loader) ##\n",
    "\n",
    "        tb_writer.add_scalar('stats/accuracy', acc, epoch)\n",
    "        print(f'Accent classification accuracy: {acc:0.2f}%')\n",
    "\n",
    "        tb_writer.add_scalar('stats/val_loss', epoch_val_loss, epoch)\n",
    "        print(f'Average validation loss: {val_loss:0.3f}')\n",
    "\n",
    "        if epoch_val_loss < prev_epoch_val_loss:\n",
    "            print('New best model found.')\n",
    "            prev_epoch_val_loss = epoch_val_loss     \n",
    "                \n",
    "            torch.save(model.state_dict, f'saved/12_nbk_sd_{exp_name}.pt')\n",
    "            torch.save(model, f'saved/12_nbk_fm_{exp_name}.pt')\n",
    "            \n",
    "    return model, prev_epoch_val_loss"
   ]
  },
  {
   "cell_type": "code",
   "execution_count": null,
   "metadata": {},
   "outputs": [
    {
     "name": "stdout",
     "output_type": "stream",
     "text": [
      "\n",
      "#############\n",
      "Accent_conv_rnn_hidden-800_bn-100\n",
      "#############\n",
      "## EPOCH 1 ##\n",
      "Training:\n"
     ]
    },
    {
     "data": {
      "application/vnd.jupyter.widget-view+json": {
       "model_id": "ee4a429c4cbd4c3ea7436c97b24f675f",
       "version_major": 2,
       "version_minor": 0
      },
      "text/plain": [
       "HBox(children=(IntProgress(value=0, max=1545), HTML(value='')))"
      ]
     },
     "metadata": {},
     "output_type": "display_data"
    },
    {
     "name": "stdout",
     "output_type": "stream",
     "text": [
      "Epoch 1 average loss: 1.724\n",
      "Testing:\n"
     ]
    },
    {
     "data": {
      "application/vnd.jupyter.widget-view+json": {
       "model_id": "a23a45ae0cbf46f0a26d7061762aae06",
       "version_major": 2,
       "version_minor": 0
      },
      "text/plain": [
       "HBox(children=(IntProgress(value=0, max=57), HTML(value='')))"
      ]
     },
     "metadata": {},
     "output_type": "display_data"
    },
    {
     "name": "stdout",
     "output_type": "stream",
     "text": [
      "Accent classification accuracy: 56.17%\n",
      "Average validation loss: 1.461\n",
      "New best model found.\n"
     ]
    },
    {
     "name": "stderr",
     "output_type": "stream",
     "text": [
      "/home/thibault/anaconda3/lib/python3.6/site-packages/torch/serialization.py:241: UserWarning: Couldn't retrieve source code for container of type AccentClassifier. It won't be checked for correctness upon loading.\n",
      "  \"type \" + obj.__name__ + \". It won't be checked \"\n"
     ]
    },
    {
     "name": "stdout",
     "output_type": "stream",
     "text": [
      "## EPOCH 2 ##\n",
      "Training:\n"
     ]
    },
    {
     "data": {
      "application/vnd.jupyter.widget-view+json": {
       "model_id": "6ca8ac8aa5914207b7e265d044db9bc0",
       "version_major": 2,
       "version_minor": 0
      },
      "text/plain": [
       "HBox(children=(IntProgress(value=0, max=1545), HTML(value='')))"
      ]
     },
     "metadata": {},
     "output_type": "display_data"
    }
   ],
   "source": [
    "SILENT = True\n",
    "\n",
    "\n",
    "settings = {'rnn_type': [nn.GRU],\n",
    "            'rnn_hidden_size': [800],\n",
    "            'bn_size': [100]}\n",
    "\n",
    "for _rnn_type in settings['rnn_type']:\n",
    "    for _rnn_hidden_size in settings['rnn_hidden_size']:\n",
    "        for _bn_size in settings['bn_size']:\n",
    "            exp_name = f'Accent_conv_rnn_hidden-{_rnn_hidden_size}_bn-{_bn_size}'\n",
    "\n",
    "            model = AccentClassifier(input_size=train_dataset[0][0].size(1), \n",
    "                                     num_classes=len(accent_dict),\n",
    "                                     rnn_type=_rnn_type,\n",
    "                                     hidden_size=_rnn_hidden_size,\n",
    "                                     bn_size=_bn_size,\n",
    "                                     DEBUG=DEBUG)\n",
    "\n",
    "            if param['cuda']:\n",
    "                model.cuda()\n",
    "\n",
    "            criterion = nn.CrossEntropyLoss()\n",
    "\n",
    "            optimizer = torch.optim.Adam(model.parameters(), lr=param['lr'][0])\n",
    "\n",
    "            print()\n",
    "            print(f'{\"\":#<13}')\n",
    "            print(exp_name)\n",
    "            print(f'{\"\":#<13}')\n",
    "\n",
    "            model, val_loss = train(param, \n",
    "                                    model,\n",
    "                                    train_loader, \n",
    "                                    test_loader, optimizer, \n",
    "                                    criterion,\n",
    "                                    silent=SILENT,\n",
    "                                    exp_name=exp_name)\n",
    "\n",
    "        \n",
    "        "
   ]
  },
  {
   "cell_type": "markdown",
   "metadata": {},
   "source": [
    "## Tests"
   ]
  },
  {
   "cell_type": "code",
   "execution_count": null,
   "metadata": {},
   "outputs": [],
   "source": [
    "import itertools\n",
    "import numpy as np\n",
    "import matplotlib.pyplot as plt\n",
    "\n",
    "from sklearn import svm, datasets\n",
    "from sklearn.model_selection import train_test_split\n",
    "from sklearn.metrics import confusion_matrix\n",
    "\n",
    "def plot_confusion_matrix(cm, classes,\n",
    "                          normalize=False,\n",
    "                          title='Confusion matrix',\n",
    "                          cmap=plt.cm.Blues):\n",
    "    \"\"\"\n",
    "    This function prints and plots the confusion matrix.\n",
    "    Normalization can be applied by setting `normalize=True`.\n",
    "    \"\"\"\n",
    "    np.set_printoptions(precision=2)\n",
    "    plt.figure()\n",
    "    plt.imshow(cm, interpolation='nearest', cmap=cmap)\n",
    "    plt.title(title)\n",
    "    plt.colorbar()\n",
    "    tick_marks = np.arange(len(classes))\n",
    "    plt.xticks(tick_marks, classes, rotation=45)\n",
    "    plt.yticks(tick_marks, classes)\n",
    "\n",
    "    fmt = '.2f' if normalize else 'd'\n",
    "    thresh = cm.max() / 2.\n",
    "    for i, j in itertools.product(range(cm.shape[0]), range(cm.shape[1])):\n",
    "        plt.text(j, i, format(cm[i, j], fmt),\n",
    "                 horizontalalignment=\"center\",\n",
    "                 color=\"black\") #if cm[i, j] > thresh else \"black\")\n",
    "\n",
    "    plt.ylabel('True label')\n",
    "    plt.xlabel('Predicted label')\n",
    "    plt.tight_layout()\n",
    "    plt.show()"
   ]
  },
  {
   "cell_type": "code",
   "execution_count": null,
   "metadata": {},
   "outputs": [],
   "source": [
    "loader = test_loader\n",
    "best_model = model\n",
    "best_model.eval()\n",
    "\n",
    "y_true, y_pred = [], []\n",
    "with torch.no_grad():\n",
    "    for data in tqdm(loader, total=len(loader)):\n",
    "        inputs, target_accents, lens = data\n",
    "        inputs = inputs.cuda()\n",
    "        target_accents = target_accents.cuda()\n",
    "        \n",
    "        out, __ = best_model(inputs, lens)\n",
    "        \n",
    "        y_true.extend(target_accents)\n",
    "        y_pred.append(np.argmax(out, axis=1))\n",
    "        \n",
    "    y_pred = torch.cat(y_pred)\n",
    "            \n",
    "    y_true_labels = [accent_dict[int(i)] for i in y_true]\n",
    "    y_pred_labels = [accent_dict[int(i)] for i in y_pred]\n",
    "\n",
    "cnf_mat = confusion_matrix(y_true_labels, y_pred_labels, labels=list(accent_dict.values()))"
   ]
  },
  {
   "cell_type": "code",
   "execution_count": null,
   "metadata": {},
   "outputs": [],
   "source": [
    "plot_confusion_matrix(cnf_mat, classes=accent_dict.values(), normalize=False)"
   ]
  },
  {
   "cell_type": "code",
   "execution_count": 17,
   "metadata": {},
   "outputs": [
    {
     "name": "stdout",
     "output_type": "stream",
     "text": [
      "             precision    recall  f1-score   support\n",
      "\n",
      "  australia       0.00      0.00      0.00        93\n",
      "     canada       0.00      0.00      0.00       102\n",
      "    england       0.50      0.64      0.56       633\n",
      "         us       0.14      0.15      0.14       299\n",
      "\n",
      "avg / total       0.32      0.40      0.35      1127\n",
      "\n"
     ]
    },
    {
     "name": "stderr",
     "output_type": "stream",
     "text": [
      "/home/thibault/anaconda3/lib/python3.6/site-packages/sklearn/metrics/classification.py:1135: UndefinedMetricWarning: Precision and F-score are ill-defined and being set to 0.0 in labels with no predicted samples.\n",
      "  'precision', 'predicted', average, warn_for)\n"
     ]
    }
   ],
   "source": [
    "from sklearn import metrics\n",
    "print(metrics.classification_report(y_true_labels, y_pred_labels))"
   ]
  },
  {
   "cell_type": "markdown",
   "metadata": {},
   "source": [
    "## Clustering"
   ]
  },
  {
   "cell_type": "code",
   "execution_count": 57,
   "metadata": {},
   "outputs": [],
   "source": [
    "from sklearn.decomposition import PCA as sklearnPCA\n",
    "from sklearn.manifold import TSNE\n",
    "\n",
    "def plot_pca(X, y, _dict, projection='PCA', graph_title=''):\n",
    "    if projection == 'PCA':\n",
    "        Y = sklearnPCA(n_components=2).fit_transform(X)\n",
    "    elif projection == 'TSNE':\n",
    "        Y = TSNE(n_components=2).fit_transform(X)\n",
    "    else:\n",
    "        raise ValueError(f'Projection {projection} unkown.')\n",
    "\n",
    "    plt.figure(figsize=(6, 4))\n",
    "    for lab in _dict.values():\n",
    "        plt.scatter(Y[y==lab, 0],\n",
    "                    Y[y==lab, 1],\n",
    "                    label=lab)\n",
    "    plt.xlabel('Principal Component 1')\n",
    "    plt.ylabel('Principal Component 2')\n",
    "    plt.legend(loc='lower left')\n",
    "    plt.tight_layout()\n",
    "    plt.title(f'{projection}: {graph_title}')\n",
    "    plt.show()"
   ]
  },
  {
   "cell_type": "code",
   "execution_count": 58,
   "metadata": {},
   "outputs": [
    {
     "data": {
      "application/vnd.jupyter.widget-view+json": {
       "model_id": "e2d97c4296984ffab165757dd81e7bfd",
       "version_major": 2,
       "version_minor": 0
      },
      "text/plain": [
       "HBox(children=(IntProgress(value=0, max=29), HTML(value='')))"
      ]
     },
     "metadata": {},
     "output_type": "display_data"
    },
    {
     "name": "stdout",
     "output_type": "stream",
     "text": [
      "\n"
     ]
    },
    {
     "data": {
      "image/png": "[encoded data removed]",
      "text/plain": [
       "<Figure size 432x288 with 1 Axes>"
      ]
     },
     "metadata": {},
     "output_type": "display_data"
    },
    {
     "data": {
      "application/vnd.jupyter.widget-view+json": {
       "model_id": "d576b3d88bf9419c8997bd308e62d342",
       "version_major": 2,
       "version_minor": 0
      },
      "text/plain": [
       "HBox(children=(IntProgress(value=0, max=29), HTML(value='')))"
      ]
     },
     "metadata": {},
     "output_type": "display_data"
    },
    {
     "name": "stdout",
     "output_type": "stream",
     "text": [
      "\n"
     ]
    },
    {
     "data": {
      "image/png": "[encoded data removed]",
      "text/plain": [
       "<Figure size 432x288 with 1 Axes>"
      ]
     },
     "metadata": {},
     "output_type": "display_data"
    },
    {
     "data": {
      "application/vnd.jupyter.widget-view+json": {
       "model_id": "729c2722300940f3a19fdb9c3ae77525",
       "version_major": 2,
       "version_minor": 0
      },
      "text/plain": [
       "HBox(children=(IntProgress(value=0, max=29), HTML(value='')))"
      ]
     },
     "metadata": {},
     "output_type": "display_data"
    },
    {
     "name": "stdout",
     "output_type": "stream",
     "text": [
      "\n"
     ]
    },
    {
     "data": {
      "image/png": "[encoded data removed]",
      "text/plain": [
       "<Figure size 432x288 with 1 Axes>"
      ]
     },
     "metadata": {},
     "output_type": "display_data"
    }
   ],
   "source": [
    "loader = test_loader\n",
    "projection = 'PCA'\n",
    "\n",
    "for model_name, (model, val_loss) in best_models.items():\n",
    "    datapoints = []\n",
    "    targets = []\n",
    "    \n",
    "    model.eval()\n",
    "    with torch.no_grad():\n",
    "        for data in tqdm(loader, total=len(loader)):\n",
    "            \n",
    "            inputs, target_accents, lens = data\n",
    "            inputs = inputs.cuda()\n",
    "            __, bn = best_model(inputs, lens)\n",
    "\n",
    "            datapoints.append(bn)\n",
    "            targets.append(target_accents)\n",
    "            \n",
    "    datapoints = torch.cat(datapoints)\n",
    "    targets = torch.cat(targets)\n",
    "    \n",
    "    X = np.asarray(datapoints)\n",
    "    y = np.asarray([accent_dict[t.item()] for t in targets])\n",
    "    \n",
    "    plot_pca(X, y, accent_dict, projection=projection, graph_title=model_name)"
   ]
  },
  {
   "cell_type": "code",
   "execution_count": null,
   "metadata": {},
   "outputs": [],
   "source": []
  }
 ],
 "metadata": {
  "kernelspec": {
   "display_name": "Python 3",
   "language": "python",
   "name": "python3"
  },
  "language_info": {
   "codemirror_mode": {
    "name": "ipython",
    "version": 3
   },
   "file_extension": ".py",
   "mimetype": "text/x-python",
   "name": "python",
   "nbconvert_exporter": "python",
   "pygments_lexer": "ipython3",
   "version": "3.6.8"
  }
 },
 "nbformat": 4,
 "nbformat_minor": 2
}
