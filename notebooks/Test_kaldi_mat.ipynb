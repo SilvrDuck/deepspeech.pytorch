{
 "cells": [
  {
   "cell_type": "code",
   "execution_count": 5,
   "metadata": {},
   "outputs": [],
   "source": [
    "import inspect, sys\n",
    "from os.path import dirname, abspath\n",
    "sys.path.append(dirname(dirname(abspath(inspect.getfile(inspect.currentframe())))))\n",
    "\n",
    "from data import kaldi_io, kaldi_data_loader\n",
    "\n",
    "from pathlib import Path"
   ]
  },
  {
   "cell_type": "code",
   "execution_count": 6,
   "metadata": {},
   "outputs": [],
   "source": [
    "DIR = Path('../data/CommonVoice_dataset/kaldi/ivectors_valid_train_sp_hires/')\n",
    "scp_path = str(DIR / 'ivector_online.scp')\n",
    "out_path = str(DIR / 'extracted/')"
   ]
  },
  {
   "cell_type": "code",
   "execution_count": 7,
   "metadata": {},
   "outputs": [
    {
     "name": "stdout",
     "output_type": "stream",
     "text": [
      "Pass b'cv-valid-train-sample-106240 /home/milos/kaldi/egs/commonvoice/s5/exp/nnet3/ivectors_valid_train_sp_hires/ivector_online.4.ark:96234129\\n'\n",
      "Pass b'cv-valid-train-sample-136737 /home/milos/kaldi/egs/commonvoice/s5/exp/nnet3/ivectors_valid_train_sp_hires/ivector_online.5.ark:101781279\\n'\n",
      "Pass b'cv-valid-train-sample-166448 /home/milos/kaldi/egs/commonvoice/s5/exp/nnet3/ivectors_valid_train_sp_hires/ivector_online.6.ark:104116729\\n'\n",
      "Pass b'sp0.9-cv-valid-train-sample-106240 /home/milos/kaldi/egs/commonvoice/s5/exp/nnet3/ivectors_valid_train_sp_hires/ivector_online.11.ark:48409547\\n'\n",
      "Pass b'sp1.1-cv-valid-train-sample-106240 /home/milos/kaldi/egs/commonvoice/s5/exp/nnet3/ivectors_valid_train_sp_hires/ivector_online.17.ark:137283059\\n'\n",
      "Pass b'sp1.1-cv-valid-train-sample-115570 /home/milos/kaldi/egs/commonvoice/s5/exp/nnet3/ivectors_valid_train_sp_hires/ivector_online.18.ark:38711643\\n'\n",
      "Pass b'sp1.1-cv-valid-train-sample-136737 /home/milos/kaldi/egs/commonvoice/s5/exp/nnet3/ivectors_valid_train_sp_hires/ivector_online.18.ark:142298996\\n'\n",
      "Pass b'sp1.1-cv-valid-train-sample-166448 /home/milos/kaldi/egs/commonvoice/s5/exp/nnet3/ivectors_valid_train_sp_hires/ivector_online.20.ark:192863\\n'\n"
     ]
    }
   ],
   "source": [
    "kaldi_data_loader.create_data_folder(scp_path, out_path)"
   ]
  },
  {
   "cell_type": "code",
   "execution_count": null,
   "metadata": {},
   "outputs": [],
   "source": [
    "kaldi_io.read_mat_scp(scp_path).__next__()[0]"
   ]
  },
  {
   "cell_type": "code",
   "execution_count": 10,
   "metadata": {},
   "outputs": [
    {
     "data": {
      "text/plain": [
       "'cv-valid-dev-sample-000000'"
      ]
     },
     "execution_count": 10,
     "metadata": {},
     "output_type": "execute_result"
    }
   ],
   "source": [
    "kaldi_io.read_mat_ark(ark_path).__next__()[0]"
   ]
  },
  {
   "cell_type": "code",
   "execution_count": 8,
   "metadata": {},
   "outputs": [],
   "source": [
    "# passed\n",
    "\n",
    "# Pass b'cv-valid-train-sample-106240 /home/milos/kaldi/egs/commonvoice/s5/exp/nnet3/ivectors_valid_train_sp_hires/ivector_online.4.ark:96234129\\n'\n",
    "# Pass b'cv-valid-train-sample-136737 /home/milos/kaldi/egs/commonvoice/s5/exp/nnet3/ivectors_valid_train_sp_hires/ivector_online.5.ark:101781279\\n'\n",
    "# Pass b'cv-valid-train-sample-166448 /home/milos/kaldi/egs/commonvoice/s5/exp/nnet3/ivectors_valid_train_sp_hires/ivector_online.6.ark:104116729\\n'\n",
    "# Pass b'sp0.9-cv-valid-train-sample-106240 /home/milos/kaldi/egs/commonvoice/s5/exp/nnet3/ivectors_valid_train_sp_hires/ivector_online.11.ark:48409547\\n'\n",
    "# Pass b'sp1.1-cv-valid-train-sample-106240 /home/milos/kaldi/egs/commonvoice/s5/exp/nnet3/ivectors_valid_train_sp_hires/ivector_online.17.ark:137283059\\n'\n",
    "# Pass b'sp1.1-cv-valid-train-sample-115570 /home/milos/kaldi/egs/commonvoice/s5/exp/nnet3/ivectors_valid_train_sp_hires/ivector_online.18.ark:38711643\\n'\n",
    "# Pass b'sp1.1-cv-valid-train-sample-136737 /home/milos/kaldi/egs/commonvoice/s5/exp/nnet3/ivectors_valid_train_sp_hires/ivector_online.18.ark:142298996\\n'\n",
    "# Pass b'sp1.1-cv-valid-train-sample-166448 /home/milos/kaldi/egs/commonvoice/s5/exp/nnet3/ivectors_valid_train_sp_hires/ivector_online.20.ark:192863\\n'"
   ]
  },
  {
   "cell_type": "code",
   "execution_count": null,
   "metadata": {},
   "outputs": [],
   "source": []
  }
 ],
 "metadata": {
  "kernelspec": {
   "display_name": "Python 3",
   "language": "python",
   "name": "python3"
  },
  "language_info": {
   "codemirror_mode": {
    "name": "ipython",
    "version": 3
   },
   "file_extension": ".py",
   "mimetype": "text/x-python",
   "name": "python",
   "nbconvert_exporter": "python",
   "pygments_lexer": "ipython3",
   "version": "3.6.8"
  }
 },
 "nbformat": 4,
 "nbformat_minor": 2
}
