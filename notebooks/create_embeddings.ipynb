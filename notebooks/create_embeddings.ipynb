{
 "cells": [
  {
   "cell_type": "code",
   "execution_count": 1,
   "metadata": {},
   "outputs": [],
   "source": [
    "DEV = True\n",
    "EPOCHS = 1\n",
    "DEBUG = False"
   ]
  },
  {
   "cell_type": "code",
   "execution_count": 2,
   "metadata": {},
   "outputs": [],
   "source": [
    "import torch\n",
    "import torch.nn as nn\n",
    "import torch.nn.functional as F\n",
    "from torch.utils.data import DataLoader\n",
    "\n",
    "from warpctc_pytorch import CTCLoss\n",
    "#torch.multiprocessing.set_start_method(\"spawn\")\n",
    "\n",
    "%reload_ext autoreload\n",
    "%autoreload 1\n",
    "%aimport parameters\n",
    "\n",
    "# Allows to load modules from parent directory\n",
    "from time import time\n",
    "import inspect, sys, os, json\n",
    "from os.path import dirname, abspath\n",
    "sys.path.append(dirname(dirname(abspath(inspect.getfile(inspect.currentframe())))))\n",
    "\n",
    "from pathlib import Path\n",
    "from os import makedirs\n",
    "from collections import OrderedDict\n",
    "\n",
    "from tqdm import tqdm_notebook as tqdm\n",
    "\n",
    "import numpy as np\n",
    "import pandas as pd\n",
    "import matplotlib.pyplot as plt\n",
    "\n",
    "from data.data_loader import create_binarizer, get_accents_counts\n",
    "from utils import count_parameters\n",
    "from models.modules import MaskConv, SequenceWise, BatchRNN, InferenceBatchSoftmax, Lookahead, \\\n",
    "                    supported_rnns, supported_rnns_inv\n",
    "\n",
    "from tensorboardX import SummaryWriter\n",
    "\n",
    "import math\n",
    "\n",
    "from torch.utils.data import DataLoader, Dataset\n",
    "from decoder import GreedyDecoder, BeamCTCDecoder\n",
    "\n",
    "True# autoreloads\n",
    "%reload_ext autoreload\n",
    "%autoreload 1\n",
    "%aimport parameters\n",
    "\n",
    "# Allows to load modules from parent directory\n",
    "from time import time\n",
    "import inspect, sys, os, json\n",
    "from os.path import dirname, abspath\n",
    "sys.path.append(dirname(dirname(abspath(inspect.getfile(inspect.currentframe())))))\n",
    "\n",
    "from pathlib import Path\n",
    "from os import makedirs\n",
    "from collections import OrderedDict\n",
    "\n",
    "from tqdm import tqdm_notebook as tqdm\n",
    "\n",
    "import numpy as np\n",
    "import pandas as pd\n",
    "import matplotlib.pyplot as plt\n",
    "\n",
    "from data.data_loader import create_binarizer, get_accents_counts\n",
    "from utils import count_parameters\n",
    "from models.modules import MaskConv, SequenceWise, BatchRNN, InferenceBatchSoftmax, Lookahead, \\\n",
    "                    supported_rnns, supported_rnns_inv\n",
    "\n",
    "from tensorboardX import SummaryWriter\n",
    "\n",
    "import math\n",
    "\n",
    "from torch.utils.data import DataLoader, Dataset\n",
    "from decoder import GreedyDecoder, BeamCTCDecoder\n",
    "\n",
    "param = parameters.get_parameters(dev=DEV, epochs=EPOCHS, us_en=False)"
   ]
  },
  {
   "cell_type": "code",
   "execution_count": 3,
   "metadata": {},
   "outputs": [],
   "source": [
    "def make_accent_dict(manifest_path):\n",
    "    accent_dict = {}\n",
    "    class_dict = {}\n",
    "    with open(manifest_path) as f:\n",
    "        for l in f:\n",
    "            wav, txt, acc = l.split(',')\n",
    "            num = extract_num(wav)\n",
    "            accent = acc.strip()\n",
    "            if accent not in class_dict:\n",
    "                new_key = 0 if (len(class_dict) == 0) else max(class_dict.values()) + 1\n",
    "                class_dict[accent] = new_key\n",
    "            accent_dict[num] = class_dict[accent]\n",
    "    return accent_dict, {v: k for k, v in class_dict.items()}\n",
    "\n",
    "def val_cnts(list_):\n",
    "    return pd.Series(list_).value_counts()\n",
    "\n",
    "def extract_num (s):\n",
    "    return ''.join([c if c.isdigit() else '' for c in s])\n",
    "\n",
    "def ids_list(manifest):\n",
    "    ids = []\n",
    "    with open(manifest) as f:\n",
    "        for l in f:\n",
    "            s = l.split('/')\n",
    "            ids.append(f'{s[3]}-{s[5].split(\".\")[0]}')"
   ]
  },
  {
   "cell_type": "code",
   "execution_count": 4,
   "metadata": {},
   "outputs": [],
   "source": [
    "class AccentClassifier(nn.Module):\n",
    "    def __init__(self,\n",
    "                 input_size,\n",
    "                 num_classes,\n",
    "                 rnn_type,\n",
    "                 hidden_size,\n",
    "                 bn_size,\n",
    "                 DEBUG = False,):\n",
    "        \n",
    "        super(AccentClassifier, self).__init__()\n",
    "        \n",
    "        self.hidden_size = hidden_size\n",
    "\n",
    "        self._DEBUG = DEBUG\n",
    "        \n",
    "        self.rnn = rnn_type(input_size, hidden_size, 2, \n",
    "                            bidirectional=True, \n",
    "                            batch_first=True)\n",
    "\n",
    "#         self.rnn = BatchRNN(input_size, \n",
    "#                             hidden_size,\n",
    "#                             rnn_type=rnn_type,bidirectional=True,\n",
    "#                             batch_norm=True)\n",
    "        \n",
    "        self.bn = nn.Sequential(\n",
    "            nn.BatchNorm1d(hidden_size * 2),\n",
    "            nn.Linear(hidden_size * 2, 1024),\n",
    "            nn.ReLU(),\n",
    "            nn.BatchNorm1d(1024),\n",
    "            nn.Linear(1024, bn_size),\n",
    "            nn.ReLU(),\n",
    "        )\n",
    "            \n",
    "        self.fc = nn.Sequential(\n",
    "            nn.BatchNorm1d(bn_size),\n",
    "            nn.Linear(bn_size, num_classes),\n",
    "            nn.ReLU(),\n",
    "        )\n",
    "        \n",
    "        self.softmax = nn.Softmax(dim=1)\n",
    "\n",
    "    def forward(self, x, lens):\n",
    "        if self._DEBUG:\n",
    "            print('input x', x.size())\n",
    "\n",
    "        x = nn.utils.rnn.pack_padded_sequence(x, lens, batch_first=True)\n",
    "        x, __ = self.rnn(x)\n",
    "        x, lens = nn.utils.rnn.pad_packed_sequence(x, batch_first=True)\n",
    "        \n",
    "        if self._DEBUG:\n",
    "            print('after rnn', x.size())\n",
    "#        \n",
    "#         x = x.view(x.size(0), x.size(1), 2, self.hidden_size)\n",
    "        \n",
    "#         if self._DEBUG:\n",
    "#             print('after view', x.size())\n",
    "            \n",
    "        x = x.mean(dim=1)\n",
    "        \n",
    "        if self._DEBUG:\n",
    "            print('after mean', x.size())\n",
    "            \n",
    "        x = self.bn(x)\n",
    "        bn = x\n",
    "        \n",
    "        if self._DEBUG:\n",
    "            print('after bn', x.size())\n",
    "\n",
    "        x = self.fc(x)\n",
    "        \n",
    "        if self._DEBUG:\n",
    "            print('after fc', x.size())\n",
    "            \n",
    "        x = self.softmax(x)\n",
    "        \n",
    "        if self._DEBUG:\n",
    "            print('after softmax', x.size())\n",
    "        return x, bn"
   ]
  },
  {
   "cell_type": "code",
   "execution_count": 5,
   "metadata": {},
   "outputs": [
    {
     "data": {
      "text/plain": [
       "AccentClassifier(\n",
       "  (rnn): GRU(40, 800, num_layers=2, batch_first=True, bidirectional=True)\n",
       "  (bn): Sequential(\n",
       "    (0): BatchNorm1d(1600, eps=1e-05, momentum=0.1, affine=True, track_running_stats=True)\n",
       "    (1): Linear(in_features=1600, out_features=1024, bias=True)\n",
       "    (2): ReLU()\n",
       "    (3): BatchNorm1d(1024, eps=1e-05, momentum=0.1, affine=True, track_running_stats=True)\n",
       "    (4): Linear(in_features=1024, out_features=100, bias=True)\n",
       "    (5): ReLU()\n",
       "  )\n",
       "  (fc): Sequential(\n",
       "    (0): BatchNorm1d(100, eps=1e-05, momentum=0.1, affine=True, track_running_stats=True)\n",
       "    (1): Linear(in_features=100, out_features=4, bias=True)\n",
       "    (2): ReLU()\n",
       "  )\n",
       "  (softmax): Softmax()\n",
       ")"
      ]
     },
     "execution_count": 5,
     "metadata": {},
     "output_type": "execute_result"
    }
   ],
   "source": [
    "accent_id_dict, accent_dict = make_accent_dict(param['train_manifest'])\n",
    "\n",
    "embedder = AccentClassifier(input_size=40, \n",
    "                         num_classes=len(accent_dict),\n",
    "                         bn_size=100,\n",
    "                         rnn_type=param['rnn_type'],\n",
    "                         hidden_size=param['rnn_hidden_size'],\n",
    "                         DEBUG=DEBUG)\n",
    "embedder.cuda()\n",
    "\n",
    "embedder.state_dict = torch.load(\"saved/03_nbk_sd_<class 'torch.nn.modules.rnn.GRU'>_hidden-800_bn-100.pt\")\n",
    "embedder.eval()"
   ]
  },
  {
   "cell_type": "code",
   "execution_count": 6,
   "metadata": {},
   "outputs": [],
   "source": [
    "from multiprocessing import Pool\n",
    "from os import listdir, path"
   ]
  },
  {
   "cell_type": "code",
   "execution_count": 11,
   "metadata": {},
   "outputs": [],
   "source": [
    "type_ = 'train'\n",
    "len_ = 195780 # test 3998; dev 4079, train 195_780\n",
    "source_dir = Path(f'../data/CommonVoice_dataset/kaldi/{type_}-norm')\n",
    "target_dir = Path(f'../data/CommonVoice_dataset/new_embeddings/{type_}')"
   ]
  },
  {
   "cell_type": "code",
   "execution_count": 8,
   "metadata": {},
   "outputs": [
    {
     "name": "stdout",
     "output_type": "stream",
     "text": [
      "CPU times: user 6.8 ms, sys: 3.39 ms, total: 10.2 ms\n",
      "Wall time: 9.89 ms\n"
     ]
    }
   ],
   "source": [
    "%%time\n",
    "s = set([d.name for d in source_dir.iterdir()])\n",
    "t = set([d.name for d in target_dir.iterdir()])"
   ]
  },
  {
   "cell_type": "code",
   "execution_count": 9,
   "metadata": {},
   "outputs": [],
   "source": [
    "remains = s-t"
   ]
  },
  {
   "cell_type": "code",
   "execution_count": 10,
   "metadata": {},
   "outputs": [
    {
     "data": {
      "text/plain": [
       "0"
      ]
     },
     "execution_count": 10,
     "metadata": {},
     "output_type": "execute_result"
    }
   ],
   "source": [
    "len(remains)"
   ]
  },
  {
   "cell_type": "code",
   "execution_count": 13,
   "metadata": {},
   "outputs": [],
   "source": [
    "faulty = source_dir / 'cv-valid-train-sample-095095'\n",
    "\n",
    "with open(faulty, 'r') as f:\n",
    "    for l in f:\n",
    "        a = torch.tensor(eval(l))\n",
    "        b = a.view(1, a.size(0), a.size(1))\n",
    "        b = b.cuda()\n",
    "        __, emb = embedder(b, [b.size(1)])\n",
    "    target = target_dir / faulty.stem\n",
    "    torch.save(emb, target)"
   ]
  },
  {
   "cell_type": "code",
   "execution_count": 18,
   "metadata": {},
   "outputs": [
    {
     "data": {
      "application/vnd.jupyter.widget-view+json": {
       "model_id": "3021082c04e64e87af66e6083852a6e5",
       "version_major": 2,
       "version_minor": 0
      },
      "text/plain": [
       "HBox(children=(IntProgress(value=0, max=3995), HTML(value='')))"
      ]
     },
     "metadata": {},
     "output_type": "display_data"
    },
    {
     "name": "stdout",
     "output_type": "stream",
     "text": [
      "\n"
     ]
    }
   ],
   "source": [
    "for file_n in tqdm(remains):\n",
    "    file = source_dir / file_n\n",
    "    try:\n",
    "        with open(file, 'r') as f:\n",
    "            for l in f:\n",
    "                a = torch.tensor(eval(l))\n",
    "                b = a.view(1, a.size(0), a.size(1))\n",
    "                b = b.cuda()\n",
    "                __, emb = embedder(b, [b.size(1)])\n",
    "            target = target_dir / file.stem\n",
    "            torch.save(emb, target)\n",
    "    except:\n",
    "        print('error with ', file)"
   ]
  },
  {
   "cell_type": "code",
   "execution_count": null,
   "metadata": {},
   "outputs": [
    {
     "data": {
      "application/vnd.jupyter.widget-view+json": {
       "model_id": "974ac06902b74049884056b055ee86fe",
       "version_major": 2,
       "version_minor": 0
      },
      "text/plain": [
       "HBox(children=(IntProgress(value=0, max=3998), HTML(value='')))"
      ]
     },
     "metadata": {},
     "output_type": "display_data"
    },
    {
     "name": "stdout",
     "output_type": "stream",
     "text": [
      "error with  ../data/CommonVoice_dataset/kaldi/test-norm/cv-valid-test-sample-002658\n"
     ]
    }
   ],
   "source": [
    "\n",
    "\n",
    "# types = ['test', 'dev']\n",
    "# lens = [3998, 4079]\n",
    "\n",
    "# for type_, len_ in zip(types, lens):\n",
    "#     source_dir = Path(f'../data/CommonVoice_dataset/kaldi/{type_}-norm')\n",
    "#     target_dir = Path(f'../data/CommonVoice_dataset/new_embeddings/{type_}')\n",
    "\n",
    "#     for file in tqdm(source_dir.iterdir(), total=len_):\n",
    "#         try:\n",
    "#             with open(file, 'r') as f:\n",
    "#                 for l in f:\n",
    "#                     a = torch.tensor(eval(l))\n",
    "#                     b = a.view(1, a.size(0), a.size(1))\n",
    "#                     __, emb = embedder(b, [b.size(1)])\n",
    "#                 target = target_dir / file.stem\n",
    "#                 torch.save(emb, target)\n",
    "#         except:\n",
    "#             print('error with ', file)"
   ]
  },
  {
   "cell_type": "code",
   "execution_count": 17,
   "metadata": {},
   "outputs": [],
   "source": [
    "# def process_file(file):\n",
    "#     print(file)\n",
    "#     with open(file, 'r') as f:\n",
    "#         for l in f:\n",
    "#             a = torch.tensor(eval(l))\n",
    "#             b = a.view(1, a.size(0), a.size(1))\n",
    "#             global embedder\n",
    "#             __, emb = embedder(b, [b.size(1)])\n",
    "#     target = target_dir / file.name\n",
    "#     torch.save(emb, target)"
   ]
  },
  {
   "cell_type": "code",
   "execution_count": null,
   "metadata": {},
   "outputs": [],
   "source": [
    "# %%time\n",
    "# p = Pool(12)\n",
    "# p.map(process_file, source_dir.iterdir())"
   ]
  },
  {
   "cell_type": "code",
   "execution_count": null,
   "metadata": {},
   "outputs": [],
   "source": []
  }
 ],
 "metadata": {
  "kernelspec": {
   "display_name": "Python 3",
   "language": "python",
   "name": "python3"
  },
  "language_info": {
   "codemirror_mode": {
    "name": "ipython",
    "version": 3
   },
   "file_extension": ".py",
   "mimetype": "text/x-python",
   "name": "python",
   "nbconvert_exporter": "python",
   "pygments_lexer": "ipython3",
   "version": "3.6.8"
  }
 },
 "nbformat": 4,
 "nbformat_minor": 2
}
