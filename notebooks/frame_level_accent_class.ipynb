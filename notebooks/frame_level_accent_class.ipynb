{
 "cells": [
  {
   "cell_type": "markdown",
   "metadata": {},
   "source": [
    "# Accent classification with average pooling"
   ]
  },
  {
   "cell_type": "code",
   "execution_count": 70,
   "metadata": {},
   "outputs": [],
   "source": [
    "DEV = True\n",
    "EPOCHS = 1\n",
    "\n",
    "DEBUG = False\n",
    "FAKE_DATA = False"
   ]
  },
  {
   "cell_type": "code",
   "execution_count": 71,
   "metadata": {},
   "outputs": [],
   "source": [
    "# autoreloads\n",
    "%reload_ext autoreload\n",
    "%autoreload 1\n",
    "%aimport parameters\n",
    "\n",
    "# Allows to load modules from parent directory\n",
    "from time import time\n",
    "import inspect, sys\n",
    "from os.path import dirname, abspath\n",
    "sys.path.append(dirname(dirname(abspath(inspect.getfile(inspect.currentframe())))))\n",
    "\n",
    "from pathlib import Path\n",
    "from os import makedirs\n",
    "\n",
    "#from models.accent_classifier import AccentClassifier\n",
    "\n",
    "from tqdm import tqdm_notebook as tqdm\n",
    "\n",
    "from torch.nn.modules import CrossEntropyLoss\n",
    "from torch.optim import Adam\n",
    "from torch.nn.utils import clip_grad_norm_\n",
    "\n",
    "import numpy as np\n",
    "import pandas as pd\n",
    "\n",
    "from data.data_loader import create_binarizer, get_accents_counts\n",
    "from data.data_loader import SpectrogramAccentDataset, BucketingSampler, AudioDataLoader\n",
    "from utils import count_parameters, Timer\n",
    "\n",
    "from tensorboardX import SummaryWriter"
   ]
  },
  {
   "cell_type": "code",
   "execution_count": 72,
   "metadata": {},
   "outputs": [],
   "source": [
    "samples = []\n",
    "import math\n",
    "from collections import OrderedDict\n",
    "\n",
    "import torch\n",
    "import torch.nn as nn\n",
    "import torch.nn.functional as F\n",
    "from torch.nn.parameter import Parameter\n",
    "from torch.autograd import Variable\n",
    "\n",
    "from models.modules import MaskConv, SequenceWise, BatchRNN, InferenceBatchSoftmax, \\\n",
    "                    supported_rnns, supported_rnns_inv\n",
    "\n",
    "class AccentClassifier(nn.Module):\n",
    "    def __init__(self,\n",
    "                 labels,\n",
    "                 audio_conf, \n",
    "                 hidden_size,\n",
    "                 rnn_type=nn.GRU,\n",
    "                 DEBUG = False, \n",
    "                 clip=700):\n",
    "        \n",
    "        super(AccentClassifier, self).__init__()\n",
    "        \n",
    "        self._DEBUG = DEBUG\n",
    "\n",
    "        # metadata\n",
    "        self._audio_conf = audio_conf\n",
    "        self._labels = labels\n",
    "        self._num_classes = len(labels)\n",
    "        self._clip = clip\n",
    "        self._hidden_size = hidden_size\n",
    "        \n",
    "        sample_rate = self._audio_conf.get(\"sample_rate\", 16000)\n",
    "        window_size = self._audio_conf.get(\"window_size\", 0.02)\n",
    "\n",
    "        self.conv = nn.Sequential(\n",
    "            nn.Conv1d(1, 32, kernel_size=3, stride=1, padding=1),\n",
    "            nn.BatchNorm1d(32),\n",
    "            nn.Hardtanh(0, 20, inplace=True),\n",
    "            nn.MaxPool1d(4),\n",
    "            nn.Conv1d(32, 32, kernel_size=3, stride=1, padding=1),\n",
    "            nn.BatchNorm1d(32),\n",
    "            nn.Hardtanh(0, 20, inplace=True),\n",
    "            nn.MaxPool1d(4)\n",
    "        )\n",
    "        \n",
    "        conv_output = 320\n",
    "        \n",
    "        self.fc = nn.Sequential(\n",
    "            nn.Linear(conv_output, 128),\n",
    "            nn.LeakyReLU(),\n",
    "            nn.Linear(128, self._num_classes),\n",
    "            nn.LeakyReLU(),\n",
    "        )\n",
    "        \n",
    "        #self.avgpool = nn.AvgPool1d(161)\n",
    "        \n",
    "        self.sigmoid = nn.Sigmoid()\n",
    "        \n",
    "\n",
    "    def forward(self, x, lengths):\n",
    "        if self._DEBUG:\n",
    "            print('Start forward')\n",
    "            print('x size:', x.size())\n",
    "            \n",
    "        x = x.view(x.size(0), 1, x.size(1))\n",
    "        x = self.conv(x)\n",
    "        \n",
    "        if self._DEBUG:\n",
    "            print('after conv:', x.size())\n",
    "            \n",
    "        x = x.view(x.size(0), x.size(1) * x.size(2))\n",
    "        x = self.fc(x)\n",
    "        \n",
    "        if self._DEBUG:\n",
    "            print('after fully co:', x.size())\n",
    "            \n",
    "            \n",
    "        x = self.sigmoid(x)\n",
    "            \n",
    "        if self._DEBUG:\n",
    "            print('after sigmoid:', x.size())\n",
    "            \n",
    "        return x"
   ]
  },
  {
   "cell_type": "markdown",
   "metadata": {},
   "source": [
    "## Utilities"
   ]
  },
  {
   "cell_type": "code",
   "execution_count": 73,
   "metadata": {},
   "outputs": [],
   "source": [
    "# Configure experiments by directly changing the values in parameters.py\n",
    "param = parameters.get_parameters(dev=DEV, epochs=EPOCHS)"
   ]
  },
  {
   "cell_type": "code",
   "execution_count": 74,
   "metadata": {},
   "outputs": [],
   "source": [
    "import time\n",
    "def now():\n",
    "    localtime   = time.localtime()\n",
    "    timeString  = time.strftime(\"%Y-%m-%d_%Hh%M:%S\", localtime)\n",
    "    return timeString"
   ]
  },
  {
   "cell_type": "code",
   "execution_count": 75,
   "metadata": {},
   "outputs": [],
   "source": [
    "# Tensorboard\n",
    "exp_name = f'__tmp__{now()}'\n",
    "tb_path = Path(param['tensorboard_dir']) / exp_name\n",
    "makedirs(tb_path, exist_ok=True)\n",
    "tb_writer = SummaryWriter(tb_path)"
   ]
  },
  {
   "cell_type": "code",
   "execution_count": 76,
   "metadata": {},
   "outputs": [],
   "source": [
    "def process_data(data):\n",
    "    inputs, targets, input_percentages, target_sizes, target_accents = data\n",
    "    if len(target_accents[0]) > 1:\n",
    "        target_accents = np.argmax(target_accents, axis=1)\n",
    "    #else:\n",
    "        #target_accents = target_accents.view(target_accents.size(0))\n",
    "    target_accents = target_accents.view(target_accents.size(0))\n",
    "        \n",
    "    if param['cuda']:\n",
    "        inputs = inputs.cuda()\n",
    "        target_accents = target_accents.cuda()\n",
    "    \n",
    "    input_sizes = input_percentages.mul_(int(inputs.size(3))).int()     \n",
    "    \n",
    "    if FAKE_DATA:\n",
    "        inputs = torch.rand_like(inputs)\n",
    "        for i, t in enumerate(target_accents):\n",
    "            adj = (t.item() - 0.5) * 0.8\n",
    "            inputs[i] = inputs[i] + adj\n",
    "            if input_sizes[i] < inputs[i].size(2):\n",
    "                z = torch.zeros(torch.Size((inputs[i].size(0), inputs[i].size(1), inputs[i].size(2) - input_sizes[i])))\n",
    "                z = z.cuda() if inputs.is_cuda else z\n",
    "                inputs[i] = torch.cat((inputs[i][:, :, :input_sizes[i]], z), 2)\n",
    "        \n",
    "        \n",
    "    new_tar = target_accents.view(target_accents.size(0), 1).expand(target_accents.size(0), inputs.size(3)).contiguous()\n",
    "    target_accents = new_tar.view(-1)    \n",
    "    \n",
    "    inputs = inputs.transpose(1, 3).contiguous()\n",
    "    inputs = inputs.view(inputs.size(0) * inputs.size(1), inputs.size(2))\n",
    "    \n",
    "    \n",
    "    return inputs, target_accents, input_sizes"
   ]
  },
  {
   "cell_type": "markdown",
   "metadata": {},
   "source": [
    "## Data Loading"
   ]
  },
  {
   "cell_type": "code",
   "execution_count": 77,
   "metadata": {},
   "outputs": [],
   "source": [
    "audio_conf = {'sample_rate': param['sample_rate'],\n",
    "                'window_size': param['window_size'],\n",
    "                'window_stride': param['window_stride'],\n",
    "                'window': param['window'],\n",
    "                'noise_dir': param['noise_dir'],\n",
    "                'noise_prob': param['noise_prob'],\n",
    "                'noise_levels': (param['noise_min'], param['noise_max'])}"
   ]
  },
  {
   "cell_type": "code",
   "execution_count": 78,
   "metadata": {},
   "outputs": [],
   "source": [
    "accent_binarizer = create_binarizer(param['train_manifest'])\n",
    "labels = accent_binarizer.classes_"
   ]
  },
  {
   "cell_type": "code",
   "execution_count": 79,
   "metadata": {},
   "outputs": [],
   "source": [
    "train_dataset = SpectrogramAccentDataset(audio_conf=audio_conf, \n",
    "                                        manifest_filepath=param['train_manifest'], \n",
    "                                        labels=labels,\n",
    "                                        normalize=True, \n",
    "                                        augment=param['augment'], \n",
    "                                        accent_binarizer=accent_binarizer,\n",
    "                                        kaldi=False)\n",
    "\n",
    "train_sampler = BucketingSampler(train_dataset, batch_size=param['batch_size'])\n",
    "\n",
    "train_loader = AudioDataLoader(train_dataset,\n",
    "                                num_workers=param['num_worker'], \n",
    "                                batch_sampler=train_sampler)"
   ]
  },
  {
   "cell_type": "code",
   "execution_count": 80,
   "metadata": {},
   "outputs": [],
   "source": [
    "test_dataset = SpectrogramAccentDataset(audio_conf=audio_conf, \n",
    "                                        manifest_filepath=param['test_manifest'], \n",
    "                                        labels=labels,\n",
    "                                        normalize=True, \n",
    "                                        augment=False, \n",
    "                                        accent_binarizer=accent_binarizer,\n",
    "                                        kaldi=False)\n",
    "\n",
    "test_loader = AudioDataLoader(test_dataset,\n",
    "                                num_workers=param['num_worker'], \n",
    "                                batch_size=param['batch_size'])"
   ]
  },
  {
   "cell_type": "markdown",
   "metadata": {},
   "source": [
    "## Model initialization"
   ]
  },
  {
   "cell_type": "code",
   "execution_count": 81,
   "metadata": {},
   "outputs": [],
   "source": [
    "train_counts = get_accents_counts(param['train_manifest'])\n",
    "class_counts = [train_counts[c] / max(train_counts.values()) for c in accent_binarizer.classes_]\n",
    "weights = 1 / torch.tensor(class_counts)\n",
    "weights = torch.tensor([1. for __ in weights])"
   ]
  },
  {
   "cell_type": "code",
   "execution_count": 82,
   "metadata": {},
   "outputs": [
    {
     "name": "stdout",
     "output_type": "stream",
     "text": [
      "AccentClassifier(\n",
      "  (conv): Sequential(\n",
      "    (0): Conv1d(1, 32, kernel_size=(3,), stride=(1,), padding=(1,))\n",
      "    (1): BatchNorm1d(32, eps=1e-05, momentum=0.1, affine=True, track_running_stats=True)\n",
      "    (2): Hardtanh(min_val=0, max_val=20, inplace)\n",
      "    (3): MaxPool1d(kernel_size=4, stride=4, padding=0, dilation=1, ceil_mode=False)\n",
      "    (4): Conv1d(32, 32, kernel_size=(3,), stride=(1,), padding=(1,))\n",
      "    (5): BatchNorm1d(32, eps=1e-05, momentum=0.1, affine=True, track_running_stats=True)\n",
      "    (6): Hardtanh(min_val=0, max_val=20, inplace)\n",
      "    (7): MaxPool1d(kernel_size=4, stride=4, padding=0, dilation=1, ceil_mode=False)\n",
      "  )\n",
      "  (fc): Sequential(\n",
      "    (0): Linear(in_features=320, out_features=128, bias=True)\n",
      "    (1): LeakyReLU(negative_slope=0.01)\n",
      "    (2): Linear(in_features=128, out_features=2, bias=True)\n",
      "    (3): LeakyReLU(negative_slope=0.01)\n",
      "  )\n",
      "  (sigmoid): Sigmoid()\n",
      ")\n",
      "Model parameters counts: 44706\n"
     ]
    }
   ],
   "source": [
    "model = AccentClassifier(labels=labels, \n",
    "                         audio_conf=audio_conf, \n",
    "                         hidden_size=param['rnn_hidden_size'],  \n",
    "                         rnn_type=param['rnn_type'], \n",
    "                         DEBUG=DEBUG)\n",
    "if param['cuda']:\n",
    "    model.cuda()\n",
    "    weights = weights.cuda()\n",
    "    \n",
    "criterion = CrossEntropyLoss()\n",
    "\n",
    "optimizer = Adam(model.parameters(), lr=param['lr'][0])\n",
    "\n",
    "print(model)\n",
    "print('Model parameters counts:', count_parameters(model))"
   ]
  },
  {
   "cell_type": "markdown",
   "metadata": {},
   "source": [
    "## Training"
   ]
  },
  {
   "cell_type": "code",
   "execution_count": 83,
   "metadata": {},
   "outputs": [
    {
     "name": "stdout",
     "output_type": "stream",
     "text": [
      "\n",
      "## EPOCH 1 ##\n",
      "Training:\n"
     ]
    },
    {
     "data": {
      "application/vnd.jupyter.widget-view+json": {
       "model_id": "00177274fca744ea9b89bc37fe56bdcc",
       "version_major": 2,
       "version_minor": 0
      },
      "text/plain": [
       "HBox(children=(IntProgress(value=0, max=33), HTML(value='')))"
      ]
     },
     "metadata": {},
     "output_type": "display_data"
    },
    {
     "name": "stdout",
     "output_type": "stream",
     "text": [
      "\n",
      "Epoch 1 average loss: 0.694\n",
      "Testing:\n"
     ]
    },
    {
     "data": {
      "application/vnd.jupyter.widget-view+json": {
       "model_id": "71561ddda4d946fd989c713dbddcfed5",
       "version_major": 2,
       "version_minor": 0
      },
      "text/plain": [
       "HBox(children=(IntProgress(value=0, max=33), HTML(value='')))"
      ]
     },
     "metadata": {},
     "output_type": "display_data"
    },
    {
     "name": "stdout",
     "output_type": "stream",
     "text": [
      "\n",
      "Accent classification accuracy: 50.94%\n",
      "Average validation loss: 0.690\n",
      "New best model found.\n"
     ]
    }
   ],
   "source": [
    "SILENT = True\n",
    "    \n",
    "t = Timer()\n",
    "\n",
    "best_model = None\n",
    "prev_acc = 0\n",
    "## Train\n",
    "for epoch in range(1, param['epochs'] + 1):\n",
    "    print(f'\\n## EPOCH {epoch} ##')\n",
    "    print(f'Training:')\n",
    "    model.train()\n",
    "\n",
    "    # train\n",
    "    epoch_losses = []\n",
    "    t.add(f'EPOCH {epoch}')\n",
    "    for i, data in tqdm(enumerate(train_loader), total=len(train_loader)):\n",
    "        t.add('Start loop')\n",
    "        inputs, target_accents, input_sizes = process_data(data)\n",
    "        \n",
    "        # Forward pass\n",
    "        t.add('Process data')\n",
    "        out = model(inputs, input_sizes)\n",
    "        t.add('Forward')\n",
    "        \n",
    "        \n",
    "#         new_out = out.view(out.size(0) * out.size(1), out.size(2))\n",
    "#         new_tar = target_accents.view(target_accents.size(0), 1).expand(target_accents.size(0), 161).contiguous()\n",
    "#         new_tar = new_tar.view(-1)\n",
    "#         loss = criterion(new_out, new_tar)\n",
    "        \n",
    "        loss = criterion(out, target_accents)\n",
    "        t.add('Criterion')\n",
    "        epoch_losses.append(loss)\n",
    "        \n",
    "        if not SILENT:\n",
    "            print(f'Iteration {i+1}/{len(train_loader):<4}loss: {loss:0.3f}')\n",
    "        \n",
    "        # Gradient\n",
    "        optimizer.zero_grad()\n",
    "        loss.backward()\n",
    "        t.add('Backward')\n",
    "        \n",
    "        #clip_grad_norm_(model.parameters(), param['max_norm'])\n",
    "        optimizer.step()\n",
    "\n",
    "        t.add('End loop')\n",
    "    t.add(f'END EPOCH {epoch}')\n",
    "    t.reset_time()\n",
    "    \n",
    "    epoch_loss = sum(epoch_losses) / len(train_loader)\n",
    "    tb_writer.add_scalar('stats/train_loss', epoch_loss, epoch)\n",
    "    print(f'Epoch {epoch} average loss: {epoch_loss:0.3f}')\n",
    "        \n",
    "    # validate\n",
    "    print(f'Testing:')\n",
    "    model.eval()\n",
    "    acc = 0\n",
    "    tot = 0\n",
    "    with torch.no_grad():\n",
    "        epoch_val_losses = []\n",
    "        for data in tqdm(test_loader, total=len(test_loader)):\n",
    "            inputs, target_accents, input_sizes = process_data(data) \n",
    "            out = model(inputs, input_sizes)           \n",
    "            \n",
    "            val_loss = criterion(out, target_accents)\n",
    "            epoch_val_losses.append(val_loss)\n",
    "            \n",
    "            for x in range(len(target_accents)):\n",
    "                ###\n",
    "#                 cnt = 0\n",
    "#                 for o in out[x]:\n",
    "#                     cnt += np.argmax(o)\n",
    "#                 accent_out = round(cnt.item() / len(out[x]))\n",
    "                ###\n",
    "                \n",
    "                accent_out = np.argmax(out[x])\n",
    "                accent_target = target_accents[x]\n",
    "\n",
    "                if accent_out == accent_target.item():\n",
    "                    acc += 1\n",
    "                tot += 1\n",
    "\n",
    "        acc = acc / tot * 100\n",
    "        epoch_val_loss = sum(epoch_val_losses) / len(test_loader)\n",
    "        \n",
    "    tb_writer.add_scalar('stats/accuracy', acc, epoch)\n",
    "    print(f'Accent classification accuracy: {acc:0.2f}%')\n",
    "    \n",
    "    tb_writer.add_scalar('stats/val_loss', epoch_val_loss, epoch)\n",
    "    print(f'Average validation loss: {val_loss:0.3f}')\n",
    "    \n",
    "    if acc > prev_acc:\n",
    "        print('New best model found.')\n",
    "        best_model = model\n",
    "        prev_acc = acc"
   ]
  },
  {
   "cell_type": "markdown",
   "metadata": {},
   "source": [
    "## Tests"
   ]
  },
  {
   "cell_type": "code",
   "execution_count": 67,
   "metadata": {},
   "outputs": [],
   "source": [
    "import itertools\n",
    "import numpy as np\n",
    "import matplotlib.pyplot as plt\n",
    "\n",
    "from sklearn import svm, datasets\n",
    "from sklearn.model_selection import train_test_split\n",
    "from sklearn.metrics import confusion_matrix\n",
    "\n",
    "def plot_confusion_matrix(cm, classes,\n",
    "                          normalize=False,\n",
    "                          title='Confusion matrix',\n",
    "                          cmap=plt.cm.Blues):\n",
    "    \"\"\"\n",
    "    This function prints and plots the confusion matrix.\n",
    "    Normalization can be applied by setting `normalize=True`.\n",
    "    \"\"\"\n",
    "    np.set_printoptions(precision=2)\n",
    "    plt.figure()\n",
    "    plt.imshow(cm, interpolation='nearest', cmap=cmap)\n",
    "    plt.title(title)\n",
    "    plt.colorbar()\n",
    "    tick_marks = np.arange(len(classes))\n",
    "    plt.xticks(tick_marks, classes, rotation=45)\n",
    "    plt.yticks(tick_marks, classes)\n",
    "\n",
    "    fmt = '.2f' if normalize else 'd'\n",
    "    thresh = cm.max() / 2.\n",
    "    for i, j in itertools.product(range(cm.shape[0]), range(cm.shape[1])):\n",
    "        plt.text(j, i, format(cm[i, j], fmt),\n",
    "                 horizontalalignment=\"center\",\n",
    "                 color=\"white\" if cm[i, j] > thresh else \"black\")\n",
    "\n",
    "    plt.ylabel('True label')\n",
    "    plt.xlabel('Predicted label')\n",
    "    plt.tight_layout()\n",
    "    plt.show()"
   ]
  },
  {
   "cell_type": "code",
   "execution_count": 68,
   "metadata": {},
   "outputs": [
    {
     "data": {
      "application/vnd.jupyter.widget-view+json": {
       "model_id": "b3c9a5e92d1d43c3a3a63f2b2f69b8ae",
       "version_major": 2,
       "version_minor": 0
      },
      "text/plain": [
       "HBox(children=(IntProgress(value=0, max=1), HTML(value='')))"
      ]
     },
     "metadata": {},
     "output_type": "display_data"
    },
    {
     "name": "stdout",
     "output_type": "stream",
     "text": [
      "\n"
     ]
    }
   ],
   "source": [
    "loader = test_loader\n",
    "\n",
    "y_true, y_pred = [], []\n",
    "with torch.no_grad():\n",
    "    for data in tqdm(loader, total=len(loader)):\n",
    "        inputs, target_accents, input_sizes = process_data(data)\n",
    "        out = best_model(inputs, input_sizes)\n",
    "        \n",
    "        for x in range(len(target_accents)):\n",
    "            y_true.append(target_accents[x])\n",
    "            y_pred.append(np.argmax(out[x]))\n",
    "            \n",
    "y_true_labels = [labels[int(i)] for i in y_true]\n",
    "y_pred_labels = [labels[i] for i in y_pred]\n",
    "\n",
    "cnf_mat = confusion_matrix(y_true_labels, y_pred_labels)"
   ]
  },
  {
   "cell_type": "markdown",
   "metadata": {},
   "source": [
    "from sklearn.metrics import confusion_matrix"
   ]
  },
  {
   "cell_type": "code",
   "execution_count": 69,
   "metadata": {},
   "outputs": [
    {
     "data": {
      "image/png": "[encoded data removed]",
      "text/plain": [
       "<Figure size 432x288 with 2 Axes>"
      ]
     },
     "metadata": {},
     "output_type": "display_data"
    }
   ],
   "source": [
    "plot_confusion_matrix(cnf_mat, classes=labels)"
   ]
  },
  {
   "cell_type": "code",
   "execution_count": 217,
   "metadata": {},
   "outputs": [
    {
     "name": "stdout",
     "output_type": "stream",
     "text": [
      "True counts\n",
      "england    625\n",
      "us         625\n",
      "dtype: int64\n",
      "\n",
      "Pred counts\n",
      "england    1250\n",
      "dtype: int64\n",
      "\n",
      "Deviation from center: 100.00%\n"
     ]
    }
   ],
   "source": [
    "print('True counts')\n",
    "print(pd.Series(y_true_labels).value_counts())\n",
    "print()\n",
    "print('Pred counts')\n",
    "pred_cnts = pd.Series(y_pred_labels).value_counts()\n",
    "print(pred_cnts)\n",
    "print()\n",
    "print(f'Deviation from center: {abs(0.5 - pred_cnts[0]/len(y_pred))*200:.2f}%')"
   ]
  },
  {
   "cell_type": "code",
   "execution_count": 218,
   "metadata": {},
   "outputs": [
    {
     "name": "stdout",
     "output_type": "stream",
     "text": [
      "             precision    recall  f1-score   support\n",
      "\n",
      "    england       0.50      1.00      0.67       625\n",
      "         us       0.00      0.00      0.00       625\n",
      "\n",
      "avg / total       0.25      0.50      0.33      1250\n",
      "\n"
     ]
    },
    {
     "name": "stderr",
     "output_type": "stream",
     "text": [
      "/home/thibault/anaconda3/lib/python3.6/site-packages/sklearn/metrics/classification.py:1135: UndefinedMetricWarning: Precision and F-score are ill-defined and being set to 0.0 in labels with no predicted samples.\n",
      "  'precision', 'predicted', average, warn_for)\n"
     ]
    }
   ],
   "source": [
    "from sklearn import metrics\n",
    "print(metrics.classification_report(y_true_labels, y_pred_labels))"
   ]
  },
  {
   "cell_type": "markdown",
   "metadata": {},
   "source": [
    "## Timer exploration"
   ]
  },
  {
   "cell_type": "code",
   "execution_count": 25,
   "metadata": {},
   "outputs": [
    {
     "data": {
      "text/html": [
       "<div>\n",
       "<style scoped>\n",
       "    .dataframe tbody tr th:only-of-type {\n",
       "        vertical-align: middle;\n",
       "    }\n",
       "\n",
       "    .dataframe tbody tr th {\n",
       "        vertical-align: top;\n",
       "    }\n",
       "\n",
       "    .dataframe thead th {\n",
       "        text-align: right;\n",
       "    }\n",
       "</style>\n",
       "<table border=\"1\" class=\"dataframe\">\n",
       "  <thead>\n",
       "    <tr style=\"text-align: right;\">\n",
       "      <th></th>\n",
       "      <th>Event</th>\n",
       "      <th>Relative</th>\n",
       "      <th>Absolute</th>\n",
       "    </tr>\n",
       "  </thead>\n",
       "  <tbody>\n",
       "    <tr>\n",
       "      <th>0</th>\n",
       "      <td>Start</td>\n",
       "      <td>0.000000</td>\n",
       "      <td>0.000000</td>\n",
       "    </tr>\n",
       "    <tr>\n",
       "      <th>1</th>\n",
       "      <td>EPOCH 1</td>\n",
       "      <td>0.000436</td>\n",
       "      <td>0.000436</td>\n",
       "    </tr>\n",
       "    <tr>\n",
       "      <th>2</th>\n",
       "      <td>Start loop</td>\n",
       "      <td>1.494065</td>\n",
       "      <td>1.494501</td>\n",
       "    </tr>\n",
       "    <tr>\n",
       "      <th>3</th>\n",
       "      <td>Forward</td>\n",
       "      <td>0.075975</td>\n",
       "      <td>1.570476</td>\n",
       "    </tr>\n",
       "    <tr>\n",
       "      <th>4</th>\n",
       "      <td>Criterion</td>\n",
       "      <td>0.000332</td>\n",
       "      <td>1.570807</td>\n",
       "    </tr>\n",
       "    <tr>\n",
       "      <th>5</th>\n",
       "      <td>Backward</td>\n",
       "      <td>0.002446</td>\n",
       "      <td>1.573253</td>\n",
       "    </tr>\n",
       "    <tr>\n",
       "      <th>6</th>\n",
       "      <td>End loop</td>\n",
       "      <td>0.134512</td>\n",
       "      <td>1.707765</td>\n",
       "    </tr>\n",
       "    <tr>\n",
       "      <th>7</th>\n",
       "      <td>Start loop</td>\n",
       "      <td>0.003862</td>\n",
       "      <td>1.711627</td>\n",
       "    </tr>\n",
       "    <tr>\n",
       "      <th>8</th>\n",
       "      <td>Forward</td>\n",
       "      <td>0.065375</td>\n",
       "      <td>1.777002</td>\n",
       "    </tr>\n",
       "    <tr>\n",
       "      <th>9</th>\n",
       "      <td>Criterion</td>\n",
       "      <td>0.000079</td>\n",
       "      <td>1.777082</td>\n",
       "    </tr>\n",
       "  </tbody>\n",
       "</table>\n",
       "</div>"
      ],
      "text/plain": [
       "        Event  Relative  Absolute\n",
       "0       Start  0.000000  0.000000\n",
       "1     EPOCH 1  0.000436  0.000436\n",
       "2  Start loop  1.494065  1.494501\n",
       "3     Forward  0.075975  1.570476\n",
       "4   Criterion  0.000332  1.570807\n",
       "5    Backward  0.002446  1.573253\n",
       "6    End loop  0.134512  1.707765\n",
       "7  Start loop  0.003862  1.711627\n",
       "8     Forward  0.065375  1.777002\n",
       "9   Criterion  0.000079  1.777082"
      ]
     },
     "execution_count": 25,
     "metadata": {},
     "output_type": "execute_result"
    }
   ],
   "source": [
    "events = pd.DataFrame(t.events)[['Event', 'Relative', 'Absolute']]\n",
    "events.head(10)"
   ]
  },
  {
   "cell_type": "code",
   "execution_count": 55,
   "metadata": {},
   "outputs": [
    {
     "data": {
      "text/html": [
       "<div>\n",
       "<style scoped>\n",
       "    .dataframe tbody tr th:only-of-type {\n",
       "        vertical-align: middle;\n",
       "    }\n",
       "\n",
       "    .dataframe tbody tr th {\n",
       "        vertical-align: top;\n",
       "    }\n",
       "\n",
       "    .dataframe thead th {\n",
       "        text-align: right;\n",
       "    }\n",
       "</style>\n",
       "<table border=\"1\" class=\"dataframe\">\n",
       "  <thead>\n",
       "    <tr style=\"text-align: right;\">\n",
       "      <th></th>\n",
       "      <th>Event</th>\n",
       "      <th>Relative</th>\n",
       "    </tr>\n",
       "  </thead>\n",
       "  <tbody>\n",
       "    <tr>\n",
       "      <th>0</th>\n",
       "      <td>Backward</td>\n",
       "      <td>11.760916</td>\n",
       "    </tr>\n",
       "    <tr>\n",
       "      <th>1</th>\n",
       "      <td>Criterion</td>\n",
       "      <td>0.716652</td>\n",
       "    </tr>\n",
       "    <tr>\n",
       "      <th>2</th>\n",
       "      <td>END EPOCH 1</td>\n",
       "      <td>0.003843</td>\n",
       "    </tr>\n",
       "    <tr>\n",
       "      <th>3</th>\n",
       "      <td>END EPOCH 10</td>\n",
       "      <td>0.003312</td>\n",
       "    </tr>\n",
       "    <tr>\n",
       "      <th>4</th>\n",
       "      <td>END EPOCH 2</td>\n",
       "      <td>0.003597</td>\n",
       "    </tr>\n",
       "    <tr>\n",
       "      <th>5</th>\n",
       "      <td>END EPOCH 3</td>\n",
       "      <td>0.003425</td>\n",
       "    </tr>\n",
       "    <tr>\n",
       "      <th>6</th>\n",
       "      <td>END EPOCH 4</td>\n",
       "      <td>0.003970</td>\n",
       "    </tr>\n",
       "    <tr>\n",
       "      <th>7</th>\n",
       "      <td>END EPOCH 5</td>\n",
       "      <td>0.003595</td>\n",
       "    </tr>\n",
       "    <tr>\n",
       "      <th>8</th>\n",
       "      <td>END EPOCH 6</td>\n",
       "      <td>0.002521</td>\n",
       "    </tr>\n",
       "    <tr>\n",
       "      <th>9</th>\n",
       "      <td>END EPOCH 7</td>\n",
       "      <td>0.003401</td>\n",
       "    </tr>\n",
       "    <tr>\n",
       "      <th>10</th>\n",
       "      <td>END EPOCH 8</td>\n",
       "      <td>0.003288</td>\n",
       "    </tr>\n",
       "    <tr>\n",
       "      <th>11</th>\n",
       "      <td>END EPOCH 9</td>\n",
       "      <td>0.003376</td>\n",
       "    </tr>\n",
       "    <tr>\n",
       "      <th>12</th>\n",
       "      <td>EPOCH 1</td>\n",
       "      <td>0.000436</td>\n",
       "    </tr>\n",
       "    <tr>\n",
       "      <th>13</th>\n",
       "      <td>EPOCH 10</td>\n",
       "      <td>4.070034</td>\n",
       "    </tr>\n",
       "    <tr>\n",
       "      <th>14</th>\n",
       "      <td>EPOCH 2</td>\n",
       "      <td>3.705642</td>\n",
       "    </tr>\n",
       "    <tr>\n",
       "      <th>15</th>\n",
       "      <td>EPOCH 3</td>\n",
       "      <td>3.973263</td>\n",
       "    </tr>\n",
       "    <tr>\n",
       "      <th>16</th>\n",
       "      <td>EPOCH 4</td>\n",
       "      <td>4.207866</td>\n",
       "    </tr>\n",
       "    <tr>\n",
       "      <th>17</th>\n",
       "      <td>EPOCH 5</td>\n",
       "      <td>4.076436</td>\n",
       "    </tr>\n",
       "    <tr>\n",
       "      <th>18</th>\n",
       "      <td>EPOCH 6</td>\n",
       "      <td>4.139190</td>\n",
       "    </tr>\n",
       "    <tr>\n",
       "      <th>19</th>\n",
       "      <td>EPOCH 7</td>\n",
       "      <td>4.057251</td>\n",
       "    </tr>\n",
       "    <tr>\n",
       "      <th>20</th>\n",
       "      <td>EPOCH 8</td>\n",
       "      <td>4.044169</td>\n",
       "    </tr>\n",
       "    <tr>\n",
       "      <th>21</th>\n",
       "      <td>EPOCH 9</td>\n",
       "      <td>4.071436</td>\n",
       "    </tr>\n",
       "    <tr>\n",
       "      <th>22</th>\n",
       "      <td>End loop</td>\n",
       "      <td>1215.725277</td>\n",
       "    </tr>\n",
       "    <tr>\n",
       "      <th>23</th>\n",
       "      <td>Forward</td>\n",
       "      <td>630.452336</td>\n",
       "    </tr>\n",
       "    <tr>\n",
       "      <th>24</th>\n",
       "      <td>Start</td>\n",
       "      <td>0.000000</td>\n",
       "    </tr>\n",
       "    <tr>\n",
       "      <th>25</th>\n",
       "      <td>Start loop</td>\n",
       "      <td>13338.061702</td>\n",
       "    </tr>\n",
       "    <tr>\n",
       "      <th>26</th>\n",
       "      <td>Timer reset</td>\n",
       "      <td>0.000000</td>\n",
       "    </tr>\n",
       "  </tbody>\n",
       "</table>\n",
       "</div>"
      ],
      "text/plain": [
       "           Event      Relative\n",
       "0       Backward     11.760916\n",
       "1      Criterion      0.716652\n",
       "2    END EPOCH 1      0.003843\n",
       "3   END EPOCH 10      0.003312\n",
       "4    END EPOCH 2      0.003597\n",
       "5    END EPOCH 3      0.003425\n",
       "6    END EPOCH 4      0.003970\n",
       "7    END EPOCH 5      0.003595\n",
       "8    END EPOCH 6      0.002521\n",
       "9    END EPOCH 7      0.003401\n",
       "10   END EPOCH 8      0.003288\n",
       "11   END EPOCH 9      0.003376\n",
       "12       EPOCH 1      0.000436\n",
       "13      EPOCH 10      4.070034\n",
       "14       EPOCH 2      3.705642\n",
       "15       EPOCH 3      3.973263\n",
       "16       EPOCH 4      4.207866\n",
       "17       EPOCH 5      4.076436\n",
       "18       EPOCH 6      4.139190\n",
       "19       EPOCH 7      4.057251\n",
       "20       EPOCH 8      4.044169\n",
       "21       EPOCH 9      4.071436\n",
       "22      End loop   1215.725277\n",
       "23       Forward    630.452336\n",
       "24         Start      0.000000\n",
       "25    Start loop  13338.061702\n",
       "26   Timer reset      0.000000"
      ]
     },
     "execution_count": 55,
     "metadata": {},
     "output_type": "execute_result"
    }
   ],
   "source": [
    "df = events.groupby('Event').sum().reset_index()[['Event', 'Relative']]\n",
    "df"
   ]
  },
  {
   "cell_type": "code",
   "execution_count": 108,
   "metadata": {},
   "outputs": [
    {
     "data": {
      "application/vnd.jupyter.widget-view+json": {
       "model_id": "10dee29c51944bbeaa4896779e2a1f38",
       "version_major": 2,
       "version_minor": 0
      },
      "text/plain": [
       "HBox(children=(IntProgress(value=0, max=50031), HTML(value='')))"
      ]
     },
     "metadata": {},
     "output_type": "display_data"
    },
    {
     "name": "stdout",
     "output_type": "stream",
     "text": [
      "\n"
     ]
    }
   ],
   "source": [
    "dfs = []\n",
    "df = None\n",
    "for i, row in tqdm(events.iterrows(), total=len(events)):\n",
    "    if ('EPOCH' in row.Event) and ('END' not in row.Event):\n",
    "        if df is not None:\n",
    "            dfs.append(pd.DataFrame(df))\n",
    "        df = []\n",
    "    if df is not None:\n",
    "        df.append(row)\n",
    "else:\n",
    "    dfs.append(pd.DataFrame(df))"
   ]
  },
  {
   "cell_type": "code",
   "execution_count": 132,
   "metadata": {},
   "outputs": [],
   "source": [
    "dfs_sum = []\n",
    "for df in dfs:\n",
    "    df = df.groupby('Event').sum().reset_index()\n",
    "    epoch = df[df['Event'].apply(lambda e: ('EPOCH' in e) and ('END' not in e))].Event.iloc[0].split()[1]\n",
    "    df = df[['Event', 'Relative']]\n",
    "    df['epoch'] = epoch\n",
    "    df = df[df['Event'].apply(lambda e: ('EPOCH' not in e) and ('reset' not in e))]\n",
    "    dfs_sum.append(df)\n",
    "df_sum = pd.concat(dfs_sum)"
   ]
  },
  {
   "cell_type": "code",
   "execution_count": 133,
   "metadata": {},
   "outputs": [
    {
     "data": {
      "text/html": [
       "<div>\n",
       "<style scoped>\n",
       "    .dataframe tbody tr th:only-of-type {\n",
       "        vertical-align: middle;\n",
       "    }\n",
       "\n",
       "    .dataframe tbody tr th {\n",
       "        vertical-align: top;\n",
       "    }\n",
       "\n",
       "    .dataframe thead th {\n",
       "        text-align: right;\n",
       "    }\n",
       "</style>\n",
       "<table border=\"1\" class=\"dataframe\">\n",
       "  <thead>\n",
       "    <tr style=\"text-align: right;\">\n",
       "      <th></th>\n",
       "      <th>Event</th>\n",
       "      <th>Relative</th>\n",
       "      <th>epoch</th>\n",
       "    </tr>\n",
       "  </thead>\n",
       "  <tbody>\n",
       "    <tr>\n",
       "      <th>0</th>\n",
       "      <td>Backward</td>\n",
       "      <td>1.121399</td>\n",
       "      <td>1</td>\n",
       "    </tr>\n",
       "    <tr>\n",
       "      <th>1</th>\n",
       "      <td>Criterion</td>\n",
       "      <td>0.068291</td>\n",
       "      <td>1</td>\n",
       "    </tr>\n",
       "    <tr>\n",
       "      <th>4</th>\n",
       "      <td>End loop</td>\n",
       "      <td>121.760889</td>\n",
       "      <td>1</td>\n",
       "    </tr>\n",
       "    <tr>\n",
       "      <th>5</th>\n",
       "      <td>Forward</td>\n",
       "      <td>60.482495</td>\n",
       "      <td>1</td>\n",
       "    </tr>\n",
       "    <tr>\n",
       "      <th>6</th>\n",
       "      <td>Start loop</td>\n",
       "      <td>195.474357</td>\n",
       "      <td>1</td>\n",
       "    </tr>\n",
       "  </tbody>\n",
       "</table>\n",
       "</div>"
      ],
      "text/plain": [
       "        Event    Relative epoch\n",
       "0    Backward    1.121399     1\n",
       "1   Criterion    0.068291     1\n",
       "4    End loop  121.760889     1\n",
       "5     Forward   60.482495     1\n",
       "6  Start loop  195.474357     1"
      ]
     },
     "execution_count": 133,
     "metadata": {},
     "output_type": "execute_result"
    }
   ],
   "source": [
    "df_sum[df_sum['epoch'] == '1']"
   ]
  },
  {
   "cell_type": "code",
   "execution_count": 137,
   "metadata": {},
   "outputs": [
    {
     "data": {
      "text/html": [
       "<div>\n",
       "<style scoped>\n",
       "    .dataframe tbody tr th:only-of-type {\n",
       "        vertical-align: middle;\n",
       "    }\n",
       "\n",
       "    .dataframe tbody tr th {\n",
       "        vertical-align: top;\n",
       "    }\n",
       "\n",
       "    .dataframe thead th {\n",
       "        text-align: right;\n",
       "    }\n",
       "</style>\n",
       "<table border=\"1\" class=\"dataframe\">\n",
       "  <thead>\n",
       "    <tr style=\"text-align: right;\">\n",
       "      <th></th>\n",
       "      <th>Event</th>\n",
       "      <th>Relative</th>\n",
       "      <th>epoch</th>\n",
       "    </tr>\n",
       "  </thead>\n",
       "  <tbody>\n",
       "    <tr>\n",
       "      <th>0</th>\n",
       "      <td>Backward</td>\n",
       "      <td>1.121399</td>\n",
       "      <td>1</td>\n",
       "    </tr>\n",
       "    <tr>\n",
       "      <th>0</th>\n",
       "      <td>Backward</td>\n",
       "      <td>1.168464</td>\n",
       "      <td>2</td>\n",
       "    </tr>\n",
       "    <tr>\n",
       "      <th>0</th>\n",
       "      <td>Backward</td>\n",
       "      <td>1.174321</td>\n",
       "      <td>3</td>\n",
       "    </tr>\n",
       "    <tr>\n",
       "      <th>0</th>\n",
       "      <td>Backward</td>\n",
       "      <td>1.165048</td>\n",
       "      <td>4</td>\n",
       "    </tr>\n",
       "    <tr>\n",
       "      <th>0</th>\n",
       "      <td>Backward</td>\n",
       "      <td>1.181437</td>\n",
       "      <td>5</td>\n",
       "    </tr>\n",
       "    <tr>\n",
       "      <th>0</th>\n",
       "      <td>Backward</td>\n",
       "      <td>1.186759</td>\n",
       "      <td>6</td>\n",
       "    </tr>\n",
       "    <tr>\n",
       "      <th>0</th>\n",
       "      <td>Backward</td>\n",
       "      <td>1.201952</td>\n",
       "      <td>7</td>\n",
       "    </tr>\n",
       "    <tr>\n",
       "      <th>0</th>\n",
       "      <td>Backward</td>\n",
       "      <td>1.186212</td>\n",
       "      <td>8</td>\n",
       "    </tr>\n",
       "    <tr>\n",
       "      <th>0</th>\n",
       "      <td>Backward</td>\n",
       "      <td>1.181523</td>\n",
       "      <td>9</td>\n",
       "    </tr>\n",
       "    <tr>\n",
       "      <th>0</th>\n",
       "      <td>Backward</td>\n",
       "      <td>1.193802</td>\n",
       "      <td>10</td>\n",
       "    </tr>\n",
       "  </tbody>\n",
       "</table>\n",
       "</div>"
      ],
      "text/plain": [
       "      Event  Relative epoch\n",
       "0  Backward  1.121399     1\n",
       "0  Backward  1.168464     2\n",
       "0  Backward  1.174321     3\n",
       "0  Backward  1.165048     4\n",
       "0  Backward  1.181437     5\n",
       "0  Backward  1.186759     6\n",
       "0  Backward  1.201952     7\n",
       "0  Backward  1.186212     8\n",
       "0  Backward  1.181523     9\n",
       "0  Backward  1.193802    10"
      ]
     },
     "execution_count": 137,
     "metadata": {},
     "output_type": "execute_result"
    }
   ],
   "source": [
    "def df_for(for_, df=df_sum):\n",
    "    return df[df['Event'].apply(lambda e: for_ in e)]\n",
    "df_for('Backward')"
   ]
  },
  {
   "cell_type": "code",
   "execution_count": 139,
   "metadata": {},
   "outputs": [
    {
     "data": {
      "text/html": [
       "<div>\n",
       "<style scoped>\n",
       "    .dataframe tbody tr th:only-of-type {\n",
       "        vertical-align: middle;\n",
       "    }\n",
       "\n",
       "    .dataframe tbody tr th {\n",
       "        vertical-align: top;\n",
       "    }\n",
       "\n",
       "    .dataframe thead th {\n",
       "        text-align: right;\n",
       "    }\n",
       "</style>\n",
       "<table border=\"1\" class=\"dataframe\">\n",
       "  <thead>\n",
       "    <tr style=\"text-align: right;\">\n",
       "      <th></th>\n",
       "      <th>Event</th>\n",
       "      <th>Relative</th>\n",
       "      <th>epoch</th>\n",
       "    </tr>\n",
       "  </thead>\n",
       "  <tbody>\n",
       "    <tr>\n",
       "      <th>4</th>\n",
       "      <td>End loop</td>\n",
       "      <td>121.760889</td>\n",
       "      <td>1</td>\n",
       "    </tr>\n",
       "    <tr>\n",
       "      <th>4</th>\n",
       "      <td>End loop</td>\n",
       "      <td>121.604301</td>\n",
       "      <td>2</td>\n",
       "    </tr>\n",
       "    <tr>\n",
       "      <th>4</th>\n",
       "      <td>End loop</td>\n",
       "      <td>121.476732</td>\n",
       "      <td>3</td>\n",
       "    </tr>\n",
       "    <tr>\n",
       "      <th>4</th>\n",
       "      <td>End loop</td>\n",
       "      <td>121.805236</td>\n",
       "      <td>4</td>\n",
       "    </tr>\n",
       "    <tr>\n",
       "      <th>4</th>\n",
       "      <td>End loop</td>\n",
       "      <td>121.570528</td>\n",
       "      <td>5</td>\n",
       "    </tr>\n",
       "    <tr>\n",
       "      <th>4</th>\n",
       "      <td>End loop</td>\n",
       "      <td>121.599942</td>\n",
       "      <td>6</td>\n",
       "    </tr>\n",
       "    <tr>\n",
       "      <th>4</th>\n",
       "      <td>End loop</td>\n",
       "      <td>120.969714</td>\n",
       "      <td>7</td>\n",
       "    </tr>\n",
       "    <tr>\n",
       "      <th>4</th>\n",
       "      <td>End loop</td>\n",
       "      <td>121.313114</td>\n",
       "      <td>8</td>\n",
       "    </tr>\n",
       "    <tr>\n",
       "      <th>4</th>\n",
       "      <td>End loop</td>\n",
       "      <td>122.150156</td>\n",
       "      <td>9</td>\n",
       "    </tr>\n",
       "    <tr>\n",
       "      <th>4</th>\n",
       "      <td>End loop</td>\n",
       "      <td>121.474665</td>\n",
       "      <td>10</td>\n",
       "    </tr>\n",
       "  </tbody>\n",
       "</table>\n",
       "</div>"
      ],
      "text/plain": [
       "      Event    Relative epoch\n",
       "4  End loop  121.760889     1\n",
       "4  End loop  121.604301     2\n",
       "4  End loop  121.476732     3\n",
       "4  End loop  121.805236     4\n",
       "4  End loop  121.570528     5\n",
       "4  End loop  121.599942     6\n",
       "4  End loop  120.969714     7\n",
       "4  End loop  121.313114     8\n",
       "4  End loop  122.150156     9\n",
       "4  End loop  121.474665    10"
      ]
     },
     "execution_count": 139,
     "metadata": {},
     "output_type": "execute_result"
    }
   ],
   "source": [
    "df_for('End')"
   ]
  },
  {
   "cell_type": "code",
   "execution_count": 140,
   "metadata": {},
   "outputs": [
    {
     "data": {
      "text/html": [
       "<div>\n",
       "<style scoped>\n",
       "    .dataframe tbody tr th:only-of-type {\n",
       "        vertical-align: middle;\n",
       "    }\n",
       "\n",
       "    .dataframe tbody tr th {\n",
       "        vertical-align: top;\n",
       "    }\n",
       "\n",
       "    .dataframe thead th {\n",
       "        text-align: right;\n",
       "    }\n",
       "</style>\n",
       "<table border=\"1\" class=\"dataframe\">\n",
       "  <thead>\n",
       "    <tr style=\"text-align: right;\">\n",
       "      <th></th>\n",
       "      <th>Event</th>\n",
       "      <th>Relative</th>\n",
       "      <th>epoch</th>\n",
       "    </tr>\n",
       "  </thead>\n",
       "  <tbody>\n",
       "    <tr>\n",
       "      <th>5</th>\n",
       "      <td>Forward</td>\n",
       "      <td>60.482495</td>\n",
       "      <td>1</td>\n",
       "    </tr>\n",
       "    <tr>\n",
       "      <th>5</th>\n",
       "      <td>Forward</td>\n",
       "      <td>61.910983</td>\n",
       "      <td>2</td>\n",
       "    </tr>\n",
       "    <tr>\n",
       "      <th>5</th>\n",
       "      <td>Forward</td>\n",
       "      <td>63.400217</td>\n",
       "      <td>3</td>\n",
       "    </tr>\n",
       "    <tr>\n",
       "      <th>5</th>\n",
       "      <td>Forward</td>\n",
       "      <td>63.693729</td>\n",
       "      <td>4</td>\n",
       "    </tr>\n",
       "    <tr>\n",
       "      <th>5</th>\n",
       "      <td>Forward</td>\n",
       "      <td>63.774350</td>\n",
       "      <td>5</td>\n",
       "    </tr>\n",
       "    <tr>\n",
       "      <th>5</th>\n",
       "      <td>Forward</td>\n",
       "      <td>63.623479</td>\n",
       "      <td>6</td>\n",
       "    </tr>\n",
       "    <tr>\n",
       "      <th>5</th>\n",
       "      <td>Forward</td>\n",
       "      <td>63.128641</td>\n",
       "      <td>7</td>\n",
       "    </tr>\n",
       "    <tr>\n",
       "      <th>5</th>\n",
       "      <td>Forward</td>\n",
       "      <td>63.479438</td>\n",
       "      <td>8</td>\n",
       "    </tr>\n",
       "    <tr>\n",
       "      <th>5</th>\n",
       "      <td>Forward</td>\n",
       "      <td>63.645172</td>\n",
       "      <td>9</td>\n",
       "    </tr>\n",
       "    <tr>\n",
       "      <th>5</th>\n",
       "      <td>Forward</td>\n",
       "      <td>63.313831</td>\n",
       "      <td>10</td>\n",
       "    </tr>\n",
       "  </tbody>\n",
       "</table>\n",
       "</div>"
      ],
      "text/plain": [
       "     Event   Relative epoch\n",
       "5  Forward  60.482495     1\n",
       "5  Forward  61.910983     2\n",
       "5  Forward  63.400217     3\n",
       "5  Forward  63.693729     4\n",
       "5  Forward  63.774350     5\n",
       "5  Forward  63.623479     6\n",
       "5  Forward  63.128641     7\n",
       "5  Forward  63.479438     8\n",
       "5  Forward  63.645172     9\n",
       "5  Forward  63.313831    10"
      ]
     },
     "execution_count": 140,
     "metadata": {},
     "output_type": "execute_result"
    }
   ],
   "source": [
    "df_for('Forward')"
   ]
  },
  {
   "cell_type": "code",
   "execution_count": 141,
   "metadata": {},
   "outputs": [
    {
     "data": {
      "text/html": [
       "<div>\n",
       "<style scoped>\n",
       "    .dataframe tbody tr th:only-of-type {\n",
       "        vertical-align: middle;\n",
       "    }\n",
       "\n",
       "    .dataframe tbody tr th {\n",
       "        vertical-align: top;\n",
       "    }\n",
       "\n",
       "    .dataframe thead th {\n",
       "        text-align: right;\n",
       "    }\n",
       "</style>\n",
       "<table border=\"1\" class=\"dataframe\">\n",
       "  <thead>\n",
       "    <tr style=\"text-align: right;\">\n",
       "      <th></th>\n",
       "      <th>Event</th>\n",
       "      <th>Relative</th>\n",
       "      <th>epoch</th>\n",
       "    </tr>\n",
       "  </thead>\n",
       "  <tbody>\n",
       "    <tr>\n",
       "      <th>6</th>\n",
       "      <td>Start loop</td>\n",
       "      <td>195.474357</td>\n",
       "      <td>1</td>\n",
       "    </tr>\n",
       "    <tr>\n",
       "      <th>6</th>\n",
       "      <td>Start loop</td>\n",
       "      <td>1030.027789</td>\n",
       "      <td>2</td>\n",
       "    </tr>\n",
       "    <tr>\n",
       "      <th>6</th>\n",
       "      <td>Start loop</td>\n",
       "      <td>1365.159696</td>\n",
       "      <td>3</td>\n",
       "    </tr>\n",
       "    <tr>\n",
       "      <th>6</th>\n",
       "      <td>Start loop</td>\n",
       "      <td>1501.683723</td>\n",
       "      <td>4</td>\n",
       "    </tr>\n",
       "    <tr>\n",
       "      <th>6</th>\n",
       "      <td>Start loop</td>\n",
       "      <td>1531.223236</td>\n",
       "      <td>5</td>\n",
       "    </tr>\n",
       "    <tr>\n",
       "      <th>6</th>\n",
       "      <td>Start loop</td>\n",
       "      <td>1538.300006</td>\n",
       "      <td>6</td>\n",
       "    </tr>\n",
       "    <tr>\n",
       "      <th>6</th>\n",
       "      <td>Start loop</td>\n",
       "      <td>1522.411878</td>\n",
       "      <td>7</td>\n",
       "    </tr>\n",
       "    <tr>\n",
       "      <th>6</th>\n",
       "      <td>Start loop</td>\n",
       "      <td>1557.755526</td>\n",
       "      <td>8</td>\n",
       "    </tr>\n",
       "    <tr>\n",
       "      <th>6</th>\n",
       "      <td>Start loop</td>\n",
       "      <td>1554.391542</td>\n",
       "      <td>9</td>\n",
       "    </tr>\n",
       "    <tr>\n",
       "      <th>6</th>\n",
       "      <td>Start loop</td>\n",
       "      <td>1541.633949</td>\n",
       "      <td>10</td>\n",
       "    </tr>\n",
       "  </tbody>\n",
       "</table>\n",
       "</div>"
      ],
      "text/plain": [
       "        Event     Relative epoch\n",
       "6  Start loop   195.474357     1\n",
       "6  Start loop  1030.027789     2\n",
       "6  Start loop  1365.159696     3\n",
       "6  Start loop  1501.683723     4\n",
       "6  Start loop  1531.223236     5\n",
       "6  Start loop  1538.300006     6\n",
       "6  Start loop  1522.411878     7\n",
       "6  Start loop  1557.755526     8\n",
       "6  Start loop  1554.391542     9\n",
       "6  Start loop  1541.633949    10"
      ]
     },
     "execution_count": 141,
     "metadata": {},
     "output_type": "execute_result"
    }
   ],
   "source": [
    "df_for('Start')"
   ]
  },
  {
   "cell_type": "code",
   "execution_count": 138,
   "metadata": {},
   "outputs": [
    {
     "data": {
      "text/html": [
       "<div>\n",
       "<style scoped>\n",
       "    .dataframe tbody tr th:only-of-type {\n",
       "        vertical-align: middle;\n",
       "    }\n",
       "\n",
       "    .dataframe tbody tr th {\n",
       "        vertical-align: top;\n",
       "    }\n",
       "\n",
       "    .dataframe thead th {\n",
       "        text-align: right;\n",
       "    }\n",
       "</style>\n",
       "<table border=\"1\" class=\"dataframe\">\n",
       "  <thead>\n",
       "    <tr style=\"text-align: right;\">\n",
       "      <th></th>\n",
       "      <th>Event</th>\n",
       "      <th>Relative</th>\n",
       "      <th>epoch</th>\n",
       "    </tr>\n",
       "  </thead>\n",
       "  <tbody>\n",
       "    <tr>\n",
       "      <th>1</th>\n",
       "      <td>Criterion</td>\n",
       "      <td>0.068291</td>\n",
       "      <td>1</td>\n",
       "    </tr>\n",
       "    <tr>\n",
       "      <th>1</th>\n",
       "      <td>Criterion</td>\n",
       "      <td>0.070115</td>\n",
       "      <td>2</td>\n",
       "    </tr>\n",
       "    <tr>\n",
       "      <th>1</th>\n",
       "      <td>Criterion</td>\n",
       "      <td>0.071773</td>\n",
       "      <td>3</td>\n",
       "    </tr>\n",
       "    <tr>\n",
       "      <th>1</th>\n",
       "      <td>Criterion</td>\n",
       "      <td>0.072169</td>\n",
       "      <td>4</td>\n",
       "    </tr>\n",
       "    <tr>\n",
       "      <th>1</th>\n",
       "      <td>Criterion</td>\n",
       "      <td>0.071828</td>\n",
       "      <td>5</td>\n",
       "    </tr>\n",
       "    <tr>\n",
       "      <th>1</th>\n",
       "      <td>Criterion</td>\n",
       "      <td>0.072134</td>\n",
       "      <td>6</td>\n",
       "    </tr>\n",
       "    <tr>\n",
       "      <th>1</th>\n",
       "      <td>Criterion</td>\n",
       "      <td>0.071957</td>\n",
       "      <td>7</td>\n",
       "    </tr>\n",
       "    <tr>\n",
       "      <th>1</th>\n",
       "      <td>Criterion</td>\n",
       "      <td>0.074589</td>\n",
       "      <td>8</td>\n",
       "    </tr>\n",
       "    <tr>\n",
       "      <th>1</th>\n",
       "      <td>Criterion</td>\n",
       "      <td>0.071894</td>\n",
       "      <td>9</td>\n",
       "    </tr>\n",
       "    <tr>\n",
       "      <th>1</th>\n",
       "      <td>Criterion</td>\n",
       "      <td>0.071903</td>\n",
       "      <td>10</td>\n",
       "    </tr>\n",
       "  </tbody>\n",
       "</table>\n",
       "</div>"
      ],
      "text/plain": [
       "       Event  Relative epoch\n",
       "1  Criterion  0.068291     1\n",
       "1  Criterion  0.070115     2\n",
       "1  Criterion  0.071773     3\n",
       "1  Criterion  0.072169     4\n",
       "1  Criterion  0.071828     5\n",
       "1  Criterion  0.072134     6\n",
       "1  Criterion  0.071957     7\n",
       "1  Criterion  0.074589     8\n",
       "1  Criterion  0.071894     9\n",
       "1  Criterion  0.071903    10"
      ]
     },
     "execution_count": 138,
     "metadata": {},
     "output_type": "execute_result"
    }
   ],
   "source": [
    "df_for('Crit')"
   ]
  },
  {
   "cell_type": "code",
   "execution_count": 15,
   "metadata": {},
   "outputs": [
    {
     "ename": "NameError",
     "evalue": "name 'df_sum' is not defined",
     "output_type": "error",
     "traceback": [
      "\u001b[0;31m---------------------------------------------------------------------------\u001b[0m",
      "\u001b[0;31mNameError\u001b[0m                                 Traceback (most recent call last)",
      "\u001b[0;32m<ipython-input-15-5def82e9d78e>\u001b[0m in \u001b[0;36m<module>\u001b[0;34m()\u001b[0m\n\u001b[0;32m----> 1\u001b[0;31m \u001b[0mdf_sum\u001b[0m\u001b[0;34m.\u001b[0m\u001b[0mgroupby\u001b[0m\u001b[0;34m(\u001b[0m\u001b[0;34m'Event'\u001b[0m\u001b[0;34m)\u001b[0m\u001b[0;34m.\u001b[0m\u001b[0msum\u001b[0m\u001b[0;34m(\u001b[0m\u001b[0;34m)\u001b[0m\u001b[0;34m\u001b[0m\u001b[0m\n\u001b[0m",
      "\u001b[0;31mNameError\u001b[0m: name 'df_sum' is not defined"
     ]
    }
   ],
   "source": [
    "df_sum.groupby('Event').sum()"
   ]
  },
  {
   "cell_type": "markdown",
   "metadata": {},
   "source": [
    "## tmp"
   ]
  },
  {
   "cell_type": "code",
   "execution_count": 1,
   "metadata": {},
   "outputs": [
    {
     "ename": "NameError",
     "evalue": "name 'model' is not defined",
     "output_type": "error",
     "traceback": [
      "\u001b[0;31m---------------------------------------------------------------------------\u001b[0m",
      "\u001b[0;31mNameError\u001b[0m                                 Traceback (most recent call last)",
      "\u001b[0;32m<ipython-input-1-1f8a688cae5d>\u001b[0m in \u001b[0;36m<module>\u001b[0;34m()\u001b[0m\n\u001b[0;32m----> 1\u001b[0;31m \u001b[0mmodel\u001b[0m\u001b[0;34m\u001b[0m\u001b[0m\n\u001b[0m",
      "\u001b[0;31mNameError\u001b[0m: name 'model' is not defined"
     ]
    }
   ],
   "source": [
    "model"
   ]
  },
  {
   "cell_type": "code",
   "execution_count": 18,
   "metadata": {},
   "outputs": [],
   "source": [
    "model.cuda()\n",
    "out, output_sizes = model(inputs, input_sizes)"
   ]
  },
  {
   "cell_type": "code",
   "execution_count": 282,
   "metadata": {},
   "outputs": [
    {
     "data": {
      "text/plain": [
       "tensor([[-0.2268,  0.2268],\n",
       "        [-0.5505,  0.5505]], device='cuda:0', grad_fn=<TransposeBackward0>)"
      ]
     },
     "execution_count": 282,
     "metadata": {},
     "output_type": "execute_result"
    }
   ],
   "source": [
    "out"
   ]
  },
  {
   "cell_type": "code",
   "execution_count": 281,
   "metadata": {},
   "outputs": [
    {
     "name": "stdout",
     "output_type": "stream",
     "text": [
      "tensor([1, 1])\n"
     ]
    }
   ],
   "source": [
    "with torch.no_grad():\n",
    "    print(np.argmax(out, axis=1))"
   ]
  },
  {
   "cell_type": "code",
   "execution_count": 259,
   "metadata": {},
   "outputs": [],
   "source": [
    "# import math\n",
    "# from collections import OrderedDict\n",
    "\n",
    "# import torch\n",
    "# import torch.nn as nn\n",
    "# import torch.nn.functional as F\n",
    "# from torch.nn.parameter import Parameter\n",
    "# from torch.autograd import Variable\n",
    "\n",
    "# from models.modules import MaskConv, SequenceWise, BatchRNN, InferenceBatchSoftmax, \\\n",
    "#                     supported_rnns, supported_rnns_inv\n",
    "\n",
    "# class AccentClassifier(nn.Module):\n",
    "#     def __init__(self,\n",
    "#                  labels,\n",
    "#                  audio_conf={}, \n",
    "#                  rnn_hidden_size=800, \n",
    "#                  nb_layers=2, \n",
    "#                  rnn_type=nn.GRU):\n",
    "        \n",
    "#         super(AccentClassifier, self).__init__()\n",
    "\n",
    "#         # metadata\n",
    "#         self._audio_conf = audio_conf\n",
    "#         self._labels = labels\n",
    "#         self._num_classes = len(labels)\n",
    "        \n",
    "#         sample_rate = self._audio_conf.get(\"sample_rate\", 16000)\n",
    "#         window_size = self._audio_conf.get(\"window_size\", 0.02)\n",
    "\n",
    "#         self.conv = MaskConv(nn.Sequential(\n",
    "#             nn.Conv2d(1, 32, kernel_size=(41, 11), stride=(2, 2), padding=(20, 5)),\n",
    "#             nn.BatchNorm2d(32),\n",
    "#             nn.Hardtanh(0, 20, inplace=True),\n",
    "#             nn.Conv2d(32, 32, kernel_size=(21, 11), stride=(2, 1), padding=(10, 5)),\n",
    "#             nn.BatchNorm2d(32),\n",
    "#             nn.Hardtanh(0, 20, inplace=True)\n",
    "#         ))\n",
    "\n",
    "#         # Based on above convolutions and spectrogram size using conv formula (W - F + 2P)/ S+1\n",
    "#         rnn_input_size = int(math.floor((sample_rate * window_size) / 2) + 1)\n",
    "#         rnn_input_size = int(math.floor(rnn_input_size + 2 * 20 - 41) / 2 + 1)\n",
    "#         rnn_input_size = int(math.floor(rnn_input_size + 2 * 10 - 21) / 2 + 1)\n",
    "#         rnn_input_size *= 32\n",
    "\n",
    "#         rnns = []\n",
    "#         rnn = BatchRNN(input_size=rnn_input_size, hidden_size=rnn_hidden_size, rnn_type=rnn_type,\n",
    "#                        bidirectional=True, batch_norm=False)\n",
    "#         rnns.append(('0', rnn))\n",
    "#         for x in range(nb_layers - 1):\n",
    "#             rnn = BatchRNN(input_size=rnn_hidden_size, hidden_size=rnn_hidden_size, rnn_type=rnn_type,\n",
    "#                            bidirectional=True)\n",
    "#             rnns.append(('%d' % (x + 1), rnn))\n",
    "            \n",
    "#         self.rnns = nn.Sequential(OrderedDict(rnns))\n",
    "\n",
    "#         fully_connected = nn.Sequential(\n",
    "#             nn.BatchNorm1d(rnn_hidden_size),\n",
    "#             nn.Linear(rnn_hidden_size, self._num_classes, bias=False)\n",
    "#         )\n",
    "#         self.fc = nn.Sequential(\n",
    "#             SequenceWise(fully_connected),\n",
    "#         )\n",
    "#         self.inference_softmax = InferenceBatchSoftmax()\n",
    "\n",
    "\n",
    "#     def forward(self, x, lengths):\n",
    "#         lengths = lengths.cpu().int()\n",
    "#         output_lengths = self.get_seq_lens(lengths)\n",
    "#         x, _ = self.conv(x, output_lengths)\n",
    "#         sizes = x.size()\n",
    "#         x = x.view(sizes[0], sizes[1] * sizes[2], sizes[3])  # Collapse feature dimension\n",
    "#         x = x.transpose(1, 2).transpose(0, 1).contiguous()  # TxNxH\n",
    "\n",
    "#         for rnn in self.rnns:\n",
    "#             x = rnn(x, output_lengths)\n",
    "\n",
    "#         x = self.fc(x)\n",
    "#         x = x.transpose(0, 1)\n",
    "#         # identity in training mode, softmax in eval mode\n",
    "#         x = self.inference_softmax(x)\n",
    "#         return x, output_lengths\n",
    "    \n",
    "#     def get_seq_lens(self, input_length):\n",
    "#         \"\"\"\n",
    "#         Given a 1D Tensor or Variable containing integer sequence lengths, return a 1D tensor or variable\n",
    "#         containing the size sequences that will be output by the network.\n",
    "#         :param input_length: 1D Tensor\n",
    "#         :return: 1D Tensor scaled by model\n",
    "#         \"\"\"\n",
    "#         seq_len = input_length\n",
    "#         for m in self.conv.modules():\n",
    "#             if type(m) == nn.modules.conv.Conv2d:\n",
    "#                 seq_len = ((seq_len + 2 * m.padding[1] - m.dilation[1] * (m.kernel_size[1] - 1) - 1) / m.stride[1] + 1)\n",
    "#         return seq_len.int()"
   ]
  },
  {
   "cell_type": "code",
   "execution_count": 134,
   "metadata": {},
   "outputs": [
    {
     "data": {
      "text/plain": [
       "AccentClassifier(\n",
       "  (conv): MaskConv(\n",
       "    (seq_module): Sequential(\n",
       "      (0): Conv2d(1, 32, kernel_size=(41, 11), stride=(2, 2), padding=(20, 5))\n",
       "      (1): BatchNorm2d(32, eps=1e-05, momentum=0.1, affine=True, track_running_stats=True)\n",
       "      (2): Hardtanh(min_val=0, max_val=20, inplace)\n",
       "      (3): Conv2d(32, 32, kernel_size=(21, 11), stride=(2, 1), padding=(10, 5))\n",
       "      (4): BatchNorm2d(32, eps=1e-05, momentum=0.1, affine=True, track_running_stats=True)\n",
       "      (5): Hardtanh(min_val=0, max_val=20, inplace)\n",
       "    )\n",
       "  )\n",
       "  (rnns): Sequential(\n",
       "    (0): BatchRNN(\n",
       "      (rnn): GRU(1312, 800, bidirectional=True)\n",
       "    )\n",
       "    (1): BatchRNN(\n",
       "      (batch_norm): SequenceWise (\n",
       "      BatchNorm1d(800, eps=1e-05, momentum=0.1, affine=True, track_running_stats=True))\n",
       "      (rnn): GRU(800, 800, bidirectional=True)\n",
       "    )\n",
       "  )\n",
       "  (fc): Sequential(\n",
       "    (0): SequenceWise (\n",
       "    Sequential(\n",
       "      (0): BatchNorm1d(800, eps=1e-05, momentum=0.1, affine=True, track_running_stats=True)\n",
       "      (1): Linear(in_features=800, out_features=2, bias=False)\n",
       "    ))\n",
       "  )\n",
       "  (inference_softmax): InferenceBatchSoftmax()\n",
       ")"
      ]
     },
     "execution_count": 134,
     "metadata": {},
     "output_type": "execute_result"
    }
   ],
   "source": [
    "model"
   ]
  },
  {
   "cell_type": "code",
   "execution_count": 16,
   "metadata": {},
   "outputs": [],
   "source": [
    "rnn = nn.GRU(10, 20, 2)\n",
    "input_ = torch.randn(5, 3, 10)\n",
    "h0 = torch.randn(2, 3, 20)\n",
    "output, hn = rnn(input_, h0)"
   ]
  },
  {
   "cell_type": "code",
   "execution_count": 15,
   "metadata": {},
   "outputs": [],
   "source": [
    "a = torch.randn(20, 32, 41, 563)\n",
    "b = torch.randn(20, 32, 41, 420)"
   ]
  },
  {
   "cell_type": "code",
   "execution_count": 38,
   "metadata": {},
   "outputs": [],
   "source": [
    "t = a.view(a.size(0), a.size(1) * a.size(2), a.size(3))\n",
    "t = t.transpose(1, 2)\n",
    "t2 = b.view(b.size(0), b.size(1) * b.size(2), b.size(3))\n",
    "t2 = t2.transpose(1, 2)\n",
    "\n",
    "rnn = nn.GRU(32 * 41, 256, 1)\n",
    "output, hn = rnn(t2)"
   ]
  },
  {
   "cell_type": "code",
   "execution_count": 39,
   "metadata": {},
   "outputs": [
    {
     "data": {
      "text/plain": [
       "torch.Size([20, 420, 256])"
      ]
     },
     "execution_count": 39,
     "metadata": {},
     "output_type": "execute_result"
    }
   ],
   "source": [
    "output.size()"
   ]
  },
  {
   "cell_type": "code",
   "execution_count": 76,
   "metadata": {},
   "outputs": [
    {
     "data": {
      "text/plain": [
       "torch.Size([1, 420, 256])"
      ]
     },
     "execution_count": 76,
     "metadata": {},
     "output_type": "execute_result"
    }
   ],
   "source": [
    "hn.size()"
   ]
  },
  {
   "cell_type": "code",
   "execution_count": 83,
   "metadata": {},
   "outputs": [
    {
     "data": {
      "text/plain": [
       "torch.Size([20, 256])"
      ]
     },
     "execution_count": 83,
     "metadata": {},
     "output_type": "execute_result"
    }
   ],
   "source": [
    "output[:, -1].size()"
   ]
  },
  {
   "cell_type": "code",
   "execution_count": 55,
   "metadata": {},
   "outputs": [],
   "source": [
    "t = torch.randn(20, 318, 1312)"
   ]
  },
  {
   "cell_type": "code",
   "execution_count": 68,
   "metadata": {},
   "outputs": [],
   "source": [
    "p = nn.ConstantPad2d((0, 0, 2, 2), 0)"
   ]
  },
  {
   "cell_type": "code",
   "execution_count": 69,
   "metadata": {},
   "outputs": [
    {
     "data": {
      "text/plain": [
       "torch.Size([20, 322, 1312])"
      ]
     },
     "execution_count": 69,
     "metadata": {},
     "output_type": "execute_result"
    }
   ],
   "source": [
    "p(t).size()"
   ]
  },
  {
   "cell_type": "code",
   "execution_count": null,
   "metadata": {},
   "outputs": [],
   "source": [
    "for module in self.seq_module:\n",
    "    x = module(x)\n",
    "    mask = torch.ByteTensor(x.size()).fill_(0)\n",
    "    if x.is_cuda:\n",
    "        mask = mask.cuda()\n",
    "    for i, length in enumerate(lengths):\n",
    "        length = length.item()\n",
    "        if (mask[i].size(2) - length) > 0:\n",
    "            mask[i].narrow(2, length, mask[i].size(2) - length).fill_(1)\n",
    "    x = x.masked_fill(mask, 0)\n",
    "return x, lengths\n"
   ]
  },
  {
   "cell_type": "code",
   "execution_count": 71,
   "metadata": {},
   "outputs": [
    {
     "data": {
      "text/plain": [
       "torch.Size([20, 318, 1312])"
      ]
     },
     "execution_count": 71,
     "metadata": {},
     "output_type": "execute_result"
    }
   ],
   "source": [
    "t.size()"
   ]
  },
  {
   "cell_type": "code",
   "execution_count": 99,
   "metadata": {},
   "outputs": [
    {
     "data": {
      "text/plain": [
       "torch.Size([20, 300, 1312])"
      ]
     },
     "execution_count": 99,
     "metadata": {},
     "output_type": "execute_result"
    }
   ],
   "source": [
    "t = torch.randn(20, 250, 1312)\n",
    "\n",
    "clip = 300\n",
    "if t.size(1) >= clip:\n",
    "    t = t[:, :clip, :]\n",
    "else:\n",
    "    z = torch.zeros(torch.Size((t.size(0), clip - t.size(1), t.size(2))))\n",
    "    z = z.cuda() if t.is_cuda else z\n",
    "    t = torch.cat((t, z), 1)\n",
    "    \n",
    "t.size()"
   ]
  },
  {
   "cell_type": "code",
   "execution_count": 77,
   "metadata": {},
   "outputs": [
    {
     "data": {
      "text/plain": [
       "tensor([2])"
      ]
     },
     "execution_count": 77,
     "metadata": {},
     "output_type": "execute_result"
    }
   ],
   "source": [
    "a = torch.tensor([1, 2, 4])\n",
    "a.narrow()"
   ]
  },
  {
   "cell_type": "code",
   "execution_count": 98,
   "metadata": {},
   "outputs": [
    {
     "data": {
      "text/plain": [
       "torch.Size([20, 300, 1312])"
      ]
     },
     "execution_count": 98,
     "metadata": {},
     "output_type": "execute_result"
    }
   ],
   "source": [
    "t = torch.randn(20, 250, 1312)\n",
    "z = torch.zeros(torch.Size((t.size(0), clip - t.size(1), t.size(2))))\n",
    "torch.cat((t, z), 1).size()"
   ]
  },
  {
   "cell_type": "code",
   "execution_count": 96,
   "metadata": {},
   "outputs": [
    {
     "data": {
      "text/plain": [
       "tensor([[[0., 0., 0.,  ..., 0., 0., 0.],\n",
       "         [0., 0., 0.,  ..., 0., 0., 0.],\n",
       "         [0., 0., 0.,  ..., 0., 0., 0.],\n",
       "         ...,\n",
       "         [0., 0., 0.,  ..., 0., 0., 0.],\n",
       "         [0., 0., 0.,  ..., 0., 0., 0.],\n",
       "         [0., 0., 0.,  ..., 0., 0., 0.]],\n",
       "\n",
       "        [[0., 0., 0.,  ..., 0., 0., 0.],\n",
       "         [0., 0., 0.,  ..., 0., 0., 0.],\n",
       "         [0., 0., 0.,  ..., 0., 0., 0.],\n",
       "         ...,\n",
       "         [0., 0., 0.,  ..., 0., 0., 0.],\n",
       "         [0., 0., 0.,  ..., 0., 0., 0.],\n",
       "         [0., 0., 0.,  ..., 0., 0., 0.]],\n",
       "\n",
       "        [[0., 0., 0.,  ..., 0., 0., 0.],\n",
       "         [0., 0., 0.,  ..., 0., 0., 0.],\n",
       "         [0., 0., 0.,  ..., 0., 0., 0.],\n",
       "         ...,\n",
       "         [0., 0., 0.,  ..., 0., 0., 0.],\n",
       "         [0., 0., 0.,  ..., 0., 0., 0.],\n",
       "         [0., 0., 0.,  ..., 0., 0., 0.]],\n",
       "\n",
       "        ...,\n",
       "\n",
       "        [[0., 0., 0.,  ..., 0., 0., 0.],\n",
       "         [0., 0., 0.,  ..., 0., 0., 0.],\n",
       "         [0., 0., 0.,  ..., 0., 0., 0.],\n",
       "         ...,\n",
       "         [0., 0., 0.,  ..., 0., 0., 0.],\n",
       "         [0., 0., 0.,  ..., 0., 0., 0.],\n",
       "         [0., 0., 0.,  ..., 0., 0., 0.]],\n",
       "\n",
       "        [[0., 0., 0.,  ..., 0., 0., 0.],\n",
       "         [0., 0., 0.,  ..., 0., 0., 0.],\n",
       "         [0., 0., 0.,  ..., 0., 0., 0.],\n",
       "         ...,\n",
       "         [0., 0., 0.,  ..., 0., 0., 0.],\n",
       "         [0., 0., 0.,  ..., 0., 0., 0.],\n",
       "         [0., 0., 0.,  ..., 0., 0., 0.]],\n",
       "\n",
       "        [[0., 0., 0.,  ..., 0., 0., 0.],\n",
       "         [0., 0., 0.,  ..., 0., 0., 0.],\n",
       "         [0., 0., 0.,  ..., 0., 0., 0.],\n",
       "         ...,\n",
       "         [0., 0., 0.,  ..., 0., 0., 0.],\n",
       "         [0., 0., 0.,  ..., 0., 0., 0.],\n",
       "         [0., 0., 0.,  ..., 0., 0., 0.]]])"
      ]
     },
     "execution_count": 96,
     "metadata": {},
     "output_type": "execute_result"
    }
   ],
   "source": [
    "z"
   ]
  },
  {
   "cell_type": "code",
   "execution_count": null,
   "metadata": {},
   "outputs": [],
   "source": []
  }
 ],
 "metadata": {
  "kernelspec": {
   "display_name": "Python 3",
   "language": "python",
   "name": "python3"
  },
  "language_info": {
   "codemirror_mode": {
    "name": "ipython",
    "version": 3
   },
   "file_extension": ".py",
   "mimetype": "text/x-python",
   "name": "python",
   "nbconvert_exporter": "python",
   "pygments_lexer": "ipython3",
   "version": "3.6.5"
  }
 },
 "nbformat": 4,
 "nbformat_minor": 2
}
