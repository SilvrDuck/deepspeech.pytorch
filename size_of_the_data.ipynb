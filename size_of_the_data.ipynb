{
 "cells": [
  {
   "cell_type": "markdown",
   "metadata": {},
   "source": [
    "# Checks the size of the dataset in term of samples"
   ]
  },
  {
   "cell_type": "code",
   "execution_count": 1,
   "metadata": {},
   "outputs": [],
   "source": [
    "# Allows to load modules from parent directory\n",
    "import inspect, sys\n",
    "from os.path import dirname, abspath\n",
    "sys.path.append(dirname(dirname(abspath(inspect.getfile(inspect.currentframe())))))\n",
    "\n",
    "from data.data_loader import AudioDataLoader, SpectrogramAccentDataset, BucketingSampler, DistributedBucketingSampler\n",
    "from data.data_loader import create_binarizer\n",
    "from tqdm import tqdm_notebook as tqdm"
   ]
  },
  {
   "cell_type": "code",
   "execution_count": 52,
   "metadata": {},
   "outputs": [
    {
     "name": "stdout",
     "output_type": "stream",
     "text": [
      "Tot len: 30896\n",
      "0\n",
      "3000\n",
      "6000\n",
      "9000\n",
      "12000\n",
      "15000\n",
      "18000\n",
      "21000\n",
      "24000\n",
      "27000\n",
      "30000\n"
     ]
    }
   ],
   "source": [
    "train_manifest = './data/CommonVoice_dataset/splits/train.csv'\n",
    "labels = \"_'ABCDEFGHIJKLMNOPQRSTUVWXYZ \"\n",
    "accent_binarizer=create_binarizer(train_manifest)\n",
    "audio_conf = {\"sample_rate\": 16000,\n",
    "              \"window_size\": 0.02,\n",
    "              \"window_stride\": 0.01,\n",
    "              \"window\": \"hamming\"}\n",
    "\n",
    "train_dataset = SpectrogramAccentDataset(audio_conf=audio_conf, \n",
    "                                        manifest_filepath=train_manifest, \n",
    "                                        labels=labels,\n",
    "                                        normalize=True, \n",
    "                                        augment=False, \n",
    "                                        accent_binarizer=accent_binarizer,\n",
    "                                        kaldi=False)\n",
    "\n",
    "\n",
    "\n",
    "train_sampler = BucketingSampler(train_dataset, batch_size=1)\n",
    "\n",
    "train_loader = AudioDataLoader(train_dataset,\n",
    "                                num_workers=4, \n",
    "                                batch_sampler=train_sampler)\n",
    "   \n",
    "\n",
    "num_samples = []\n",
    "print('Tot len:', len(train_sampler))\n",
    "for i, (data) in enumerate(train_loader, start=0):\n",
    "            if i % 3000 == 0:\n",
    "                print(i)\n",
    "    \n",
    "            if i == len(train_sampler):\n",
    "                break\n",
    "                \n",
    "            inputs, targets, input_percentages, target_sizes, target_accents = data\n",
    "            input_sizes = input_percentages.mul_(int(inputs.size(3))).int()\n",
    "            num_samples.append(inputs.shape[3])            \n",
    "            "
   ]
  },
  {
   "cell_type": "code",
   "execution_count": 53,
   "metadata": {},
   "outputs": [
    {
     "name": "stdout",
     "output_type": "stream",
     "text": [
      "num utt: 30896\n",
      "tot sam: 12403138\n"
     ]
    }
   ],
   "source": [
    "print('num utt:', len(num_samples))\n",
    "print('tot sam:', sum(num_samples))"
   ]
  },
  {
   "cell_type": "code",
   "execution_count": 55,
   "metadata": {},
   "outputs": [],
   "source": [
    "import numpy as np\n",
    "a = np.array(num_samples)"
   ]
  },
  {
   "cell_type": "code",
   "execution_count": 56,
   "metadata": {},
   "outputs": [
    {
     "data": {
      "text/plain": [
       "151.44958044886553"
      ]
     },
     "execution_count": 56,
     "metadata": {},
     "output_type": "execute_result"
    }
   ],
   "source": [
    "a.std()"
   ]
  },
  {
   "cell_type": "code",
   "execution_count": 59,
   "metadata": {},
   "outputs": [
    {
     "data": {
      "text/plain": [
       "401.44801916105644"
      ]
     },
     "execution_count": 59,
     "metadata": {},
     "output_type": "execute_result"
    }
   ],
   "source": [
    "a.mean()"
   ]
  },
  {
   "cell_type": "code",
   "execution_count": null,
   "metadata": {},
   "outputs": [],
   "source": []
  }
 ],
 "metadata": {
  "kernelspec": {
   "display_name": "Python 3",
   "language": "python",
   "name": "python3"
  },
  "language_info": {
   "codemirror_mode": {
    "name": "ipython",
    "version": 3
   },
   "file_extension": ".py",
   "mimetype": "text/x-python",
   "name": "python",
   "nbconvert_exporter": "python",
   "pygments_lexer": "ipython3",
   "version": "3.6.5"
  }
 },
 "nbformat": 4,
 "nbformat_minor": 2
}
